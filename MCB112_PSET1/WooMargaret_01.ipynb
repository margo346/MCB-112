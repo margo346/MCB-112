{
 "cells": [
  {
   "cell_type": "code",
   "execution_count": 3,
   "id": "81951917-e734-41d0-aced-a3a828d65bc6",
   "metadata": {
    "id": "81951917-e734-41d0-aced-a3a828d65bc6"
   },
   "outputs": [],
   "source": [
    "import numpy as np"
   ]
  },
  {
   "cell_type": "markdown",
   "id": "f4b01192-018f-4db9-beba-a37b19c55978",
   "metadata": {
    "id": "f4b01192-018f-4db9-beba-a37b19c55978"
   },
   "source": [
    "**Question 1**: Write a function to calculate the long ORF coverage fraction, given a DNA sequence as input, a minimum long ORF length, and which set of codons to use as stops."
   ]
  },
  {
   "cell_type": "markdown",
   "id": "9faa52c0-f971-47e9-9b17-2fd834c0ea57",
   "metadata": {},
   "source": [
    "The function <code>reverse_complement</code> takes in a DNA sequence as input, flips the sequence (reverses it such that we can read from 5' to 3' using Python), and then takes the complement using a dictionary of complementary base pairs. This function is defined first because it is called within the function <code>orf_fraction</code> for the purpose of checking the reverse complement  of the genome for long ORFs."
   ]
  },
  {
   "cell_type": "code",
   "execution_count": 4,
   "id": "2bHlA47IPq-h",
   "metadata": {
    "id": "2bHlA47IPq-h"
   },
   "outputs": [],
   "source": [
    "# function to output the reverse complement of the sequence and access the other three frames\n",
    "def reverse_complement(sequence: str) -> str:\n",
    "    # reverse the sequence\n",
    "    sequence = sequence[::-1]\n",
    "\n",
    "    # dictionary of complementary base pairs\n",
    "    complement = {'A': 'T', 'T': 'A', 'C': 'G', 'G': 'C'}\n",
    "\n",
    "    # Use list comprehension to build the reverse complement\n",
    "    reverse_complement_sequence = ''.join([complement[nucleotide] for nucleotide in sequence])\n",
    "\n",
    "    return reverse_complement_sequence"
   ]
  },
  {
   "cell_type": "markdown",
   "id": "a89cd797-4167-4c3d-add8-997f6a98c8ab",
   "metadata": {},
   "source": [
    "<code>orf_fraction</code> takes in a DNA sequence, a list of defined codons to detect as stop codons, and a minimum number of amino acids to use as a benchmark for counting a sequence of uninterrupted DNA as an ORF. Before reading through any frames, variables <code>template_orf_length</code> and <code>reverse_orf_length</code> are initialized to zero, as these variables will be used to keep track of the total lengths of the long ORFs in the template strand and complementary strand, respectively. \n",
    "\n",
    "The function then iterates through the first three frames on the template DNA strand using a for loop. An amino acid counter is initialized to zero (<code>amino_acids = 0</code>) in order to keep track of the number of amino acids counted in the current ORF. A for loop is nested within this larger for loop in order to iterate through every three nucleotides in the DNA sequence, or to examine the DNA sequence one codon/amino acid at a time. \n",
    "\n",
    "An if statement is then used to first check if the codon is a stop codon. If it is the case that the current codon is a stop codon and the current ORF length (tracked by <code>amino_acids</code>) is less than 200 amino acids, the function does not count that section of the DNA as a long ORF; thus <code>amino_acids</code> is reset back to zero and the function starts over in counting amino acids. If it is the case that the current codon is a stop codon and the current ORF length is greater than 200 amino acids, then it is counted as a long ORF. The current ORF length is then added onto <code>template_orf_length</code> in order to keep track of the total ORF coverage for the template frames before resetting <code>amino_acids</code> back to zero. If the current codon is not a stop codon, then the amino acid counter increases by one and the function moves on to check the next codon. \n",
    "\n",
    "This process is then repeated for the reverse complement genome in a for loop below the one described above, with the total ORF coverage for the reverse complement genome being stored in <code>reverse_orf_length</code>. \n",
    "\n",
    "Finally, the total ORF coverage for all six frames is calculated as <code>orf_length = template_orf_length + reverse_orf_length</code>. The long ORF coverage fraction is then computed by dividing this ORF coverage by the length of the original sequence. "
   ]
  },
  {
   "cell_type": "code",
   "execution_count": 5,
   "id": "3d7b1d04-e5e7-4d84-9783-05cecda6e8a1",
   "metadata": {
    "id": "3d7b1d04-e5e7-4d84-9783-05cecda6e8a1"
   },
   "outputs": [],
   "source": [
    "# function to calculate the long ORF coverage fraction\n",
    "def orf_fraction(sequence: str, stop_codons: list, min_ORF: int = 200) -> float:\n",
    "\n",
    "    total_length = len(sequence)\n",
    "\n",
    "    template_orf_length = 0\n",
    "    reverse_orf_length = 0\n",
    "\n",
    "    # read through three frames on the template DNA strand\n",
    "    for i in range(0,3):\n",
    "\n",
    "        # set seq as the current frame being read\n",
    "        seq = sequence[i:]\n",
    "\n",
    "        # start the counter for the number of amino acids on the template strand\n",
    "        amino_acids = 0\n",
    "\n",
    "        # iterate through every three amino acids in the DNA sequence\n",
    "        for j in range(0, len(seq) - 2, 3):\n",
    "            codon = seq[j:j+3]\n",
    "\n",
    "            # if we hit a stop codon, check two cases\n",
    "            if codon in stop_codons:\n",
    "\n",
    "                # if the amino acid count is less than the minimum ORF length, reset amino acid count to zero\n",
    "                if amino_acids < min_ORF:\n",
    "                    amino_acids = 0\n",
    "\n",
    "                # if the amino acid count is greater than the minimum ORF length, add on to the total ORF length\n",
    "                elif amino_acids >= min_ORF:\n",
    "                    template_orf_length += amino_acids * 3\n",
    "\n",
    "                    # reset the amino acid count to zero\n",
    "                    amino_acids = 0\n",
    "\n",
    "            # increase the amino acid count by one if we do not hit a stop codon\n",
    "            else:\n",
    "                amino_acids += 1\n",
    "\n",
    "        if amino_acids >= min_ORF:\n",
    "          template_orf_length += amino_acids * 3\n",
    "\n",
    "    # read through three frames on the reverse complement genome\n",
    "    for i in range (0,3):\n",
    "      # start the counter for the number of amino acids on the complementary strand\n",
    "      reverse_amino_acids = 0\n",
    "      reverse_seq = reverse_complement(sequence)[i:]\n",
    "\n",
    "      # iterate through every three amino acids in the complementary DNA sequence\n",
    "      for k in range(0, len(reverse_seq) - 2, 3):\n",
    "          codon = reverse_seq[k:k+3]\n",
    "\n",
    "          if codon in stop_codons:\n",
    "              if reverse_amino_acids < min_ORF:\n",
    "                  reverse_amino_acids = 0\n",
    "\n",
    "              elif reverse_amino_acids >= min_ORF:\n",
    "                  reverse_orf_length += reverse_amino_acids * 3\n",
    "                  reverse_amino_acids = 0\n",
    "\n",
    "          else:\n",
    "              reverse_amino_acids += 1\n",
    "\n",
    "      if reverse_amino_acids >= min_ORF:\n",
    "          reverse_orf_length += reverse_amino_acids * 3\n",
    "\n",
    "    orf_length = template_orf_length + reverse_orf_length\n",
    "\n",
    "    fraction = round(orf_length / total_length, 3)\n",
    "    return fraction"
   ]
  },
  {
   "cell_type": "markdown",
   "id": "85d01120-c95b-4e7f-8426-5a0461a4d022",
   "metadata": {
    "id": "85d01120-c95b-4e7f-8426-5a0461a4d022"
   },
   "source": [
    "**Question 2**: Write a function to generate a synthetic random DNA sequence of a given GC composition."
   ]
  },
  {
   "cell_type": "markdown",
   "id": "74ec1812-69a3-42e7-a3e2-19d1ac38b51c",
   "metadata": {},
   "source": [
    "Using Python's random module, the function <code>syn_random_DNA</code> generates a synthetic random DNA sequence given a sequence length and composition of GC bases (as a decimal) as inputs. The function selects from the set of four nucleotides using weights that are defined by the GC composition input; it is assumed that G and C split the GC composition input evenly. The function then joins the generated nucleotides and returns the sequence. "
   ]
  },
  {
   "cell_type": "code",
   "execution_count": 6,
   "id": "4c1bedef-5651-48f1-bfed-2cb5fedb6f13",
   "metadata": {
    "id": "4c1bedef-5651-48f1-bfed-2cb5fedb6f13"
   },
   "outputs": [],
   "source": [
    "import random\n",
    "\n",
    "# set of four nucleotides to select from in generating a synthetic random DNA sequence\n",
    "nucleotides = ['G', 'A', 'T', 'C']\n",
    "\n",
    "# function to generate a synthetic random DNA sequence given GC composition and expected sequence length\n",
    "def syn_random_DNA(sequence_length: int, GC_comp: float) -> str:\n",
    "\n",
    "    # set up the fractions of the sequence that are G, A, T, C with the given GC composition as input\n",
    "    G = GC_comp/2\n",
    "    C = GC_comp/2\n",
    "    A = (1 - GC_comp) / 2\n",
    "    T = (1 - GC_comp) / 2\n",
    "\n",
    "    # using the defined weights/fractions, generate a random sequence of length 'sequence_length'\n",
    "    random_sequence = ''.join(random.choices(nucleotides, weights = (G, A, T, C), k = sequence_length))\n",
    "    return random_sequence"
   ]
  },
  {
   "cell_type": "code",
   "execution_count": 7,
   "id": "155b6126-8385-4ee2-9b67-5a93e2d22f90",
   "metadata": {
    "colab": {
     "base_uri": "https://localhost:8080/"
    },
    "id": "155b6126-8385-4ee2-9b67-5a93e2d22f90",
    "outputId": "88669dd4-efe7-4788-b5ae-7c4d5d60f22f",
    "scrolled": true
   },
   "outputs": [
    {
     "name": "stdout",
     "output_type": "stream",
     "text": [
      "GC_comp \t ORF_fraction \n",
      " ----------------------------\n",
      "0.4 \t \t 0.0\n",
      "0.5 \t \t 0.0\n",
      "0.6 \t \t 0.069\n",
      "0.7 \t \t 0.379\n",
      "0.75 \t \t 1.228\n",
      "0.8 \t \t 2.384\n",
      "0.85 \t \t 4.0\n",
      "0.9 \t \t 5.328\n",
      "0.95 \t \t 5.996\n",
      "0.98 \t \t 5.998\n",
      "0.99 \t \t 5.999\n",
      "1 \t \t 5.999\n"
     ]
    }
   ],
   "source": [
    "print('GC_comp', '\\t', 'ORF_fraction','\\n', '-' * 28)\n",
    "\n",
    "# define set of stop codons\n",
    "stop_codons = [\"TAA\", \"TAG\", \"TGA\"]\n",
    "\n",
    "# list of varying GC compositions that we will be testing out\n",
    "compositions = [0.4, 0.5, 0.6, 0.7, 0.75, 0.8, 0.85, 0.9, 0.95, 0.98, 0.99, 1]\n",
    "\n",
    "# iterate through the list of GC compositions and calculate the long ORF coverage fraction for the\n",
    "# corresponding GC composition\n",
    "for GC_comp in compositions:\n",
    "    x = syn_random_DNA(10000, GC_comp)\n",
    "    print(GC_comp, '\\t', '\\t', orf_fraction(x, stop_codons))"
   ]
  },
  {
   "cell_type": "markdown",
   "id": "c9e3e574-48c4-4a20-98b2-2e4a9f05617b",
   "metadata": {},
   "source": [
    "Above, a table containing the long ORF coverage fractions for randomly generated sequences of DNA for varying GC compositions. It is observed that as GC composition increases and approaches 1, the long ORF coverage fraction also increases and approaches 100% coverage, or a value of 6. This makes sense because with a higher percentage of G and C nucleotides in the generated DNA sequence, the less likely that a stop codon will occur, as stop codons are AT-rich. \n",
    "\n",
    "The results of this table support our first hypothesis, that GC% composition could have a strong effect on the probability of seeing a long ORF, and therefore in GC-rich genomes (higher GC% composition) there could be many false positives in detecting ORFs over actual protein-coding genes. This could therefore potentially be the cause of the Lestrade's inflated long-ORF-coverage statistic.\n",
    "\n",
    "At around **70% GC composition**, the long ORF coverage seems to jump dramatically; thus it should be safe to consider long ORFs to be statistically significant under this percentage composition relative to random expectation."
   ]
  },
  {
   "cell_type": "markdown",
   "id": "04bc61cf-bf1e-4747-9bef-475601b22b19",
   "metadata": {
    "id": "04bc61cf-bf1e-4747-9bef-475601b22b19"
   },
   "source": [
    "**Question 3**: Get the 10 phage genomes that Moriarty challenged you with."
   ]
  },
  {
   "cell_type": "markdown",
   "id": "c4101116-9211-4b27-aed6-8e8aab62fe5d",
   "metadata": {
    "id": "c4101116-9211-4b27-aed6-8e8aab62fe5d"
   },
   "source": [
    "**Question 4:** Write a function that takes the name of a sequence file as input, parses the sequence file, and returns the DNA sequence."
   ]
  },
  {
   "cell_type": "markdown",
   "id": "7f418b8e-fc09-43b9-a6ca-26a03766c044",
   "metadata": {},
   "source": [
    "The function <code>converter</code> takes in a file name, opens and reads it as <code>file</code>, and then iterates through every line in the file in order to extract the cleaned DNA sequence. It does this by initializing an empty string named <code>sequence</code>, then using a for loop to iterate through the file's lines. As the genome files are in FASTA format, the DNA sequence is any line that is not the sequence name, or any line that doe not start with a <code> > </code> symbol. If a line starts with a <code> > </code>, then it is skipped, otherwise the line is stripped of whitespace and linebreaks and then added to the string <code>sequence</code>. The final, cleaned DNA sequence is then returned."
   ]
  },
  {
   "cell_type": "code",
   "execution_count": 31,
   "id": "8adb8374-93a7-4ad9-afc6-ba5b2ea55417",
   "metadata": {
    "id": "8adb8374-93a7-4ad9-afc6-ba5b2ea55417"
   },
   "outputs": [],
   "source": [
    "# function that takes file name as input\n",
    "def converter(file_name):\n",
    "\n",
    "    # read and open the file\n",
    "    with open(file_name, 'r') as file:\n",
    "        sequence = ''\n",
    "        for line in file:\n",
    "\n",
    "            # skip over the sequence name\n",
    "            if line.startswith('>'):\n",
    "                continue\n",
    "\n",
    "            # strip whitespace/linebreaks from every line and then add to the sequence string\n",
    "            else:\n",
    "                sequence += line.strip()\n",
    "\n",
    "    # return the cleaned, isolated DNA sequence\n",
    "    return sequence"
   ]
  },
  {
   "cell_type": "markdown",
   "id": "a66acc0b-0ba3-40c1-b5aa-27042a789cb2",
   "metadata": {
    "id": "a66acc0b-0ba3-40c1-b5aa-27042a789cb2"
   },
   "source": [
    "**Question 5:** For each of the 10 genomes, read the sequence in from its FASTA file and calculate its long ORF coverage fraction using the standard genetic code, using TAG recoded as a sense codon (TAA|TGA are stops), and using TGA recoded (TAA|TAG are stops). Output a table with a row for each phage, showing these coverage fractions for each of the three genetic codes, and also showing the ratios for TAG coverage/standard coverage and TGA coverage/standard coverage."
   ]
  },
  {
   "cell_type": "markdown",
   "id": "8ee4e290-2557-4c19-a8dd-7a83f892653e",
   "metadata": {},
   "source": [
    "The code below sets up the process of obtaining our table output by defining the list of files for the 10 genomes that will be read and have calculations/functions run on them. The stop codons and sets of codons for the case of TAG being recoded and for TGA beinng recoded are also defined for later use."
   ]
  },
  {
   "cell_type": "code",
   "execution_count": 34,
   "id": "fc422b83-d9f8-4907-a2d1-e4a8c8bfa63b",
   "metadata": {
    "id": "fc422b83-d9f8-4907-a2d1-e4a8c8bfa63b"
   },
   "outputs": [],
   "source": [
    "# list of genome file names\n",
    "genomes = ['arugula.fa', 'basil.fa', 'chickpea.fa', 'gooseberry.fa', 'huckleberry.fa', 'juniper.fa', 'lentil.fa', 'quince.fa', 'sage.fa', 'tangerine.fa']\n",
    "stop_codons = [\"TAA\", \"TAG\", \"TGA\"]\n",
    "\n",
    "# define the lists for the recoded stop codons as sense codons\n",
    "TAG_recoded = ['TAA', 'TGA']\n",
    "TGA_recoded = ['TAA', 'TAG']"
   ]
  },
  {
   "cell_type": "markdown",
   "id": "8323f689-fef1-4e37-83b4-d758fe12c101",
   "metadata": {},
   "source": [
    "Using a for loop to iterate through each of the 10 genomes, a table including the long ORF coverage fraction for the standard code, TAG recoded as a sense codon, and TGA recoded as a sense codon is generated. Additionally, the last two columns are the ratios of the TAG recoded:standard code and TGA recoded:standard code. "
   ]
  },
  {
   "cell_type": "code",
   "execution_count": 35,
   "id": "3cbfdf0d-4296-4788-af72-9f094abbcb23",
   "metadata": {
    "colab": {
     "base_uri": "https://localhost:8080/"
    },
    "id": "3cbfdf0d-4296-4788-af72-9f094abbcb23",
    "outputId": "7b19ca88-8a28-4f91-b375-41710c869c35"
   },
   "outputs": [
    {
     "name": "stdout",
     "output_type": "stream",
     "text": [
      "Phage Name \t Standard Code \t TAG Recoded \t TGA Recoded \t TAG:standard \t TGA:standard \n",
      "\n",
      "arugula.fa \t 0.373 \t\t 0.395 \t\t 0.737 \t\t 1.059 \t\t 1.976 \t\n",
      "basil.fa \t 0.78 \t\t 0.854 \t\t 0.857 \t\t 1.095 \t\t 1.099 \t\n",
      "chickpea.fa \t 0.842 \t\t 0.883 \t\t 0.919 \t\t 1.049 \t\t 1.091 \t\n",
      "gooseberry.fa \t 0.289 \t\t 0.776 \t\t 0.387 \t\t 2.685 \t\t 1.339 \t\n",
      "huckleberry.fa \t 0.798 \t\t 0.86 \t\t 0.838 \t\t 1.078 \t\t 1.05 \t\n",
      "juniper.fa \t 0.285 \t\t 0.75 \t\t 0.347 \t\t 2.632 \t\t 1.218 \t\n",
      "lentil.fa \t 0.369 \t\t 0.384 \t\t 0.739 \t\t 1.041 \t\t 2.003 \t\n",
      "quince.fa \t 0.793 \t\t 0.873 \t\t 0.883 \t\t 1.101 \t\t 1.113 \t\n",
      "sage.fa \t 0.844 \t\t 0.929 \t\t 0.922 \t\t 1.101 \t\t 1.092 \t\n",
      "tangerine.fa \t 0.697 \t\t 0.741 \t\t 0.755 \t\t 1.063 \t\t 1.083 \t\n"
     ]
    }
   ],
   "source": [
    "print('Phage Name', '\\t', 'Standard Code', '\\t', 'TAG Recoded', '\\t', 'TGA Recoded', '\\t', 'TAG:standard', '\\t', 'TGA:standard', '\\n')\n",
    "\n",
    "for genome in genomes:\n",
    "    sequence = converter(genome)\n",
    "\n",
    "    # # calculate long ORF coverage fraction using the standard genetic code\n",
    "    standard = orf_fraction(sequence, stop_codons)\n",
    "\n",
    "    # # TAG recoded as a sense codon\n",
    "    TAG_fraction = orf_fraction(sequence, TAG_recoded)\n",
    "\n",
    "    # # TGA recoded as a sense codon\n",
    "    TGA_fraction = orf_fraction(sequence, TGA_recoded)\n",
    "\n",
    "    TAG_to_standard = round(TAG_fraction / standard, 3)\n",
    "\n",
    "    TGA_to_standard = round(TGA_fraction / standard, 3)\n",
    "\n",
    "    print(genome, '\\t', standard, '\\t' *2, TAG_fraction, '\\t' * 2, TGA_fraction, '\\t'*2, TAG_to_standard, '\\t'* 2, TGA_to_standard, '\\t')"
   ]
  },
  {
   "cell_type": "markdown",
   "id": "7b602713-f820-4745-8382-8b6220878ae4",
   "metadata": {
    "id": "7b602713-f820-4745-8382-8b6220878ae4"
   },
   "source": [
    "Using fewer stop codons, of course the coverage has to go up a little (because you'll falsely extend some true coding regions, if you don't count their true stop codon as a stop), so those ratios are always > 1. But in recoded phage, the difference is dramatic, and you will be able to identify the two TAG-recoded and two TGA-recoded phage genomes. Which are they?\n"
   ]
  },
  {
   "cell_type": "markdown",
   "id": "AH6PUiTN8cPx",
   "metadata": {
    "id": "AH6PUiTN8cPx"
   },
   "source": [
    "**Gooseberry and juniper are TAG-recoded, and arugula and lentil are TGA-recoded.** For the aforementioned recoded phages, the ratios are double that of the other genomes within the same column. \n",
    "\n",
    "Phages would have higher coverage because all of their DNA is rich with information -- essentially, much of their genomes are protein-coding, so higher ORF coverage is expected. This jump in TAG:standard and TGA:standard ratios (for the above phages) compared to the other phages points to the likely conclusion that they are TAG-recoded and TGA-recoded, respectively. This supports our second hypothesis, which is that using the standard genetic code to complete a long ORF coverage analysis would result in a lower ORF coverage fraction."
   ]
  }
 ],
 "metadata": {
  "colab": {
   "provenance": []
  },
  "kernelspec": {
   "display_name": "Python 3 (ipykernel)",
   "language": "python",
   "name": "python3"
  },
  "language_info": {
   "codemirror_mode": {
    "name": "ipython",
    "version": 3
   },
   "file_extension": ".py",
   "mimetype": "text/x-python",
   "name": "python",
   "nbconvert_exporter": "python",
   "pygments_lexer": "ipython3",
   "version": "3.12.5"
  }
 },
 "nbformat": 4,
 "nbformat_minor": 5
}
