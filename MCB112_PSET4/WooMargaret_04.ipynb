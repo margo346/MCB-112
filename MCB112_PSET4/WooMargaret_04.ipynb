{
 "cells": [
  {
   "cell_type": "code",
   "execution_count": 35,
   "id": "776f1bd4-f105-4b5a-b0e7-fe40683e33b5",
   "metadata": {},
   "outputs": [],
   "source": [
    "import numpy as np\n",
    "import matplotlib.pyplot as plt\n",
    "import pandas as pd\n",
    "import seaborn as sns\n",
    "\n",
    "%matplotlib inline"
   ]
  },
  {
   "cell_type": "markdown",
   "id": "21790664-bc26-4110-9e2e-918eb2f27ade",
   "metadata": {},
   "source": [
    "**Question 1:** Implement this global alignment model. "
   ]
  },
  {
   "cell_type": "code",
   "execution_count": 36,
   "id": "232ee629-ecf1-4cb1-8a3a-2318d8fab187",
   "metadata": {},
   "outputs": [],
   "source": [
    "# use the examples from the hint as the actual and observed read\n",
    "actual_sequence = 'TCACCTACCGCGGTCGGCGCGTCTTCGGCCCG'\n",
    "observed_read = 'ACACCACCGCGGGTGGCGCGCCCCCGGCTCCG'\n",
    "\n",
    "# set up score matrix\n",
    "score_matrix = np.array([[1.85, -2.91, -2.91, -2.91], # A\n",
    "                     [-2.91, 1.85, -2.91, -2.91], # C\n",
    "                     [-2.91, -2.91, 1.85, -2.91], # G\n",
    "                     [0, 0, 0, 0]]) # T\n",
    "\n",
    "# set up a dictionary to reference the four nucleotides\n",
    "nts = {\"A\": 0, \"C\": 1, \"G\": 2, \"T\": 3}"
   ]
  },
  {
   "cell_type": "markdown",
   "id": "695c62c0-8d32-414d-b3df-51e7ab39223f",
   "metadata": {},
   "source": [
    "Below is my function for the global alignment model, which takes in an actual sequence, an observed read, and a gap score. It initializes a matrix of zeros, then initializes the first column and first row with the gap_score * position for T's that occur at the start of the sequence; otherwise, the values are set to negative infinity at the first instance of a non-T read. Then, the function iterates through the pair and builds the current optimal alignment of prefix X1..Xi to Y1..Yj. The function then returns the optimal global alignment score."
   ]
  },
  {
   "cell_type": "code",
   "execution_count": 37,
   "id": "74971ce4-a746-42c2-9802-0817fa9c7ec1",
   "metadata": {},
   "outputs": [],
   "source": [
    "def align_global(actual, read, gap_score):\n",
    "\n",
    "    L = len(actual) # X\n",
    "    M = len(read) # Y\n",
    "\n",
    "    # initialization of alignment matrix\n",
    "    S = np.zeros((L+1,M+1))\n",
    "\n",
    "    # first position (top left) is 0\n",
    "    S[0,0] = 0\n",
    "\n",
    "    # actual (first column of matrix S)\n",
    "    for position in range(1, L+1):\n",
    "        base = actual[position-1]\n",
    "\n",
    "        # penalize by gap_score if there is a T\n",
    "        if base == 'T':\n",
    "            S[position, 0] = gap_score * position\n",
    "        else:\n",
    "            S[position, 0] = -np.inf\n",
    "            # set the rest of the column to negative infinity after the first non-'T' nucleotide\n",
    "            S[position+1:, 0] = -np.inf\n",
    "            break\n",
    "\n",
    "    # read (first row of matrix S)\n",
    "    for position in range(1, M+1):\n",
    "        base = read[position-1]\n",
    "\n",
    "        # penalize by gap_score if there is a T\n",
    "        if base == 'T':\n",
    "            S[0, position] = gap_score * position\n",
    "        else:\n",
    "            S[0, position] = -np.inf\n",
    "            # set the rest of the row to negative infinity after the first non-'T' nucleotide\n",
    "            S[0, position+1:] = -np.inf\n",
    "            break\n",
    "            \n",
    "    for i in range(1, L+1):\n",
    "        for j in range(1, M+1):\n",
    "            # insertions allowed only if read[j-1] is 'T'\n",
    "            if read[j-1] == 'T':\n",
    "                insert = S[i, j-1] + gap_score\n",
    "            else:\n",
    "                insert = S[i, j-1]-np.inf  # disallow insertion\n",
    "\n",
    "            # deletions allowed only if actual[i-1] is 'T'\n",
    "            if actual[i-1] == 'T':\n",
    "                delete = S[i-1, j] + gap_score\n",
    "            else:\n",
    "                delete = S[i-1, j]-np.inf  # disallow deletion\n",
    "\n",
    "            # diagonals: match/mismatch case\n",
    "            x = nts[actual[i-1]]\n",
    "            y = nts[read[j-1]]\n",
    "            match = S[i-1, j-1] + score_matrix[x][y]\n",
    "\n",
    "            # update the score in the matrix\n",
    "            S[i, j] = max(insert, delete, match)\n",
    "\n",
    "    return S[L, M]"
   ]
  },
  {
   "cell_type": "code",
   "execution_count": 38,
   "id": "cac378d3-88fa-4c34-8652-a38c7e398d23",
   "metadata": {
    "scrolled": true
   },
   "outputs": [
    {
     "data": {
      "text/plain": [
       "np.float64(33.34000000000001)"
      ]
     },
     "execution_count": 38,
     "metadata": {},
     "output_type": "execute_result"
    }
   ],
   "source": [
    "# test our gap score alignment function on the hint sequences\n",
    "align_global(actual_sequence, observed_read, -5)"
   ]
  },
  {
   "cell_type": "markdown",
   "id": "0e437916-d810-47be-9d54-0377d600a657",
   "metadata": {},
   "source": [
    "This matches our score of 33.34 from the problem set page."
   ]
  },
  {
   "cell_type": "markdown",
   "id": "c7dc7175-775f-44cf-884f-4ebbc7337e62",
   "metadata": {},
   "source": [
    "**Question 2:** Check that the -5 gap score seems reasonable."
   ]
  },
  {
   "cell_type": "code",
   "execution_count": 39,
   "id": "396db778-ca40-4601-b41e-6238fb1a175d",
   "metadata": {},
   "outputs": [],
   "source": [
    "import random\n",
    "nucleotides = ['A', 'C', 'G', 'T']"
   ]
  },
  {
   "cell_type": "code",
   "execution_count": 40,
   "id": "e8fcdb0d-372c-4c4d-a383-e70ffb639a15",
   "metadata": {},
   "outputs": [],
   "source": [
    "error_process = {\n",
    "    'A': {'A': 0.9, 'C': 0.03, 'G': 0.03, 'T': 0.03},\n",
    "    'C': {'A': 0.03, 'C': 0.9, 'G': 0.03, 'T': 0.03},\n",
    "    'G': {'A': 0.03, 'C': 0.03, 'G': 0.9, 'T': 0.03},\n",
    "    'T': {'A': 0.25, 'C': 0.25, 'G': 0.25, 'T': 0.25}\n",
    "}\n",
    "\n",
    "# function to use the probabilistic model error and generate a simulated read\n",
    "def sim_read(actual):\n",
    "    # initialize empty list for our observed read\n",
    "    read = []\n",
    "\n",
    "    # implement the probabilistic error model\n",
    "    for base in actual:\n",
    "        if base == 'T' and random.random() < 0.03125:  # 3.125% deletion chance\n",
    "            # 'T' deletion\n",
    "            continue\n",
    "        if random.random() < 0.03125: # 3.125% insertion chance\n",
    "            # append the 'T' to the list \n",
    "            read.append('T')\n",
    "        # utilize the given error process matrix to weight the random generator\n",
    "        else:\n",
    "            observed_base = random.choices(population=['A', 'C', 'G', 'T'],\n",
    "                                           # input weights\n",
    "                                           weights=[error_process[base]['A'], error_process[base]['C'], \n",
    "                                           error_process[base]['G'], error_process[base]['T']])[0]\n",
    "            # append the generated base to the list \n",
    "            read.append(observed_base)\n",
    "\n",
    "    read_pos = ''.join(read)\n",
    "\n",
    "    # ensure that the reads are all 32 nucleotides long before returning the final read\n",
    "    # this utilizes the same error process as above!\n",
    "    if len(read_pos) < 32:\n",
    "        nts_left = 32 - len(read_pos)\n",
    "        for i in range(1, nts_left):\n",
    "            if random.random() < 0.03125: \n",
    "                read.append('T')\n",
    "            else:\n",
    "                observed_base = random.choices(population=['A', 'C', 'G', 'T'],\n",
    "                                               # input weights\n",
    "                                               weights=[error_process[base]['A'], error_process[base]['C'], \n",
    "                                               error_process[base]['G'], error_process[base]['T']])[0]\n",
    "                read.append(observed_base)\n",
    "    read_pos = ''.join(read)\n",
    "    return read_pos"
   ]
  },
  {
   "cell_type": "code",
   "execution_count": 41,
   "id": "a07a85db-799f-430b-b1a0-a4f0eddf8c34",
   "metadata": {},
   "outputs": [],
   "source": [
    "# initialize different gap score choices\n",
    "gap_score_choices = [0, -2, -4, -5, -6, -8, -10]"
   ]
  },
  {
   "cell_type": "code",
   "execution_count": 42,
   "id": "bb169f2b-1b17-4ae7-b1ca-9765201816df",
   "metadata": {
    "scrolled": true
   },
   "outputs": [],
   "source": [
    "# initialize an empty list to store the mean global optimal alignment scores for a given gap score\n",
    "positive_means = []\n",
    "\n",
    "# length of the sequence\n",
    "length = 32\n",
    "\n",
    "# iterate through the gap score choices\n",
    "for gap_score in gap_score_choices:\n",
    "    # initialize an empty list to store all of the global optimal alignment scores for a given gap score\n",
    "    positive_control_scores = []\n",
    "\n",
    "    # generate 2000 positive simulated pairs\n",
    "    for i in range(2000):\n",
    "        # generate our actual positive control sequence (randomly)\n",
    "        actual_pos = ''.join(random.choices(nucleotides, k = length))\n",
    "\n",
    "        # generate a read using the probabilistic error model\n",
    "        read_pos = sim_read(actual_pos)\n",
    "\n",
    "        # calculate the optimal global alignment score between the actual sequence and the observed read\n",
    "        score = align_global(actual_pos, read_pos, gap_score)\n",
    "\n",
    "        positive_control_scores.append(score)\n",
    "    \n",
    "    # take the average of all of the global alignment scores foor a given gap score\n",
    "    mean_score = np.mean(positive_control_scores)\n",
    "\n",
    "    # store the mean in 'positive_means'\n",
    "    positive_means.append(mean_score)"
   ]
  },
  {
   "cell_type": "code",
   "execution_count": 43,
   "id": "02ca1478-25d5-439f-8aae-a42cf875f7a2",
   "metadata": {},
   "outputs": [],
   "source": [
    "# negative control alignment score averages\n",
    "negative_means = []\n",
    "\n",
    "# length of the sequence\n",
    "length = 32\n",
    "\n",
    "# iterate through the gap score choices\n",
    "for gap_score in gap_score_choices:\n",
    "\n",
    "    # initialize an empty list to store all of the global optimal alignment scores for a given gap score\n",
    "    negative_control_scores = []\n",
    "\n",
    "    # generate 2000 negative simulated pairs, randomly \n",
    "    for i in range(2000):\n",
    "        neg_1 = ''.join(random.choices(nucleotides, k = length))\n",
    "        neg_2 = ''.join(random.choices(nucleotides, k = length))\n",
    "\n",
    "        # calculate the global alignment score between the pair of negative controls\n",
    "        score = align_global(neg_1, neg_2, gap_score)\n",
    "        negative_control_scores.append(score)\n",
    "    mean_score = np.mean(negative_control_scores)\n",
    "    negative_means.append(mean_score)"
   ]
  },
  {
   "cell_type": "code",
   "execution_count": 44,
   "id": "37a2c464-1f02-4192-b11c-7085cc30855d",
   "metadata": {},
   "outputs": [
    {
     "data": {
      "text/html": [
       "<div>\n",
       "<style scoped>\n",
       "    .dataframe tbody tr th:only-of-type {\n",
       "        vertical-align: middle;\n",
       "    }\n",
       "\n",
       "    .dataframe tbody tr th {\n",
       "        vertical-align: top;\n",
       "    }\n",
       "\n",
       "    .dataframe thead th {\n",
       "        text-align: right;\n",
       "    }\n",
       "</style>\n",
       "<table border=\"1\" class=\"dataframe\">\n",
       "  <thead>\n",
       "    <tr style=\"text-align: right;\">\n",
       "      <th></th>\n",
       "      <th>gap_score</th>\n",
       "      <th>positive_control_mean</th>\n",
       "      <th>negative_control_mean</th>\n",
       "      <th>difference</th>\n",
       "    </tr>\n",
       "  </thead>\n",
       "  <tbody>\n",
       "    <tr>\n",
       "      <th>0</th>\n",
       "      <td>0</td>\n",
       "      <td>31.976970</td>\n",
       "      <td>-16.801055</td>\n",
       "      <td>48.778025</td>\n",
       "    </tr>\n",
       "    <tr>\n",
       "      <th>1</th>\n",
       "      <td>-2</td>\n",
       "      <td>30.336655</td>\n",
       "      <td>-28.420200</td>\n",
       "      <td>58.756855</td>\n",
       "    </tr>\n",
       "    <tr>\n",
       "      <th>2</th>\n",
       "      <td>-4</td>\n",
       "      <td>29.560085</td>\n",
       "      <td>-34.994850</td>\n",
       "      <td>64.554935</td>\n",
       "    </tr>\n",
       "    <tr>\n",
       "      <th>3</th>\n",
       "      <td>-5</td>\n",
       "      <td>29.553245</td>\n",
       "      <td>-36.120040</td>\n",
       "      <td>65.673285</td>\n",
       "    </tr>\n",
       "    <tr>\n",
       "      <th>4</th>\n",
       "      <td>-6</td>\n",
       "      <td>29.357630</td>\n",
       "      <td>-37.610760</td>\n",
       "      <td>66.968390</td>\n",
       "    </tr>\n",
       "    <tr>\n",
       "      <th>5</th>\n",
       "      <td>-8</td>\n",
       "      <td>28.487400</td>\n",
       "      <td>-39.735245</td>\n",
       "      <td>68.222645</td>\n",
       "    </tr>\n",
       "    <tr>\n",
       "      <th>6</th>\n",
       "      <td>-10</td>\n",
       "      <td>28.071125</td>\n",
       "      <td>-40.645115</td>\n",
       "      <td>68.716240</td>\n",
       "    </tr>\n",
       "  </tbody>\n",
       "</table>\n",
       "</div>"
      ],
      "text/plain": [
       "   gap_score  positive_control_mean  negative_control_mean  difference\n",
       "0          0              31.976970             -16.801055   48.778025\n",
       "1         -2              30.336655             -28.420200   58.756855\n",
       "2         -4              29.560085             -34.994850   64.554935\n",
       "3         -5              29.553245             -36.120040   65.673285\n",
       "4         -6              29.357630             -37.610760   66.968390\n",
       "5         -8              28.487400             -39.735245   68.222645\n",
       "6        -10              28.071125             -40.645115   68.716240"
      ]
     },
     "execution_count": 44,
     "metadata": {},
     "output_type": "execute_result"
    }
   ],
   "source": [
    "# create a dataframe in order to view all of the information side by side\n",
    "# columns: gap score, mean of the positive controls, mean of the negative controls, difference between the means\n",
    "df = pd.DataFrame(columns=['gap_score', 'positive_control_mean', 'negative_control_mean', 'difference'])\n",
    "df['gap_score'] = gap_score_choices\n",
    "df['negative_control_mean'] = negative_means\n",
    "df['positive_control_mean'] = positive_means\n",
    "df['difference'] = df['positive_control_mean'] - df['negative_control_mean'] \n",
    "df"
   ]
  },
  {
   "cell_type": "markdown",
   "id": "56531f08-74a4-469b-826f-891cb03e5f19",
   "metadata": {},
   "source": [
    "**Answer:** We want to aim for a significant difference in the means between the positive and negative controls. We would not want to choose -10 as a gap score penalty, because this is a harsh penalty; if we are too harsh on an insertion, we are going to be very strict on alignment and therefore will accrue too many mismatch penalties. If we are too soft on alignment, we won't accumulate enough penalties to get to a score. This changes with the probability of insertion/deletion given: for instance, we would likely be more forgiving in allowing insertions or deletions if there is a higher probability of them occurring. Therefore, -5 would be the best choice."
   ]
  },
  {
   "cell_type": "markdown",
   "id": "37b60895-1790-4b47-8859-c47a4f786a27",
   "metadata": {},
   "source": [
    "**Question 3:** Implement the alignment model for genome scanning."
   ]
  },
  {
   "cell_type": "code",
   "execution_count": 28,
   "id": "d8493810-3d5d-4a1c-b4ac-98cb21a86537",
   "metadata": {},
   "outputs": [],
   "source": [
    "# alignment function with modified recursion and tracking best score's position\n",
    "def align_local(actual, read, gap_score):\n",
    "    \n",
    "    L = len(actual)  \n",
    "    M = len(read)    \n",
    "\n",
    "    # initialize the alignment matrix\n",
    "    S = np.zeros((L+1, M+1))\n",
    "\n",
    "    # first position (top left) is 0, and we allow alignment to start anywhere (local alignment)\n",
    "    S[1:, 0] = 0     # change initialization to allow alignment to start anywhere along 'actual'\n",
    "    S[0, 1:] = 0     # change initialization to allow alignment to start anywhere along 'read'\n",
    "\n",
    "    # initialize 'best_score' variable to track the best score and its position\n",
    "    best_score = 0\n",
    "    best_pos = (0, 0)  # initialize coordinates for the position where the best score is found\n",
    "\n",
    "    # recursion step to fill the matrix\n",
    "    for i in range(1, L+1):\n",
    "        for j in range(1, M+1):\n",
    "            # insertions allowed only if read[j-1] is 'T'\n",
    "            if read[j-1] == 'T':\n",
    "                insert = S[i, j-1] + gap_score\n",
    "            else:\n",
    "                insert = S[i, j-1]-np.inf  # disallow insertion\n",
    "\n",
    "            # deletions allowed only if actual[i-1] is 'T'\n",
    "            if actual[i-1] == 'T':\n",
    "                delete = S[i-1, j] + gap_score\n",
    "            else:\n",
    "                delete = S[i-1, j]-np.inf  # disallow deletion\n",
    "\n",
    "            # diagonals: match/mismatch case\n",
    "            x = nts[actual[i-1]]\n",
    "            y = nts[read[j-1]]\n",
    "            match = S[i-1, j-1] + score_matrix[x][y]\n",
    "\n",
    "            # update the score in the matrix; allow alignment to start anywhere (hence max with 0)\n",
    "            S[i, j] = max(0, insert, delete, match)\n",
    "\n",
    "            # update best score and its position\n",
    "            if S[i, j] > best_score:\n",
    "                best_score = S[i, j]\n",
    "                best_pos = (i, j)\n",
    "\n",
    "    # termination: the best score, and the position of the best score\n",
    "    return best_score, best_pos"
   ]
  },
  {
   "cell_type": "markdown",
   "id": "b0e9ae87-a40d-4467-bcc4-96cef429374d",
   "metadata": {},
   "source": [
    "**Question 4:** Demonstrate proof of principle."
   ]
  },
  {
   "cell_type": "code",
   "execution_count": 29,
   "id": "201bb59c-c7bc-4c53-ab15-451404f36a86",
   "metadata": {},
   "outputs": [],
   "source": [
    "# function to convert FASTA file to a string\n",
    "def converter(file_name):\n",
    "\n",
    "    # read and open the file\n",
    "    with open(file_name, 'r') as file:\n",
    "        sequence = ''\n",
    "        for line in file:\n",
    "\n",
    "            # skip over the sequence name\n",
    "            if line.startswith('>'):\n",
    "                continue\n",
    "\n",
    "            # strip whitespace/linebreaks from every line and then add to the sequence string\n",
    "            else:\n",
    "                sequence += line.strip()\n",
    "\n",
    "    # return the cleaned, isolated DNA sequence\n",
    "    return sequence"
   ]
  },
  {
   "cell_type": "code",
   "execution_count": 30,
   "id": "f3c52bda-1eeb-4275-869c-fa18e4d7a797",
   "metadata": {},
   "outputs": [],
   "source": [
    "# convert the three files and store them in their respective names\n",
    "citius = converter('Citius.txt')\n",
    "tpa4 = converter('TPA4.txt')\n",
    "vulture = converter('Vulture.txt')\n",
    "\n",
    "# set our example read and gap score\n",
    "example_read = 'GCAGCGGAGGAACCAGACATACTGACGAGCCGT'\n",
    "gap_score = -5"
   ]
  },
  {
   "cell_type": "markdown",
   "id": "a4cd5db5-ed61-4e53-aa38-de65b0c66eff",
   "metadata": {},
   "source": [
    "Below, we use the <code>align_local</code> function to search each genome with the 'GCAGCGGAGGAACCAGACATACTGACGAGCCGT' example read and return the best score and position of the best score in each of the three genomes."
   ]
  },
  {
   "cell_type": "code",
   "execution_count": 31,
   "id": "413d9c10-8b81-4b2f-8640-13b7a91d748f",
   "metadata": {},
   "outputs": [
    {
     "data": {
      "text/plain": [
       "(np.float64(33.10000000000002), (23901, 32))"
      ]
     },
     "execution_count": 31,
     "metadata": {},
     "output_type": "execute_result"
    }
   ],
   "source": [
    "align_local(citius, example_read, gap_score)"
   ]
  },
  {
   "cell_type": "code",
   "execution_count": 13,
   "id": "6efb7af2-6b61-4638-8a20-844c6104465e",
   "metadata": {},
   "outputs": [
    {
     "data": {
      "text/plain": [
       "(np.float64(21.140000000000004), (5810, 18))"
      ]
     },
     "execution_count": 13,
     "metadata": {},
     "output_type": "execute_result"
    }
   ],
   "source": [
    "align_local(tpa4, example_read, gap_score)"
   ]
  },
  {
   "cell_type": "code",
   "execution_count": 14,
   "id": "2a61a2a5-d6ce-45ed-a631-1ae0f62c0775",
   "metadata": {},
   "outputs": [
    {
     "data": {
      "text/plain": [
       "(np.float64(17.439999999999998), (34565, 18))"
      ]
     },
     "execution_count": 14,
     "metadata": {},
     "output_type": "execute_result"
    }
   ],
   "source": [
    "align_local(vulture, example_read, gap_score)"
   ]
  },
  {
   "cell_type": "markdown",
   "id": "09a66977-3244-4196-a00a-3c76431eb367",
   "metadata": {},
   "source": [
    "**Answer:** It appears that Citius is the genome that the read 'GCAGCGGAGGAACCAGACATACTGACGAGCCGT' came from, which we can conclude after seeing that it has the highest best alignment score (33.1) from the Citius genome. The end position of the read is (23901, 32)."
   ]
  },
  {
   "cell_type": "code",
   "execution_count": 47,
   "id": "bcda5ef4-d2e4-4bad-9414-c4cc123c5ccc",
   "metadata": {},
   "outputs": [
    {
     "name": "stdout",
     "output_type": "stream",
     "text": [
      "The watermark extension is already loaded. To reload it, use:\n",
      "  %reload_ext watermark\n",
      "Python implementation: CPython\n",
      "Python version       : 3.12.5\n",
      "IPython version      : 8.27.0\n",
      "\n",
      "numpy     : 2.1.1\n",
      "matplotlib: 3.9.2\n",
      "seaborn   : 0.13.2\n",
      "pandas    : 2.2.2\n",
      "jupyter   : 1.1.1\n",
      "\n",
      "Compiler    : Clang 16.0.6 \n",
      "OS          : Darwin\n",
      "Release     : 21.6.0\n",
      "Machine     : x86_64\n",
      "Processor   : i386\n",
      "CPU cores   : 4\n",
      "Architecture: 64bit\n",
      "\n"
     ]
    }
   ],
   "source": [
    "%load_ext watermark\n",
    "%watermark -v -m -p numpy,matplotlib,seaborn,pandas,jupyter"
   ]
  }
 ],
 "metadata": {
  "kernelspec": {
   "display_name": "Python 3 (ipykernel)",
   "language": "python",
   "name": "python3"
  },
  "language_info": {
   "codemirror_mode": {
    "name": "ipython",
    "version": 3
   },
   "file_extension": ".py",
   "mimetype": "text/x-python",
   "name": "python",
   "nbconvert_exporter": "python",
   "pygments_lexer": "ipython3",
   "version": "3.12.5"
  }
 },
 "nbformat": 4,
 "nbformat_minor": 5
}
