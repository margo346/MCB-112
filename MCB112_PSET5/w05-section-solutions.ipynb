{
 "cells": [
  {
   "cell_type": "markdown",
   "metadata": {},
   "source": [
    "# Section 4: Intro to Probability\n",
    "Notes by Gloria Ha (2019),  Mary Richardson (2020), and Colin Hemez (2021)"
   ]
  },
  {
   "cell_type": "code",
   "execution_count": 1,
   "metadata": {},
   "outputs": [],
   "source": [
    "import numpy as np\n",
    "import matplotlib.pyplot as plt\n",
    "\n",
    "%matplotlib inline"
   ]
  },
  {
   "cell_type": "markdown",
   "metadata": {},
   "source": [
    "### Exercises\n",
    "\n",
    "Now that we've gone over how to do this theoretically, let's try it on some data!  You can download the data at these links: [sleek_data.txt](sleek_data.txt) and [fluffy_data.txt](fluffy_data.txt).  Let's take a look at the *sleek* data file."
   ]
  },
  {
   "cell_type": "code",
   "execution_count": 2,
   "metadata": {},
   "outputs": [
    {
     "name": "stdout",
     "output_type": "stream",
     "text": [
      "head: sleek_data.txt: No such file or directory\n"
     ]
    }
   ],
   "source": [
    "! head sleek_data.txt"
   ]
  },
  {
   "cell_type": "markdown",
   "metadata": {},
   "source": [
    "Looks like some sequences of 'r' and 's' of varying length!  The fluffy dataset is similar.  Note that each file has 1000 sequences.  We can now load in the data into lists (so we'll have lists of strings)."
   ]
  },
  {
   "cell_type": "code",
   "execution_count": 3,
   "metadata": {},
   "outputs": [],
   "source": [
    "# Initialize sleek and fluffy data lists\n",
    "sleek_data = []\n",
    "fluffy_data = []\n",
    "\n",
    "# Load data from files\n",
    "with open('sleek_data.txt') as sleek_file:\n",
    "    for line in sleek_file:\n",
    "        sleek_data.append(line[:-1])\n",
    "        \n",
    "with open('fluffy_data.txt') as fluffy_file:\n",
    "    for line in fluffy_file:\n",
    "        fluffy_data.append(line[:-1])"
   ]
  },
  {
   "cell_type": "markdown",
   "metadata": {},
   "source": [
    "### Exercise 1: See if you can use a simple zero order method to differentiate the birdsongs\n",
    "\n",
    "See if you can use a simple scoring algorithm (+1 for 's' and -1 for 'r', for example) on the *sleek* and *fluffy* data to differentiate the sequences. \n",
    "\n",
    "I would recommend keeping two different arrays of length 1000: one for the scores you give to the sleek sequences, and one for the scores you gives to the fluffy sequences."
   ]
  },
  {
   "cell_type": "code",
   "execution_count": 4,
   "metadata": {},
   "outputs": [],
   "source": [
    "# Store length of data\n",
    "num_seq = len(fluffy_data)\n",
    "\n",
    "# Initialize score arrays\n",
    "fluffy_scores = np.zeros(num_seq)\n",
    "sleek_scores = np.zeros(num_seq)\n",
    "\n",
    "# Write script to score sequences in both datasets\n",
    "for i, seq in enumerate(sleek_data):\n",
    "    score = 0\n",
    "    for j in seq:\n",
    "        if j=='s':\n",
    "            score += 1\n",
    "        if j=='r':\n",
    "            score -=1\n",
    "    sleek_scores[i] = score\n",
    "    \n",
    "fluffy_scores = np.zeros(len(fluffy_data))\n",
    "for i, seq in enumerate(fluffy_data):\n",
    "    score = 0\n",
    "    for j in seq:\n",
    "        if j=='s':\n",
    "            score += 1\n",
    "        if j=='r':\n",
    "            score -=1\n",
    "    fluffy_scores[i] = score    "
   ]
  },
  {
   "cell_type": "markdown",
   "metadata": {},
   "source": [
    "Now that you have a score for every sequence in the dataset, try plotting a **histogram** of the distribution of scores for sleek and fluffy songs. Check out `plt.hist()`."
   ]
  },
  {
   "cell_type": "code",
   "execution_count": 5,
   "metadata": {},
   "outputs": [
    {
     "data": {
      "image/png": "[encoded data removed]",
      "text/plain": [
       "<Figure size 432x288 with 1 Axes>"
      ]
     },
     "metadata": {
      "needs_background": "light"
     },
     "output_type": "display_data"
    }
   ],
   "source": [
    "# Plot histogram of scores\n",
    "plt.hist(sleek_scores, alpha=0.5, label='sleek');\n",
    "plt.hist(fluffy_scores, alpha=0.5, label='fluffy');\n",
    "plt.legend();\n",
    "plt.xlabel('score');\n",
    "plt.ylabel('number of sequences');"
   ]
  },
  {
   "cell_type": "markdown",
   "metadata": {},
   "source": [
    "Try plotting a **ROC plot**. An easy way of going about this is to calculate the number of true positives (TP), true negatives (TN), false positives (FP), and false negatives (FN) for each threshold score that you're considering. \n",
    "\n",
    "I would recommend first defining a range of threshold score values (for example, the minimum and the maximum of all of your scores), defining a linear space between those values (check out `np.linspace`), and then calculating the TP, TN, FP, FN for each threshold value. In this case, let's say that \"positives\" are scores above the threshold, and \"negatives\" are scores below the threshold (this is the typical definition). \n",
    "\n",
    "Remember that the ROC plot is true positive rate $\\frac{TP}{TP+FN}$ vs. false positive rate $\\frac{FP}{TN+FP}$."
   ]
  },
  {
   "cell_type": "code",
   "execution_count": 6,
   "metadata": {},
   "outputs": [
    {
     "data": {
      "image/png": "[encoded data removed]",
      "text/plain": [
       "<Figure size 432x288 with 1 Axes>"
      ]
     },
     "metadata": {
      "needs_background": "light"
     },
     "output_type": "display_data"
    }
   ],
   "source": [
    "# Find minimum and maximum scores across both sleek and fluffy songs\n",
    "min_score = np.min((fluffy_scores, sleek_scores))\n",
    "max_score = np.max((fluffy_scores, sleek_scores))\n",
    "\n",
    "# Define number and range of threshold scores\n",
    "num_thresh = 1000\n",
    "threshold_scores = np.linspace(min_score, max_score, 1000)\n",
    "\n",
    "# Set up \n",
    "TP = np.zeros(num_thresh)\n",
    "FP = np.zeros(num_thresh)\n",
    "TN = np.zeros(num_thresh)\n",
    "FN = np.zeros(num_thresh)\n",
    "\n",
    "# Calculate TP/FN/TN/FP for each sequence in both datasets\n",
    "for i, score in enumerate(threshold_scores):\n",
    "    TP[i] = np.sum(sleek_scores>=score)\n",
    "    FP[i] = np.sum(fluffy_scores>=score)\n",
    "    TN[i] = np.sum(fluffy_scores<score)\n",
    "    FN[i] = np.sum(sleek_scores<score)\n",
    "    \n",
    "# Plot it!\n",
    "plt.plot(1-TN/(TN+FP), TP/(TP+FN));\n",
    "plt.xlabel('false positive rate');\n",
    "plt.ylabel('number of sequences');"
   ]
  },
  {
   "cell_type": "markdown",
   "metadata": {},
   "source": [
    "How well does this method perform in distinguishing the songs?"
   ]
  },
  {
   "cell_type": "markdown",
   "metadata": {},
   "source": [
    "### Exercise 2: Train a third order Markov model\n",
    "\n",
    "#### Exercise 2.1: Split up your data into training and testing sets\n",
    "\n",
    "Now for the fun part!\n",
    "\n",
    "I would recommend first splitting up the data into **training and testing sets**. You can use half of the data for training and half for testing (like the homework), or choose some other fraction (as long as the training and testing sets don't overlap)!"
   ]
  },
  {
   "cell_type": "code",
   "execution_count": 7,
   "metadata": {},
   "outputs": [],
   "source": [
    "# Split up training and testing sets\n",
    "sleek_test = sleek_data[:num_seq//2]\n",
    "sleek_train = sleek_data[num_seq//2:]\n",
    "fluffy_test = fluffy_data[:num_seq//2]\n",
    "fluffy_train = fluffy_data[num_seq//2:]"
   ]
  },
  {
   "cell_type": "markdown",
   "metadata": {},
   "source": [
    "Now we want to use our training dataset to calculate the parameters of our Markov model. There are many ways you could go about this, so don't feel like you have to follow these steps!\n",
    "\n",
    "As discussed in section, in order to calculate the **conditional probabilities** in the Markov model (ex: $P(s|srss)$), we can calculate the unconditional probabilities of the related 4-mers and 3-mers ($P(srss)$ and $P(srs)$ in this case).\n",
    "\n",
    "How would we go about calculating these probabilities?  We want to see how many times each 4-mer appears in the data, and how many times each 3-mer appears in the data, for both *sleek* and *fluffy* songs.\n",
    "\n",
    "#### Exercise 2.2: How many 4-mers and 3-mers are possible in this dataset?\n",
    "\n",
    "One useful piece of information would be how many distinct 4-mers and 3-mers there are in the data.  We know that there are 2 states in this model: 's' and 'r'.  How many distinct 3-character and 4-character sequences are possible?  You could write them out by hand, or you could use probability (Hint: Does order matter? Are you sampling with replacement?)!\n",
    "\n",
    "#### Exercise 2.3: Store distinct 4-mers and 3-mers in a list\n",
    "\n",
    "Now we want to store the distinct 4-mers and 3-mers in a list. Something like `['ssss','sssr',...]` and `['sss','ssr',...]`.  Again, you could type out all possible combinations by hand, or you could harness the tools of Python to get all possible combinations (this will be even more useful with an alphabet of four letter like 'ACTG')! Check out `itertools`.  Again there are many ways to approach this, so feel free to diverge!"
   ]
  },
  {
   "cell_type": "code",
   "execution_count": 8,
   "metadata": {},
   "outputs": [],
   "source": [
    "# Find all distinct 3-mer and 4-mer sequences and store them in lists\n",
    "import itertools\n",
    "from itertools import product\n",
    "\n",
    "alph = ['s','r']\n",
    "threemers = [''.join(i) for i in itertools.product(alph, repeat = 3)]\n",
    "fourmers = [''.join(i) for i in itertools.product(alph, repeat = 4)]"
   ]
  },
  {
   "cell_type": "markdown",
   "metadata": {},
   "source": [
    "Now we want to go through all of the training sequences and count how many times each 3-mer and 4-mer appears in the dataset.\n",
    "\n",
    "#### Exercise 2.4: Find frequencies of distinct 3/4-mers in training data\n",
    "\n",
    "Go through each sequence and identify each 3-mer and 4-mer, and update the counts of the corresponding 3-mers or 4-mers. Check out `list.index()`."
   ]
  },
  {
   "cell_type": "code",
   "execution_count": 9,
   "metadata": {},
   "outputs": [],
   "source": [
    "# Initialize counts array of 3-mers and 4-mers\n",
    "threemer_counts_sleek = np.zeros(len(threemers))\n",
    "threemer_counts_fluffy = np.zeros(len(threemers))\n",
    "fourmer_counts_sleek = np.zeros(len(fourmers))\n",
    "fourmer_counts_fluffy = np.zeros(len(fourmers))\n",
    "\n",
    "# Go through each sequence and identify 3-mers and 4-mers and update counts\n",
    "for seq in sleek_train:\n",
    "    for i, note in enumerate(seq):\n",
    "        if i<len(seq)-2:\n",
    "            idx = threemers.index(seq[i:i+3])\n",
    "            threemer_counts_sleek[idx]+=1\n",
    "            if i<len(seq)-3:\n",
    "                idx = fourmers.index(seq[i:i+4])\n",
    "                fourmer_counts_sleek[idx]+=1\n",
    "                \n",
    "for seq in fluffy_train:\n",
    "    for i, note in enumerate(seq):\n",
    "        if i<len(seq)-2:\n",
    "            idx = threemers.index(seq[i:i+3])\n",
    "            threemer_counts_fluffy[idx]+=1\n",
    "            if i<len(seq)-3:\n",
    "                idx = fourmers.index(seq[i:i+4])\n",
    "                fourmer_counts_fluffy[idx]+=1"
   ]
  },
  {
   "cell_type": "markdown",
   "metadata": {},
   "source": [
    "Now you can normalize the counts to get frequencies, which we'll use as probabilities in our Markov models."
   ]
  },
  {
   "cell_type": "code",
   "execution_count": 10,
   "metadata": {},
   "outputs": [],
   "source": [
    "# Normalize counts to get frequencies/probabilities\n",
    "fourmer_prob_fluffy = fourmer_counts_fluffy/np.sum(fourmer_counts_fluffy)\n",
    "fourmer_prob_sleek = fourmer_counts_sleek/np.sum(fourmer_counts_sleek)\n",
    "threemer_prob_fluffy = threemer_counts_fluffy/np.sum(threemer_counts_fluffy)\n",
    "threemer_prob_sleek = threemer_counts_sleek/np.sum(threemer_counts_sleek)"
   ]
  },
  {
   "cell_type": "markdown",
   "metadata": {},
   "source": [
    "Now we've trained our models! We can simply divide the relevant 3-mer and 4-mer probabilities when calculating the conditional probabilities. All that's left to do is to test the model on distinguishing the testing set sequences as *sleek* or *fluffy*.\n",
    "\n",
    "### Exercise 3: Test the model\n",
    "\n",
    "Use the equation for a third order Markov chain probability to calculate the probability of each sequence given the two Markov models (*sleek* and *fluffy*). Use these probabilities to calculate the log odds score, where in this case we are dividing the probability of being *sleek* by the probability of being *fluffy*. Remember that we want to use **logs of probabilities** whenever we are multiplying/dividing them together to avoid **underflow** errors."
   ]
  },
  {
   "cell_type": "code",
   "execution_count": 11,
   "metadata": {},
   "outputs": [],
   "source": [
    "# Initialize score array\n",
    "fluffy_scores = np.zeros(len(fluffy_test))\n",
    "sleek_scores = np.zeros(len(sleek_test))\n",
    "\n",
    "# Iterate through each sequence\n",
    "sleek_scores = np.zeros(len(sleek_test))\n",
    "fluffy_scores = np.zeros(len(fluffy_test))\n",
    "\n",
    "for j, seq in enumerate(sleek_test):\n",
    "    # For each sequence, calculate the initial probability \n",
    "    # of the first three notes under both models\n",
    "    idx = threemers.index(seq[:3])\n",
    "    sleek_prob = np.log(fourmer_prob_sleek[idx])\n",
    "    fluffy_prob = np.log(fourmer_prob_fluffy[idx])\n",
    "    \n",
    "    # For each sequence, calculate the probabilities of each note given\n",
    "    # the previous three notes (starting with the fourth note) under both models\n",
    "    for i, note in enumerate(seq[3:]):\n",
    "        fourmer_idx = fourmers.index(seq[i:i+4])\n",
    "        threemer_idx = threemers.index(seq[i:i+3])\n",
    "        sleek_prob+= np.log(fourmer_prob_sleek[fourmer_idx])-np.log(fourmer_prob_sleek[threemer_idx])\n",
    "        fluffy_prob+=np.log(fourmer_prob_fluffy[fourmer_idx])-np.log(fourmer_prob_fluffy[threemer_idx])\n",
    "        \n",
    "    # For each sequence, calculate a log-odds score and store it\n",
    "    sleek_scores[j] = sleek_prob-fluffy_prob\n",
    "    \n",
    "for j, seq in enumerate(fluffy_test):\n",
    "    # For each sequence, calculate the initial probability \n",
    "    # of the first three notes under both models\n",
    "    idx = threemers.index(seq[:3])\n",
    "    sleek_prob = np.log(fourmer_prob_sleek[idx])\n",
    "    fluffy_prob = np.log(fourmer_prob_fluffy[idx])\n",
    "    \n",
    "    # For each sequence, calculate the probabilities of each note given\n",
    "    # the previous three notes (starting with the fourth note) under both models\n",
    "    for i, note in enumerate(seq[3:]):\n",
    "        fourmer_idx = fourmers.index(seq[i:i+4])\n",
    "        threemer_idx = threemers.index(seq[i:i+3])\n",
    "        sleek_prob+= np.log(fourmer_prob_sleek[fourmer_idx])-np.log(fourmer_prob_sleek[threemer_idx])\n",
    "        fluffy_prob+=np.log(fourmer_prob_fluffy[fourmer_idx])-np.log(fourmer_prob_fluffy[threemer_idx])\n",
    "        \n",
    "    # For each sequence, calculate a log-odds score and store it\n",
    "    fluffy_scores[j] = sleek_prob-fluffy_prob"
   ]
  },
  {
   "cell_type": "markdown",
   "metadata": {},
   "source": [
    "Now you should have two arrays of scores, one for the *sleek* test dataset, and one for the *fluffy* test dataset. You can now repeat the histogram and ROC plot part of exercise 1 on these new scores. Did the model do any better? What's the **specificity** if you set a **sensitivity** threshold of 0.9 or higher? What if the *sleek* songs only made up 1% of the total songs? What would the **false discovery rate** be?\n",
    "\n",
    "### Notes\n",
    "\n",
    "For the purposes of this exercise, I split everything up and wrote a lot of repetitive code. In your actual homework, you can consider putting scripts into functions. If you're interested in doing more with this dataset, you could see if generating random note sequences would be distinguishable from *sleek* sequences under a zero order model. You could also see if these sequences could be better distinguished with any other order of Markov model (though, they were generated under a third order model...)."
   ]
  },
  {
   "cell_type": "code",
   "execution_count": 12,
   "metadata": {},
   "outputs": [
    {
     "data": {
      "text/plain": [
       "Text(0, 0.5, 'number of sequences')"
      ]
     },
     "execution_count": 12,
     "metadata": {},
     "output_type": "execute_result"
    },
    {
     "data": {
      "image/png": "[encoded data removed]",
      "text/plain": [
       "<Figure size 432x288 with 1 Axes>"
      ]
     },
     "metadata": {
      "needs_background": "light"
     },
     "output_type": "display_data"
    }
   ],
   "source": [
    "# Plot a histogram\n",
    "plt.hist(fluffy_scores, alpha=0.5);\n",
    "plt.hist(sleek_scores, alpha=0.5);\n",
    "plt.legend(['fluffy', 'sleek']);\n",
    "plt.xlabel('log-odds scores');\n",
    "plt.ylabel('number of sequences')"
   ]
  },
  {
   "cell_type": "code",
   "execution_count": 13,
   "metadata": {},
   "outputs": [],
   "source": [
    "# Calculate TP, FP, TN, FN at each threshold score\n",
    "min_score = np.min((fluffy_scores, sleek_scores))\n",
    "max_score = np.max((fluffy_scores, sleek_scores))\n",
    "score_range = np.linspace(min_score, max_score, 1000)\n",
    "\n",
    "TP = np.zeros(len(score_range))\n",
    "FP = np.zeros(len(score_range))\n",
    "TN = np.zeros(len(score_range))\n",
    "FN = np.zeros(len(score_range))\n",
    "\n",
    "for i, score in enumerate(score_range):\n",
    "    TP[i] = np.sum(sleek_scores>=score)\n",
    "    FP[i] = np.sum(fluffy_scores>=score)\n",
    "    TN[i] = np.sum(fluffy_scores<score)\n",
    "    FN[i] = np.sum(sleek_scores<score)"
   ]
  },
  {
   "cell_type": "code",
   "execution_count": 14,
   "metadata": {},
   "outputs": [
    {
     "data": {
      "text/plain": [
       "Text(0, 0.5, 'sensitivity')"
      ]
     },
     "execution_count": 14,
     "metadata": {},
     "output_type": "execute_result"
    },
    {
     "data": {
      "image/png": "[encoded data removed]",
      "text/plain": [
       "<Figure size 432x288 with 1 Axes>"
      ]
     },
     "metadata": {
      "needs_background": "light"
     },
     "output_type": "display_data"
    }
   ],
   "source": [
    "# Plot a ROC plot\n",
    "plt.plot(1-TN/(TN+FP), TP/(TP+FN))\n",
    "plt.xlabel('false positive rate')\n",
    "plt.ylabel('sensitivity')"
   ]
  },
  {
   "cell_type": "code",
   "execution_count": 15,
   "metadata": {},
   "outputs": [
    {
     "name": "stdout",
     "output_type": "stream",
     "text": [
      "For FPR<5%, need threshold greater than 2.9729729729729755  with resulting sensitivity  0.836\n"
     ]
    }
   ],
   "source": [
    "# Find index where false positive rate is <5%\n",
    "thresh_idx = np.where(1-TN/(TN+FP)<0.05)[0][0]\n",
    "\n",
    "# Find corresponding score\n",
    "thresh = threshold_scores[thresh_idx]\n",
    "\n",
    "# Find corresponding sensitivity\n",
    "sensitivity = TP/(TP+FN)\n",
    "thresh_sensitivity = sensitivity[thresh_idx]\n",
    "\n",
    "print('For FPR<5%, need threshold greater than', str(thresh), ' with resulting sensitivity ', str(thresh_sensitivity))"
   ]
  },
  {
   "cell_type": "code",
   "execution_count": 16,
   "metadata": {},
   "outputs": [
    {
     "name": "stdout",
     "output_type": "stream",
     "text": [
      "For FPR<5%, if 1 percent of population is special, FDR is  0.8325991189427313\n"
     ]
    }
   ],
   "source": [
    "# Find FDR for false positive rate <5% if 1% of population is special\n",
    "FDR = (FP*0.99)/(TP*0.01+FP*0.99)\n",
    "\n",
    "print('For FPR<5%, if 1 percent of population is special, FDR is ', str(FDR[thresh_idx]))"
   ]
  },
  {
   "cell_type": "code",
   "execution_count": null,
   "metadata": {},
   "outputs": [],
   "source": []
  }
 ],
 "metadata": {
  "kernelspec": {
   "display_name": "Python 3 (ipykernel)",
   "language": "python",
   "name": "python3"
  },
  "language_info": {
   "codemirror_mode": {
    "name": "ipython",
    "version": 3
   },
   "file_extension": ".py",
   "mimetype": "text/x-python",
   "name": "python",
   "nbconvert_exporter": "python",
   "pygments_lexer": "ipython3",
   "version": "3.12.5"
  }
 },
 "nbformat": 4,
 "nbformat_minor": 4
}
