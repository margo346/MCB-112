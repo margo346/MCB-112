{
 "cells": [
  {
   "cell_type": "markdown",
   "metadata": {},
   "source": [
    "# Section 09: mixed feelings"
   ]
  },
  {
   "cell_type": "markdown",
   "metadata": {},
   "source": [
    "Liana Merk (2024), adapted from Angel Tang, Verena Volf, Hope Merens, and Joseph Sedlak's notes from the past years. \n"
   ]
  },
  {
   "cell_type": "code",
   "execution_count": 1,
   "metadata": {},
   "outputs": [],
   "source": [
    "import numpy as np\n",
    "\n",
    "import scipy.stats   as stats\n",
    "import scipy.special as special\n",
    "\n",
    "# For interactive plotting\n",
    "import matplotlib.pyplot as plt\n",
    "import ipywidgets as widgets\n",
    "from IPython.display import display, clear_output\n",
    "\n",
    "np.random.seed(7)"
   ]
  },
  {
   "cell_type": "markdown",
   "metadata": {},
   "source": [
    "## Part 1: K-Means"
   ]
  },
  {
   "cell_type": "markdown",
   "metadata": {},
   "source": [
    "### The Problem\n",
    "\n",
    "How can we computationally classify single objects together, based on their similarity to each other? In molecular biology and genetics research, it is very common to try to classify cell subtypes, such as neuronal subtypes or cancer cell subtypes in a heterogeneous tumor, based on their transcriptome. For instance, we may assume that varying expression levels of a few genes define the cell subtypes we are interested in. In this case, however, we do not have labeled data, and therefore must use unsupervised methods to group together cells with similar expression levels into the correct subtypes. It's important to remember that *because* we don't have ground truth, the definition of a cluster is imperfect, but can be used as a prox\n",
    "\n",
    "Today, we will use expectation-maximization in order to conduct 1) k-means clustering and 2) mixture modeling as approaches to clustering similar data points together. In the pset this week, we will see how the same logic can be applied to clustering together cells by their gene expression. "
   ]
  },
  {
   "cell_type": "markdown",
   "metadata": {},
   "source": [
    "### Overview of k-means clustering algorithm\n",
    "\n",
    "The task is to assign $X_i$ (data points or observations) to a predefined number ($K$) of clusters. The k-means clustering algorithm takes an iterative process to assign points to clusters such that the total squared distance between the points and the centroid of their assigned cluster is minimized. The number of clusters $k$ has to be specified by user. \n",
    "\n",
    "We start with some randomly chosen centroids $\\mu_k$. Then, the two steps - assignment and update - repeated until convergence.\n",
    "\n",
    "**Assignment:** Assign each data point $X_i$ to its closest centroid $Î¼_k$.\n",
    "\n",
    "**Update**: Calculate new centroids $\\mu_k$ based on newly assigned clusters.\n",
    "\n",
    "Convergence occurs when the assignments stop changing."
   ]
  },
  {
   "cell_type": "markdown",
   "metadata": {},
   "source": [
    "**A note about empty clusters**\n",
    "\n",
    "It is possible to have empty clusters: centroids that don't have any points assigned. One way to avoid this is to pull one data point out of another cluster and assign it to the empty cluster. There are other ways of doing this as well (e.g. generate another random point) and you can decide what works best for your homework."
   ]
  },
  {
   "cell_type": "markdown",
   "metadata": {},
   "source": [
    "**A note on avoiding local minima**\n",
    "\n",
    "$K$ means clustering is prone to local minima, and it's therefore important to consider your choice of initial conditions. Recall from lecture we have a few ways of initializing centroids, including:\n",
    "- choose $K$ random points in space\n",
    "- choose $K$ random points from $X$ and put the initial centroids there\n",
    "- assign all points in $X$ randomly to clusters, then calculate centroids of these.\n"
   ]
  },
  {
   "cell_type": "markdown",
   "metadata": {},
   "source": [
    "### Let's implement a 1-dimensional example"
   ]
  },
  {
   "cell_type": "markdown",
   "metadata": {},
   "source": [
    "We will generate some clusters of data points with the following features:\n",
    "\n",
    "- Number of clusters: $4$\n",
    "- Means: $0$, $3.33$, $6.67$, and $10$\n",
    "- Number of points in each cluster: $25$\n",
    "- Distribution of each cluster: a normal distribution with variance $\\sigma^2 = 0.5$"
   ]
  },
  {
   "cell_type": "code",
   "execution_count": 2,
   "metadata": {},
   "outputs": [],
   "source": [
    "n_samples, var, means = 100, 0.5, np.linspace(0, 10, 4)\n",
    "\n",
    "distributions = [np.random.normal(mean, var, size=n_samples // len(means)) for mean in means]\n",
    "data = np.concatenate(distributions)\n",
    "\n",
    "np.random.shuffle(data)"
   ]
  },
  {
   "cell_type": "markdown",
   "metadata": {},
   "source": [
    "Let's take a look at our data"
   ]
  },
  {
   "cell_type": "code",
   "execution_count": 3,
   "metadata": {},
   "outputs": [
    {
     "data": {
      "image/png": "[encoded data removed]",
      "text/plain": [
       "<Figure size 800x100 with 1 Axes>"
      ]
     },
     "metadata": {},
     "output_type": "display_data"
    }
   ],
   "source": [
    "fig, ax = plt.subplots(figsize=(8, 1))\n",
    "ax.plot(data, [1] * len(data), 'o', alpha=0.2)\n",
    "\n",
    "ax.set_yticks([])\n",
    "ax.set_ylim(0.5, 1.5)\n",
    "\n",
    "plt.show()"
   ]
  },
  {
   "cell_type": "markdown",
   "metadata": {},
   "source": [
    "Great! Now we want to move forward with $K$-means."
   ]
  },
  {
   "cell_type": "markdown",
   "metadata": {},
   "source": [
    "#### 1) K-means assignment step\n",
    "$K$ clusters are created by assigning each data point $X_i$ to the nearest centroid $\\mu_k$ based on their Euclidian distance in z dimensions $\\sqrt{\\sum_{z} (X_{iz}-\\mu_{kz})^2}$, which is $\\sqrt{(X_{i}-\\mu_{k})^{2}}$ in this case of 1-dimensional points."
   ]
  },
  {
   "cell_type": "code",
   "execution_count": 4,
   "metadata": {},
   "outputs": [],
   "source": [
    "def assignment(coords, centers):\n",
    "    \"\"\"\n",
    "    Assign each point to the closest center, calculating the closest center using argmin.\n",
    "    \"\"\"\n",
    "    # Step 1: Assign each point to the closest center and calculate distances\n",
    "    clusters = [np.argmin([np.sqrt((point - i)**2) for i in centers]) for point in coords]\n",
    "    distances = [np.min([np.sqrt((point - i)**2) for i in centers]) for point in coords]\n",
    "    \n",
    "    # Step 2: Count points in each cluster\n",
    "    cluster_counts = {i: 0 for i in range(len(centers))}\n",
    "    for cluster in clusters:\n",
    "        cluster_counts[cluster] += 1\n",
    "\n",
    "    # Step 3: Check for empty clusters and reassign if necessary\n",
    "    for cluster_idx in range(len(centers)):\n",
    "        if cluster_counts[cluster_idx] == 0:\n",
    "            clusters, distances = assign_empty(cluster_idx, clusters, distances)\n",
    "\n",
    "    # Step 4: Calculate the total squared distance\n",
    "    total_distance = sum(distances)\n",
    "\n",
    "    return clusters, total_distance"
   ]
  },
  {
   "cell_type": "markdown",
   "metadata": {},
   "source": [
    "Taking care of empty clusters:"
   ]
  },
  {
   "cell_type": "code",
   "execution_count": 5,
   "metadata": {},
   "outputs": [],
   "source": [
    "def assign_empty(empty_cluster, clusters, distances):\n",
    "    \"\"\"\n",
    "    Reassign the data point farthest from any current center to the specified empty cluster.\n",
    "    \"\"\"\n",
    "    # Identify the index of the point farthest from its assigned center\n",
    "    farthest_point_idx = np.argmax(distances)\n",
    "    \n",
    "    # Assign this point to the empty cluster and reset its distance to 0\n",
    "    clusters[farthest_point_idx] = empty_cluster\n",
    "    distances[farthest_point_idx] = 0\n",
    "    \n",
    "    return clusters, distances"
   ]
  },
  {
   "cell_type": "markdown",
   "metadata": {},
   "source": [
    "#### 2) K-means update step\n",
    "The centroid of the clusters are updated by calculating the mean of all points assigned to that cluster using $$\\mu_{kz}=\\frac{\\sum_{i\\in{C_k}} X_{iz}}{|C_k|}$$\n",
    "For 1-dimensional centers, $$\\mu_{k}=\\frac{\\sum_{i\\in{C_k}} X_{i}}{|C_k|}$$"
   ]
  },
  {
   "cell_type": "code",
   "execution_count": 6,
   "metadata": {},
   "outputs": [],
   "source": [
    "def update(coords, clusters, num_clust):\n",
    "    \"\"\"\n",
    "    Update cluster centers by calculating the mean position of points assigned to each cluster.\n",
    "    \"\"\"\n",
    "    coords = np.asarray(coords)\n",
    "    clusters = np.asarray(clusters)\n",
    "    \n",
    "    # Calculate the updated centroids by averaging points in each cluster\n",
    "    centers = [coords[clusters == x].mean(axis=0) for x in range(num_clust)]\n",
    "    \n",
    "    return centers"
   ]
  },
  {
   "cell_type": "markdown",
   "metadata": {},
   "source": [
    "Now we'll do the actual iterations."
   ]
  },
  {
   "cell_type": "markdown",
   "metadata": {},
   "source": [
    "#### 3) K-means time!\n"
   ]
  },
  {
   "cell_type": "code",
   "execution_count": 7,
   "metadata": {},
   "outputs": [],
   "source": [
    "def initialize_centroids(data, k):\n",
    "    \"\"\"\n",
    "    Initialize k centroids by selecting random points from the dataset.\n",
    "    \"\"\"\n",
    "    return np.random.choice(data, k, replace=False)"
   ]
  },
  {
   "cell_type": "code",
   "execution_count": 8,
   "metadata": {},
   "outputs": [],
   "source": [
    "def plot_clustering(clusters, centroids, n_plots, title='Iteration'):\n",
    "    \"\"\"\n",
    "    Plot clustering iterations.\n",
    "    \"\"\"\n",
    "    # Select the iterations to plot based on the number of requested plots\n",
    "    to_plot = np.linspace(0, len(centroids) - 1, num=n_plots, dtype=int)\n",
    "    fig, axes = plt.subplots(n_plots, figsize=(8, n_plots * 2), sharex=True)\n",
    "\n",
    "    # Ensure axes is an array even if n_plots=1\n",
    "    if n_plots == 1:\n",
    "        axes = [axes]\n",
    "    \n",
    "    for i, ax in enumerate(axes):\n",
    "        # Current centroids and clustered data\n",
    "        curr_centroids = centroids[to_plot[i]]\n",
    "        curr_clusters = clusters[to_plot[i]]\n",
    "        \n",
    "        # Plot centroids as vertical lines\n",
    "        ax.vlines(curr_centroids, ymin=0, ymax=2, colors='r', alpha=0.5, label='Centroids')\n",
    "        \n",
    "        # Plot data points in clusters\n",
    "        for cluster in curr_clusters:\n",
    "            ax.plot(cluster, np.ones_like(cluster), 'o', alpha=0.2)\n",
    "        \n",
    "        ax.set_title(f\"{title} {to_plot[i] + 1}\")\n",
    "        ax.set_yticks([])\n",
    "    \n",
    "    # Adjust layout and show legend on the first plot only\n",
    "    fig.tight_layout()\n",
    "    axes[0].legend()\n",
    "    plt.show()"
   ]
  },
  {
   "cell_type": "code",
   "execution_count": 9,
   "metadata": {},
   "outputs": [],
   "source": [
    "def kmeans_1d_multi_run(data, k=2, max_iter=100, tolerance=1e-5, plot_iter=3, verbose=False, n_runs=20):\n",
    "    \"\"\"\n",
    "    Run K-Means clustering multiple times and keep the best result based on the minimum total distance.\n",
    "    \"\"\"\n",
    "    best_centroids = None\n",
    "    best_clusters = None\n",
    "    best_total_distance = float('inf')\n",
    "    best_history_clusters = []\n",
    "    best_history_centroids = []\n",
    "\n",
    "    for run in range(n_runs):\n",
    "        centroids = initialize_centroids(data, k)\n",
    "        prev_centroids = np.zeros_like(centroids)\n",
    "        iterations = 0\n",
    "        convergence = False\n",
    "        history_clusters, history_centroids = [], []\n",
    "\n",
    "        while not convergence and iterations < max_iter:\n",
    "            clusters, total_distance = assignment(data, centroids)\n",
    "            prev_centroids = centroids.copy()\n",
    "            centroids = update(data, clusters, k)\n",
    "            convergence = np.allclose(centroids, prev_centroids, atol=tolerance)\n",
    "            if plot_iter > 0:\n",
    "                history_clusters.append([data[np.array(clusters) == i] for i in range(k)])\n",
    "                history_centroids.append(centroids.copy())\n",
    "            iterations += 1\n",
    "\n",
    "        if total_distance < best_total_distance:\n",
    "            best_total_distance = total_distance\n",
    "            best_centroids = centroids.copy()\n",
    "            best_clusters = clusters.copy()\n",
    "            best_history_clusters = history_clusters.copy()\n",
    "            best_history_centroids = history_centroids.copy()\n",
    "\n",
    "    # Plot the best clustering progress if requested\n",
    "    if plot_iter > 0:\n",
    "        plot_clustering(best_history_clusters, best_history_centroids, plot_iter)\n",
    "\n",
    "    if verbose:\n",
    "        init_centroids = [round(float(c), 2) for c in (best_history_centroids[0] if best_history_centroids else best_centroids)]\n",
    "        final_centroids = [round(float(c), 2) for c in best_centroids]\n",
    "        print(f\"K = {k}\\nInitial centroids: {init_centroids}\\nFinal centroids: {final_centroids}\\n\"\n",
    "              f\"Best total distance: {round(best_total_distance, 2)}\\nConverged after {iterations} iterations\")\n",
    "\n",
    "    return best_centroids, best_clusters, best_total_distance"
   ]
  },
  {
   "cell_type": "code",
   "execution_count": 10,
   "metadata": {},
   "outputs": [
    {
     "data": {
      "image/png": "[encoded data removed]",
      "text/plain": [
       "<Figure size 800x600 with 3 Axes>"
      ]
     },
     "metadata": {},
     "output_type": "display_data"
    },
    {
     "name": "stdout",
     "output_type": "stream",
     "text": [
      "K = 4\n",
      "Initial centroids: [8.24, 2.65, 3.67, -0.01]\n",
      "Final centroids: [10.1, 3.21, 6.68, 0.03]\n",
      "Best total distance: 39.62\n",
      "Converged after 5 iterations\n"
     ]
    }
   ],
   "source": [
    "best_centroids, best_clusters, _ = kmeans_1d_multi_run(data, k=4, plot_iter=3, verbose=True, n_runs=20)"
   ]
  },
  {
   "cell_type": "markdown",
   "metadata": {},
   "source": [
    "We can see that our classification of nearby points improved over the course of the iteration, and our final centroids end up being almost exactly the means underlying our data's distribution. Nice!"
   ]
  },
  {
   "cell_type": "markdown",
   "metadata": {},
   "source": [
    "#### How do we determine the optimal number of clusters if we don't know the ground truth?"
   ]
  },
  {
   "cell_type": "markdown",
   "metadata": {},
   "source": [
    "Sometimes we are uncertain about how many clusters there are, especially like RNA seq data that discovers novel cell types. One way to determine $K$ is to iterate through different $K$ values and choose the cutoff value where the steep decrease in the objective function stops."
   ]
  },
  {
   "cell_type": "code",
   "execution_count": 11,
   "metadata": {},
   "outputs": [
    {
     "data": {
      "image/png": "[encoded data removed]",
      "text/plain": [
       "<Figure size 1000x600 with 1 Axes>"
      ]
     },
     "metadata": {},
     "output_type": "display_data"
    }
   ],
   "source": [
    "clust_range = range(1, 11)\n",
    "\n",
    "def kmeans_1d_collect_distances(data, k, max_iter=100, tolerance=1e-5, n_runs=5):\n",
    "    \"\"\"Run K-Means multiple times for a given k and collect distances for each run.\"\"\"\n",
    "    distances = []\n",
    "    for _ in range(n_runs):\n",
    "        centroids = initialize_centroids(data, k)\n",
    "        for _ in range(max_iter):\n",
    "            clusters, total_distance = assignment(data, centroids)\n",
    "            new_centroids = update(data, clusters, k)\n",
    "            if np.allclose(centroids, new_centroids, atol=tolerance):\n",
    "                break\n",
    "            centroids = new_centroids\n",
    "        distances.append(total_distance)\n",
    "    return distances\n",
    "\n",
    "# Collect and plot distances for each k\n",
    "all_distances = [kmeans_1d_collect_distances(data, k) for k in clust_range]\n",
    "plt.figure(figsize=(10, 6))\n",
    "for k, distances in enumerate(all_distances, start=1):\n",
    "    plt.scatter([k] * len(distances), distances, alpha=0.6)\n",
    "plt.plot(range(1, 11), [np.mean(dist) for dist in all_distances], 'g-', label='Mean Distance')\n",
    "plt.xlabel('Number of clusters (k)')\n",
    "plt.ylabel('Total distance')\n",
    "plt.title('Elbow Plot with Multiple Runs per k')\n",
    "plt.legend(loc='upper right')\n",
    "plt.show()"
   ]
  },
  {
   "cell_type": "markdown",
   "metadata": {},
   "source": [
    "We can see there's a levelling off around 4 clusters, meaning we don't gain a lot of reduction in overall distance by increasing $K$. "
   ]
  },
  {
   "cell_type": "markdown",
   "metadata": {},
   "source": [
    "<div style=\"border: 1px solid #2196F3; background-color: #E3F2FD; padding: 10px; border-radius: 5px;\">\n",
    "You are now an expert in 1-D $K$-means, for the set you will make this multi-dimensional!\n",
    "</div>\n"
   ]
  },
  {
   "cell_type": "markdown",
   "metadata": {},
   "source": [
    "________"
   ]
  },
  {
   "cell_type": "markdown",
   "metadata": {},
   "source": [
    "## Part 2: Mixture Models"
   ]
  },
  {
   "cell_type": "markdown",
   "metadata": {},
   "source": [
    "A mixture model is a generative probability model composed of other probability distributions. The idea is that our data are generated from a combinations of underlying probability distributions (one per cluster in our case). They don't all have to be the same distribution; they don't even have to be the same type of distribution (you can mix distributions any way you want). In this case, we are going to assume all our points were generated from 1 of $Q$ different Gaussian distribtions with parameters $\\mu$ and $\\sigma$. Since we are working with multiple Gaussian distributions, we need to add one more parameter, $\\pi$, the mixing coefficient that is our best guess as to what fraction of the data was generated by each Gaussian.\n",
    "\n",
    "We aim to optimize the parameters $\\mu$ and $\\pi$ and can choose arbitrary initial parameters. Similar to the pset (in which we use a negative binomial distribution instead of the Gaussian), our choice of sigma will be the same through every iteration. \n",
    "\n",
    "There are two main steps in the EM algorithm:\n",
    "\n",
    "#### 1) Expectation Step (E-Step):\n",
    "In this step, we aim to determine the probability that each data point $X_i$ belongs to each cluster $q$, given the current model parameters. This probability can be written as $P(q \\mid X_i)$, following the Bayesian structure $P(\\text{hypothesis} \\mid \\text{data})$. Using Bayes' theorem, we can express this as:\n",
    "\n",
    "$$\n",
    "P(q \\mid X_i, \\mu, \\sigma, \\pi) = \\frac{P(X_i, q \\mid \\mu, \\sigma, \\pi)}{\\sum_{q} P(X_i, q \\mid \\mu, \\sigma, \\pi)}\n",
    "$$\n",
    "\n",
    "This joint probability factors due to independence assumptions: selecting a Gaussian component is independent of selecting a data point from that component. Thus,\n",
    "\n",
    "$$\n",
    "P(X_i, q \\mid \\mu, \\sigma, \\pi) = P(X_i \\mid q, \\mu, \\sigma) P(q \\mid \\pi)\n",
    "$$\n",
    "\n",
    "Luckily, these components are easily solvable on their own. The first is simply the likelihood of the data given a particular component. In this example, the components are all Gaussian, so $P(X \\mid q,\\mu,\\sigma) = \\frac{1}{\\sqrt{2\\sigma^{2}\\pi}}e^{-\\frac{(X-\\mu)^{2}}{2\\sigma^{2}}}$, i.e. the Gaussian PDF evaulauted at $X$ with $\\sigma$ and $\\mu$ from the given component $q$ ($\\pi$ in that equation is number $\\pi$ not the mixture coefficient $\\pi$). Note that if $X_{i}$ had components $X_{ia}$ and $X_{ib}$, these can be assumed to be independent. Therefore, $P(X \\mid q,\\mu,\\sigma)$ can be calculated separately for each component, and then the joint probability $P(X_{ia})*P(X_{ib})$ can be calculated.\n",
    "\n",
    "1. $P(X_i \\mid q, \\mu, \\sigma)$ represents the likelihood of the data given component $q$. Since each component is Gaussian, we have:\n",
    "\n",
    "   $$\n",
    "   P(X_i \\mid q, \\mu, \\sigma) = \\frac{1}{\\sqrt{2 \\pi \\sigma^2}} e^{-\\frac{(X_i - \\mu_q)^2}{2 \\sigma^2}}\n",
    "   $$\n",
    "\n",
    "\n",
    "The $P(q \\mid \\pi)$ is even easier. It's just $\\pi$ (the mixture coefficient $\\pi$ not the number $\\pi$). Recall that $\\pi$ is defined as the fraction of the total data $X$ was generated by each Gaussian.\n",
    "\n",
    "2. $P(q \\mid \\pi) = \\pi_q$, the mixing coefficient, represents the fraction of the data generated by component $q$.\n",
    "\n",
    "Thus, the posterior probability for component $q$ for any data point $X_i$ is:\n",
    "\n",
    "$$\n",
    "P(q \\mid X_i, \\mu, \\sigma, \\pi) = \\frac{\\pi_q P(X_i \\mid q, \\mu, \\sigma)}{\\sum_{q} \\pi_q P(X_i \\mid q, \\mu, \\sigma)}\n",
    "$$\n",
    "\n",
    "#### 2) Maximization Step (M-Step):\n",
    "In this step, we use the posterior probabilities calculated in the E-step to update the model parameters, specifically the means $\\mu_q$ and the mixing coefficients $\\pi_q$:\n",
    "\n",
    "1. **Mean (Centroid) Update**:\n",
    "$$\n",
    "\\mu_q = \\frac{\\sum_{i} P(q \\mid X_i, \\mu, \\sigma, \\pi) \\cdot X_i}{\\sum_{i} P(q \\mid X_i, \\mu, \\sigma, \\pi)}\n",
    "$$\n",
    "\n",
    "2. **Mixing Coefficient Update**:\n",
    "$$\n",
    "\\pi_q = \\frac{\\sum_{i} P(q \\mid X_i, \\mu, \\sigma, \\pi)}{N}\n",
    "$$\n",
    "where $N$ is the total number of data points.\n",
    "\n",
    "#### Convergence Criterion\n",
    "We track the total negative log-likelihood (NLL) of the data given the current parameters:\n",
    "\n",
    "$$\n",
    "\\log P(X \\mid \\theta) = \\sum_{i=1}^{N} \\log \\left( \\sum_{q=1}^{Q} \\pi_q P(X_i \\mid \\mu_q, \\sigma) \\right)\n",
    "$$\n",
    "\n",
    "The EM algorithm iterates between the E-step and M-step until the change in NLL falls below a predefined threshold, indicating convergence.\n"
   ]
  },
  {
   "cell_type": "markdown",
   "metadata": {},
   "source": [
    "### We will again implement a 1-dimensional example"
   ]
  },
  {
   "cell_type": "markdown",
   "metadata": {},
   "source": [
    "#### 1) Expectation\n",
    "During this step, we calculate the posterior probability for each data point $x$ coming from each component $q$, which is given by $$\n",
    "P(q \\mid X_i, \\mu, \\sigma, \\pi) = \\frac{\\pi_q P(X_i \\mid q, \\mu, \\sigma)}{\\sum_{q} \\pi_q P(X_i \\mid q, \\mu, \\sigma)}\n",
    "$$.\n",
    "\n",
    "We will also assign each point to a cluster for which it has the largest posterior probability."
   ]
  },
  {
   "cell_type": "code",
   "execution_count": 12,
   "metadata": {},
   "outputs": [],
   "source": [
    "def expectation(coords, mus, sigma, mix_coeffs):\n",
    "    '''\n",
    "    Return the Posterior Probability of each data point coming from each component \n",
    "    and current cluster assignment for each point.\n",
    "    \n",
    "    Parameters\n",
    "    ----------\n",
    "    coords       : list or 1D array, list of X-coordinates of all points\n",
    "    mus          : list or 1D array, list of current estimates for component means\n",
    "    sigma        : float, set parameter for component variance\n",
    "    mix_coeffs   : list or 1D array, list of current estimates for mixture coefficients of components\n",
    "    \n",
    "    Returns\n",
    "    -------\n",
    "    posts        : 2D array, Posterior probabilities of each component being the source of each point.\n",
    "    clusters     : list or 1D array, list of current cluster assignment for each point \n",
    "    '''\n",
    "    \n",
    "    # Initialize P(q|x)\n",
    "    Pqx = []\n",
    "    \n",
    "    # Loop through points\n",
    "    for point in coords: \n",
    "        # Calculate the probability that the point is generated by each component\n",
    "        Pqx.append([pi * stats.norm.pdf(point, loc=mu, scale=sigma) for pi, mu in zip(mix_coeffs, mus)])\n",
    "        \n",
    "    # Normalize to obtain the posterior probability that each data point comes from each component\n",
    "    posts = [np.array(x) / np.sum(x) for x in Pqx]\n",
    "    \n",
    "    # Assign clusters based on max posterior probability\n",
    "    clusters = [np.argmax(p) for p in posts]\n",
    "    \n",
    "    return posts, clusters"
   ]
  },
  {
   "cell_type": "markdown",
   "metadata": {},
   "source": [
    "### 2) Maximization\n",
    "During this step, we update the centroids $\\mu$ and mixture coefficient $\\pi$ given the posterior probabilities.\n",
    "\n",
    "The new centroid for each component $q$ is calculated as the posterior-weighted average of point positions, given by:\n",
    "$$\n",
    "\\mu_q = \\frac{\\sum_i P(q \\mid X_i) X_i}{\\sum_i P(q \\mid X_i)}\n",
    "$$\n",
    "\n",
    "The new mixture coefficient for each component is calculated as the mean of the posteriors for that component, given by:\n",
    "$$\n",
    "\\pi_q = \\frac{\\sum_i P(q \\mid X_i)}{N}\n",
    "$$\n",
    "where $N$ represents the total number of data points.\n"
   ]
  },
  {
   "cell_type": "code",
   "execution_count": 13,
   "metadata": {},
   "outputs": [],
   "source": [
    "def maximization(coords, posts, mix_coeffs):\n",
    "    '''\n",
    "    Return the updated mu and mixture coefficient for each component\n",
    "    \n",
    "    Parameters\n",
    "    ----------\n",
    "    coords       : list or 1D array, X-coordinates of all points\n",
    "    posts        : 2D array, Posterior probabilities of each component being the source of each point\n",
    "    mix_coeffs   : list or 1D array, current estimates for mixture coefficients of components\n",
    "    \n",
    "    Returns\n",
    "    -------\n",
    "    mus          : list or 1D array, updated component means\n",
    "    mix_coeffs   : list or 1D array, updated estimates for mixture coefficients of components \n",
    "    '''\n",
    "    \n",
    "    # Calculate the numerator for updating means\n",
    "    # This is the sum of each (posterior probability * point) for each component\n",
    "    num_mu = np.sum(posts * coords[:, np.newaxis], axis=0)\n",
    "    \n",
    "    # Calculate the denominator for updating means\n",
    "    denom_mu = np.sum(posts, axis=0)\n",
    "    \n",
    "    # Update means (weighted averages)\n",
    "    mus = num_mu / denom_mu\n",
    "    \n",
    "    # Update mixture coefficients as the average of the posteriors for each component\n",
    "    mix_coeffs = denom_mu / np.sum(denom_mu)\n",
    "    \n",
    "    return mus, mix_coeffs"
   ]
  },
  {
   "cell_type": "markdown",
   "metadata": {},
   "source": [
    "#### Calculating the Log-Likelihood of a Model\n",
    "The likelihood of a model is defined as the probability that the observations are generated from the model. We can therefore use the log-likelihood to compare models and choose the one with the highest likelihood—that is, the smallest negative log-likelihood.\n",
    "\n",
    "The likelihood of a model is given by:\n",
    "$$\n",
    "P(X \\mid \\theta) = \\prod_i \\sum_q \\pi_q P(X_i \\mid \\theta_q)\n",
    "$$\n",
    "\n",
    "The log-likelihood is therefore given by:\n",
    "$$\n",
    "\\log P(X \\mid \\theta) = \\sum_i \\log\\left(\\sum_q \\pi_q P(X_i \\mid \\theta_q)\\right) = \\sum_i {\\rm logSumExp}_q(\\log \\pi_q + \\log P(X_i \\mid \\theta_q))\n",
    "$$\n",
    "\n",
    "Remember our friend the **log-sum-exp** trick, which we can use `scipy.special.logsumexp()` and `numpy.logaddexp()` for."
   ]
  },
  {
   "cell_type": "code",
   "execution_count": 14,
   "metadata": {},
   "outputs": [],
   "source": [
    "def negll(coords, mus, sigma, mix_coeffs):\n",
    "    '''\n",
    "    Return the negative log likelihood of data given the current mixture model\n",
    "    \n",
    "    Parameters\n",
    "    ----------\n",
    "    coords      : list or 1D array, list X-coordinates of all points\n",
    "    mus         : list or 1D array, list of weighted/updated means    \n",
    "    sigma       : float, standard deviation of the components\n",
    "    mix_coeffs  : list or 1D array, list of current estimates for mixture coefficients of components\n",
    "    \n",
    "    Returns\n",
    "    -------\n",
    "    nll         : float, negative log likelihood of data given model\n",
    "    '''\n",
    "    \n",
    "    # Compute the log-likelihood for each data point across all components\n",
    "    log_probs = [[np.log(pi) + np.log(stats.norm.pdf(point, loc=mu, scale=sigma)) \n",
    "                  for pi, mu in zip(mix_coeffs, mus)] \n",
    "                 for point in coords]\n",
    "    \n",
    "    # Use logsumexp to stabilize the sum of log probabilities for each point\n",
    "    ll = np.sum(special.logsumexp(log_probs, axis=1))\n",
    "    \n",
    "    # Return the negative log likelihood\n",
    "    return -ll"
   ]
  },
  {
   "cell_type": "markdown",
   "metadata": {},
   "source": [
    "Recall our data from earlier, which looks like this:"
   ]
  },
  {
   "cell_type": "code",
   "execution_count": 15,
   "metadata": {},
   "outputs": [
    {
     "data": {
      "image/png": "[encoded data removed]",
      "text/plain": [
       "<Figure size 800x100 with 1 Axes>"
      ]
     },
     "metadata": {},
     "output_type": "display_data"
    }
   ],
   "source": [
    "fig, ax = plt.subplots(figsize=(8, 1))\n",
    "ax.plot(data, [1] * len(data), 'o', alpha=0.2)\n",
    "\n",
    "# Remove y-axis ticks and adjust y-limits\n",
    "ax.set_yticks([])\n",
    "ax.set_ylim(0.5, 1.5)  # Ensures points are centered vertically\n",
    "\n",
    "plt.show()"
   ]
  },
  {
   "cell_type": "markdown",
   "metadata": {},
   "source": [
    "We now write a function to iterate throughour points, keeping track of the best parameters and reporting the final clusters."
   ]
  },
  {
   "cell_type": "code",
   "execution_count": 16,
   "metadata": {},
   "outputs": [],
   "source": [
    "def em_gmm(coords, K, sigma, tol=1e-4, max_iter=1000, n_runs=10):\n",
    "    '''\n",
    "    Perform the EM algorithm to fit a GMM to the data, tracking history.\n",
    "\n",
    "    Parameters\n",
    "    ----------\n",
    "    coords      : 1D array, data points\n",
    "    K           : int, number of Gaussian components\n",
    "    sigma       : float, standard deviation of the components\n",
    "    tol         : float, convergence threshold based on NLL change\n",
    "    max_iter    : int, maximum number of iterations per run\n",
    "    n_runs      : int, number of random initializations\n",
    "\n",
    "    Returns\n",
    "    -------\n",
    "    best_params : dict, containing the best mus, mix_coeffs, clusters, and nll\n",
    "    history     : list of dicts, each containing mus, mix_coeffs, clusters at each iteration\n",
    "    '''\n",
    "    best_nll = float('inf')\n",
    "    best_params = {}\n",
    "    history = []\n",
    "\n",
    "    for run in range(n_runs):\n",
    "        # Initialize mixture coefficients randomly and normalize\n",
    "        mix_coeffs = np.random.rand(K)\n",
    "        mix_coeffs /= mix_coeffs.sum()\n",
    "\n",
    "        # Initialize means by randomly selecting data points without replacement\n",
    "        mus = np.random.choice(coords, K, replace=False)\n",
    "\n",
    "        # Initialize negative log-likelihood\n",
    "        nll_old = float('inf')\n",
    "        nll_diff = float('inf')\n",
    "        iter_count = 0\n",
    "\n",
    "        run_history = []\n",
    "\n",
    "        for iteration in range(max_iter):\n",
    "            # E-step\n",
    "            posts, clusters = expectation(coords, mus, sigma, mix_coeffs)\n",
    "\n",
    "            # M-step\n",
    "            mus, mix_coeffs = maximization(coords, posts, mix_coeffs)\n",
    "\n",
    "            # Compute negative log-likelihood\n",
    "            nll = negll(coords, mus, sigma, mix_coeffs)\n",
    "\n",
    "            # Store current state in history\n",
    "            run_history.append({\n",
    "                'mus': mus.copy(),\n",
    "                'mix_coeffs': mix_coeffs.copy(),\n",
    "                'clusters': clusters.copy(),\n",
    "                'nll': nll\n",
    "            })\n",
    "\n",
    "            # Compute change in NLL\n",
    "            nll_diff = abs(nll - nll_old)\n",
    "            nll_old = nll\n",
    "\n",
    "            iter_count += 1\n",
    "\n",
    "            # Check for convergence\n",
    "            if nll_diff < tol:\n",
    "                break\n",
    "\n",
    "        # Update the best parameters if current NLL is lower\n",
    "        if nll < best_nll:\n",
    "            best_nll = nll\n",
    "            best_params = {\n",
    "                'mus': mus.copy(),\n",
    "                'mix_coeffs': mix_coeffs.copy(),\n",
    "                'clusters': clusters.copy(),\n",
    "                'nll': nll\n",
    "            }\n",
    "            history = run_history.copy()\n",
    "            print(f'Run {run + 1}: Converged in {iter_count} iterations with NLL={nll:.4f}')\n",
    "\n",
    "    return best_params, history"
   ]
  },
  {
   "cell_type": "markdown",
   "metadata": {},
   "source": [
    "Let's run this."
   ]
  },
  {
   "cell_type": "code",
   "execution_count": 17,
   "metadata": {},
   "outputs": [
    {
     "name": "stdout",
     "output_type": "stream",
     "text": [
      "Run 1: Converged in 4 iterations with NLL=240.9882\n",
      "Run 3: Converged in 10 iterations with NLL=240.9882\n",
      "Run 5: Converged in 23 iterations with NLL=240.9882\n",
      "\n",
      "Best Estimated Parameters:\n",
      "Estimated Means: [ 6.65667144 10.07230614  0.08275953  3.1950666 ]\n",
      "Estimated Mixing Coefficients: [0.25103834 0.25127565 0.25258185 0.24510415]\n",
      "Negative Log-Likelihood: 240.9881771051168\n"
     ]
    }
   ],
   "source": [
    "# Parameters\n",
    "num_clust = 4  # Should match the true number of components\n",
    "beta = 0.5\n",
    "sigma = np.sqrt(1 / (2 * beta))  # Given beta=0.5, sigma=1.0\n",
    "\n",
    "# -------------------------------\n",
    "# Here's where you may want to edit\n",
    "# data to generate different mixtures.\n",
    "# -------------------------------\n",
    "\n",
    "# Run the EM algorithm and collect history\n",
    "best_params, history = em_gmm(data, K=num_clust, sigma=sigma, tol=1e-4, max_iter=1000, n_runs=10)\n",
    "\n",
    "# Extract best parameters\n",
    "mus_est = best_params['mus']\n",
    "mix_coeffs_est = best_params['mix_coeffs']\n",
    "clusters_est = best_params['clusters']\n",
    "nll_best = best_params['nll']\n",
    "\n",
    "print(\"\\nBest Estimated Parameters:\")\n",
    "print(\"Estimated Means:\", mus_est)\n",
    "print(\"Estimated Mixing Coefficients:\", mix_coeffs_est)\n",
    "print(\"Negative Log-Likelihood:\", nll_best)"
   ]
  },
  {
   "cell_type": "markdown",
   "metadata": {},
   "source": [
    "We can see again our means are estimated to be very close to our actual generated data, and the prediction is that each gaussian is mixed with equal amount, since our mixing coefficient vector $\\pi \\approx 0.25$ for all $q.$"
   ]
  },
  {
   "cell_type": "code",
   "execution_count": 18,
   "metadata": {},
   "outputs": [
    {
     "data": {
      "application/vnd.jupyter.widget-view+json": {
       "model_id": "320fbc7ca25a4691a845e465c837934b",
       "version_major": 2,
       "version_minor": 0
      },
      "text/plain": [
       "interactive(children=(IntSlider(value=0, continuous_update=False, description='Iteration:', layout=Layout(widt…"
      ]
     },
     "metadata": {},
     "output_type": "display_data"
    },
    {
     "data": {
      "text/plain": [
       "<function __main__.update_plot(iteration)>"
      ]
     },
     "execution_count": 18,
     "metadata": {},
     "output_type": "execute_result"
    }
   ],
   "source": [
    "cmap = plt.get_cmap('viridis')\n",
    "\n",
    "# Function to update the plot based on the iteration\n",
    "def update_plot(iteration):\n",
    "    clear_output(wait=True)  # Clear previous output\n",
    "    plt.figure(figsize=(12, 6))  # Adjusted to match user's request\n",
    "\n",
    "    # Get the parameters for the current iteration\n",
    "    current_mus = history[iteration]['mus']\n",
    "    current_mix_coeffs = history[iteration]['mix_coeffs']\n",
    "    current_clusters = history[iteration]['clusters']\n",
    "\n",
    "    # Assign colors to clusters\n",
    "    colors = cmap(np.linspace(0, 1, num_clust))\n",
    "\n",
    "    # Scatter plot of the data points slightly below the x-axis, colored by current cluster assignments\n",
    "    plt.scatter(\n",
    "        data,\n",
    "        -0.05 * np.ones_like(data),  # Position data points slightly below the x-axis\n",
    "        c=current_clusters,\n",
    "        cmap='viridis',\n",
    "        alpha=0.3,\n",
    "        marker='o',\n",
    "        edgecolor='k',\n",
    "        label='Data Points'\n",
    "    )\n",
    "\n",
    "    # Define x-axis range for plotting the Gaussian components\n",
    "    x = np.linspace(min(data) - 1, max(data) + 1, 1000)\n",
    "\n",
    "    # Plot each Gaussian component with matching colors\n",
    "    for k in range(num_clust):\n",
    "        component_pdf = current_mix_coeffs[k] * stats.norm.pdf(x, current_mus[k], sigma)\n",
    "        plt.plot(\n",
    "            x,\n",
    "            component_pdf,\n",
    "            linestyle='--',\n",
    "            alpha=0.6,\n",
    "            color=colors[k],\n",
    "            label=f'Component {k+1}'\n",
    "        )\n",
    "\n",
    "    # Plot the overall GMM\n",
    "    gmm_pdf = np.sum([\n",
    "        current_mix_coeffs[k] * stats.norm.pdf(x, current_mus[k], sigma) for k in range(num_clust)\n",
    "    ], axis=0)\n",
    "    plt.plot(\n",
    "        x,\n",
    "        gmm_pdf,\n",
    "        color='black',\n",
    "        label='Mixture Model'\n",
    "    )\n",
    "\n",
    "    # Aesthetics\n",
    "    plt.title(f'Gaussian Mixture Model using EM Algorithm\\nIteration {iteration + 1} of {len(history)}')\n",
    "    plt.xlabel('Data Values')\n",
    "    plt.ylabel('Density')\n",
    "    plt.legend()\n",
    "    plt.ylim(-0.1, max(gmm_pdf) + 0.1)  # Adjust y-axis to accommodate data points below the x-axis\n",
    "    plt.yticks([])  # Hide y-axis ticks for clarity\n",
    "    plt.show()\n",
    "\n",
    "# Create an interactive slider\n",
    "max_iteration = len(history) - 1\n",
    "slider = widgets.IntSlider(\n",
    "    value=0,\n",
    "    min=0,\n",
    "    max=max_iteration,\n",
    "    step=1,\n",
    "    description='Iteration:',\n",
    "    continuous_update=False,\n",
    "    layout={'width': '80%'}\n",
    ")\n",
    "\n",
    "# Display the interactive plot\n",
    "widgets.interact(update_plot, iteration=slider)"
   ]
  },
  {
   "cell_type": "markdown",
   "metadata": {},
   "source": [
    "Check out how the individual distributions and the larger mixture model change over the course of our EM iterations."
   ]
  },
  {
   "cell_type": "markdown",
   "metadata": {},
   "source": [
    "<div style=\"border: 1px solid #2196F3; background-color: #E3F2FD; padding: 10px; border-radius: 5px;\">\n",
    "You are now an expert in Gaussian Mixture Models, for the set you will do this with the negative binomial distribution. Let's look back at our plot above. Why are all the peaks the same height? Can you create input data that does not result in a plot like this, and how do you expect $\\pi$ to change?\n",
    "</div>"
   ]
  },
  {
   "cell_type": "markdown",
   "metadata": {},
   "source": [
    "### closing formalities"
   ]
  },
  {
   "cell_type": "code",
   "execution_count": 19,
   "metadata": {},
   "outputs": [
    {
     "name": "stdout",
     "output_type": "stream",
     "text": [
      "Python implementation: CPython\n",
      "Python version       : 3.12.5\n",
      "IPython version      : 8.27.0\n",
      "\n",
      "jupyter   : 1.1.1\n",
      "numpy     : 2.1.1\n",
      "matplotlib: 3.9.2\n",
      "\n",
      "Compiler    : Clang 16.0.6 \n",
      "OS          : Darwin\n",
      "Release     : 22.6.0\n",
      "Machine     : arm64\n",
      "Processor   : arm\n",
      "CPU cores   : 12\n",
      "Architecture: 64bit\n",
      "\n"
     ]
    }
   ],
   "source": [
    "%load_ext watermark\n",
    "%watermark -v -m -p jupyter,numpy,matplotlib"
   ]
  }
 ],
 "metadata": {
  "kernelspec": {
   "display_name": "Python 3 (ipykernel)",
   "language": "python",
   "name": "python3"
  },
  "language_info": {
   "codemirror_mode": {
    "name": "ipython",
    "version": 3
   },
   "file_extension": ".py",
   "mimetype": "text/x-python",
   "name": "python",
   "nbconvert_exporter": "python",
   "pygments_lexer": "ipython3",
   "version": "3.12.5"
  }
 },
 "nbformat": 4,
 "nbformat_minor": 4
}
