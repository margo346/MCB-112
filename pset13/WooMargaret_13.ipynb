{
 "cells": [
  {
   "cell_type": "code",
   "execution_count": 2,
   "id": "05813aec-eddc-42cc-8254-0a0b365f2ae5",
   "metadata": {},
   "outputs": [],
   "source": [
    "import numpy as np\n",
    "import random"
   ]
  },
  {
   "cell_type": "markdown",
   "id": "bcd09ba3-d7f1-4017-8f44-fe17daf3d929",
   "metadata": {},
   "source": [
    "## 1. Implement code for simulating sequences down tree T0."
   ]
  },
  {
   "cell_type": "markdown",
   "id": "48285f16-1c0d-4bd4-8098-fa0b4fb2a97b",
   "metadata": {},
   "source": [
    "Convert a branch $b_i$ to what we need for Jukes-Cantor: $\\alpha t_i = \\frac{b_i}{3}$"
   ]
  },
  {
   "cell_type": "code",
   "execution_count": null,
   "id": "c80650d6-bf30-466f-8d82-fc79b582c41a",
   "metadata": {},
   "outputs": [],
   "source": [
    "Trees = [ [ ('A', (), ()), ('Cat', (), ()), ('Mouse', (), ()), ('Rat', (), ()),  ('4', ('Lion', 0.1), ('Cat', 0.1)),  ('5', ('Mouse', 0.1), ('Rat', 0.1)),  ('6', ('4', 0.5), ('5', 0.5))],\n",
    "          [ ('A', (), ()), ('Cat', (), ()), ('Mouse', (), ()), ('Rat', (), ()),  ('4', ('Lion', 0.1), ('Mouse', 0.1)),  ('5', ('Cat', 0.1), ('Rat', 0.1)),  ('6', ('4', 0.5), ('5', 0.5))],\n",
    "          [ ('A', (), ()), ('Cat', (), ()), ('Mouse', (), ()), ('Rat', (), ()),  ('4', ('Lion', 0.1), ('Rat', 0.1)),  ('5', ('Mouse', 0.1), ('Cat', 0.1)),  ('6', ('4', 0.5), ('5', 0.5))] ]"
   ]
  },
  {
   "cell_type": "code",
   "execution_count": 5,
   "id": "a4c1947a-e9c6-4688-a1d0-a1d49835d3eb",
   "metadata": {},
   "outputs": [],
   "source": [
    "nucleotides = ['A', 'C', 'G', 'T']\n",
    "\n",
    "alpha = 1/3\n",
    "\n",
    "def simulation(L, matrix):\n",
    "    \"\"\"\n",
    "        Input: \n",
    "        - L: length of alignment \n",
    "        - matrix: branching pattern (of T0); a 4 x 4 matrix \n",
    "    \n",
    "        Returns: Sequences down tree T0\n",
    "    \"\"\"\n",
    "\n",
    "    # generate a random (i.i.d., uniform composition) DNA sequence of length L at the root\n",
    "    sequence = ''.join(random.choices(nucleotides, k = L))\n",
    "\n",
    "    # 4 x 4 matrix\n",
    "    \n",
    "    \n",
    "    # use matrix to generate descendant sequence from its ancestor, using given branch length\n",
    "    # to paramaterize a jukes/cantor P(b |a, t)\n",
    "    # Convert a branch $b_i$ to what we need for Jukes-Cantor: $\\alpha t_i = \\frac{b_i}{3}$\n",
    "    alpha * t = b / 3\n",
    "\n",
    "    # return an ungapped multiple sequence alignment of the four sequences (0-3) at the leaves of the tree.\n",
    "    return"
   ]
  },
  {
   "cell_type": "code",
   "execution_count": null,
   "id": "64f37391-00ad-4885-b6f6-4aaf63907991",
   "metadata": {},
   "outputs": [],
   "source": [
    "nucleotides = ['A', 'C', 'G', 'T']\n",
    "alpha = 1 / 3\n",
    "\n",
    "def generate_descendant_sequence(ancestor_seq, b):\n",
    "    \"\"\"\n",
    "    Generate descendant DNA sequence from ancestor sequence using the Jukes-Cantor model.\n",
    "    \n",
    "    Input:\n",
    "    - ancestor_seq: DNA sequence of the ancestor\n",
    "    - b: branch length (b_i) used to compute alpha * t\n",
    "    \n",
    "    Returns:\n",
    "    - descendant_seq: DNA sequence of the descendant\n",
    "    \"\"\"\n",
    "    # Calculate transition probabilities based on Jukes-Cantor\n",
    "    alpha_t = branch_length / 3\n",
    "    prob_no_change = 1/4 + 3/4 * np.exp(-4 * alpha_t / 3)  # Probability nucleotide stays the same\n",
    "    prob_change = (1 - prob_no_change) / 3                 # Probability nucleotide changes to one of the others\n",
    "    \n",
    "    descendant_seq = []\n",
    "    \n",
    "    for nt in ancestor_seq:\n",
    "        if random.random() < prob_no_change:\n",
    "            # No change\n",
    "            descendant_seq.append(nt)\n",
    "        else:\n",
    "            # Change to one of the other three nucleotides\n",
    "            other_nucleotides = [n for n in nucleotides if n != nt]\n",
    "            descendant_seq.append(random.choice(other_nucleotides))\n",
    "    \n",
    "    return ''.join(descendant_seq)\n",
    "\n",
    "def simulation(L, branch_lengths):\n",
    "    \"\"\"\n",
    "    Simulate sequences down a tree using the Jukes-Cantor model.\n",
    "    \n",
    "    Input:\n",
    "    - L: length of alignment\n",
    "    - branch_lengths: list of branch lengths for the tree (one per branch)\n",
    "    \n",
    "    Returns:\n",
    "    - leaves: dictionary of sequences at the leaves of the tree\n",
    "    \"\"\"\n",
    "    # Generate random root sequence\n",
    "    root_sequence = ''.join(random.choices(nucleotides, k=L))\n",
    "    \n",
    "    # Generate sequences down the tree\n",
    "    # Assuming tree with 4 leaves and 3 branches: 0 -> (1, 2), 1 -> (3, 4)\n",
    "    sequences = {'root': root_sequence}\n",
    "    sequences['1'] = generate_descendant_sequence(sequences['root'], branch_lengths[0])\n",
    "    sequences['2'] = generate_descendant_sequence(sequences['root'], branch_lengths[1])\n",
    "    sequences['3'] = generate_descendant_sequence(sequences['1'], branch_lengths[2])\n",
    "    sequences['4'] = generate_descendant_sequence(sequences['1'], branch_lengths[3])\n",
    "    \n",
    "    # return ungapped multiple sequence alignment\n",
    "    return {leaf: sequences[leaf] for leaf in ['1', '2', '3', '4']}"
   ]
  },
  {
   "cell_type": "code",
   "execution_count": null,
   "id": "477ef432-cfed-4353-85b7-f1731c0c7741",
   "metadata": {},
   "outputs": [],
   "source": [
    "%load_ext watermark\n",
    "%watermark -v -m -p jupyter,numpy,matplotlib"
   ]
  }
 ],
 "metadata": {
  "kernelspec": {
   "display_name": "Python 3 (ipykernel)",
   "language": "python",
   "name": "python3"
  },
  "language_info": {
   "codemirror_mode": {
    "name": "ipython",
    "version": 3
   },
   "file_extension": ".py",
   "mimetype": "text/x-python",
   "name": "python",
   "nbconvert_exporter": "python",
   "pygments_lexer": "ipython3",
   "version": "3.12.5"
  }
 },
 "nbformat": 4,
 "nbformat_minor": 5
}
