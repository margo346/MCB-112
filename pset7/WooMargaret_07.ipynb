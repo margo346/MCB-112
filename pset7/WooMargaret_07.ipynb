{
 "cells": [
  {
   "cell_type": "code",
   "execution_count": 1,
   "id": "e1ecb603-895a-4bf0-87ec-61ff47df96f9",
   "metadata": {},
   "outputs": [],
   "source": [
    "import numpy as np\n",
    "import matplotlib.pyplot as plt     # optional\n",
    "import scipy.stats as stats         # probably don't need\n",
    "import scipy.special as special     # maybe, for logsumexp()\n",
    "import seaborn as sns               # optional\n",
    "import pandas as pd                 # optional\n",
    "\n",
    "%matplotlib inline"
   ]
  },
  {
   "cell_type": "markdown",
   "id": "bcd8d7ca-4fda-40a0-91a7-f241ee80d166",
   "metadata": {},
   "source": [
    "**Question 1:** Implement a expectation-maximization motif finding algorithm."
   ]
  },
  {
   "cell_type": "markdown",
   "id": "70b9a69e-fb1c-468e-ae9f-c7bf6a9ba478",
   "metadata": {},
   "source": [
    "**Given:** We have a set of N fragment sequences of length L, each of which contains a motif of length W."
   ]
  },
  {
   "cell_type": "markdown",
   "id": "ef881d51-cfbd-465f-a87d-cce8710d8852",
   "metadata": {},
   "source": [
    "First, I define my function <code>random_pwm</code> to generate a random motif matrix. This probability weight matrix (PWM) takes in a width (w) as input."
   ]
  },
  {
   "cell_type": "code",
   "execution_count": 2,
   "id": "6e2d64be-49ec-40bb-86c3-429dc263d538",
   "metadata": {},
   "outputs": [],
   "source": [
    "def random_pwm(w: int):\n",
    "    # initialize a random motif matrix\n",
    "    # initialization step of a w (width) x 4 PWM \n",
    "    pwm = np.random.dirichlet([1, 1, 1, 1], size=w)\n",
    "    \n",
    "    return pwm"
   ]
  },
  {
   "cell_type": "markdown",
   "id": "5bb82d6f-4d2e-4ae1-b7eb-2636f345f169",
   "metadata": {},
   "source": [
    "Then, I calculate the background probabilities, or a vector with the frequencies of each of the four nucleotides across a list of sequences."
   ]
  },
  {
   "cell_type": "code",
   "execution_count": 3,
   "id": "a7389678-3cbd-4634-bd95-40552eba075a",
   "metadata": {},
   "outputs": [],
   "source": [
    "# background probabilities\n",
    "# frequencies of each nucleotide for all sequences in a file\n",
    "def background_probs(sequences):\n",
    "    \"\"\"\n",
    "    Calculate the background nucleotide probabilities for a given list of sequences.\n",
    "    \n",
    "    Parameters:\n",
    "    - sequences: list of sequences to calculate background probabilities for\n",
    "    \"\"\"\n",
    "\n",
    "    # concatenate all sequences into one long string for ease of computation\n",
    "    all_bases = ''.join(sequences) \n",
    "    base_counts = np.bincount([{'a': 0, 'c': 1, 'g': 2, 't': 3}[base] for base in all_bases], minlength=4)\n",
    "    total_length = len(all_bases)\n",
    "    \n",
    "    # normalize counts by the total length to get frequencies\n",
    "    f = base_counts / total_length\n",
    "    \n",
    "    return f"
   ]
  },
  {
   "cell_type": "markdown",
   "id": "b0c409f2-6ccc-4daa-a7b9-9fec627c08ce",
   "metadata": {},
   "source": [
    "**Function 1:** A routine to calculate a posterior distribution for the inferred motif position on an input sequence."
   ]
  },
  {
   "cell_type": "code",
   "execution_count": 4,
   "id": "933d8fbb-5682-4270-9713-dce90c4e85b4",
   "metadata": {},
   "outputs": [],
   "source": [
    "def calculate_posterior(w: int, sequence: str, pwm):\n",
    "    \"\"\"\n",
    "    Calculate the posterior probability for each position in the sequence and \n",
    "    return the posterior probability distribution as an array, posteriors. This will be called\n",
    "    on every sequence in a list of sequences.\n",
    "    \n",
    "    Parameters:\n",
    "    - w: width of the motif\n",
    "    - sequence: a singular DNA sequence\n",
    "    - pwm: an i.i.d. position weight matrix of dimensions (w x 4)\n",
    "    \"\"\"\n",
    "    \n",
    "    posteriors = []\n",
    "    L = len(sequence)\n",
    "\n",
    "    for i in range(L-w+1):\n",
    "        # for each sequence, calculate the posterior probabilities for each \"window\", or subsequence\n",
    "        subsequence = sequence[i:i+w]\n",
    "        # initialize likelihood to 1\n",
    "        likelihood = 1\n",
    "\n",
    "        # iterate through every nucleotide within the subsequence\n",
    "        for j, nt in enumerate(subsequence):\n",
    "            # index or find...?\n",
    "            nt_idx = 'acgt'.find(nt)\n",
    "\n",
    "            # update the PWM at each nucleotide position and for every sequence in the file\n",
    "            likelihood *= pwm[j][nt_idx]\n",
    "        posteriors.append(likelihood)\n",
    "\n",
    "    # normalization step: divide the array by the sum of all of the posterior probabilities\n",
    "    posteriors = np.array(posteriors) / np.sum(posteriors)  \n",
    "    return posteriors"
   ]
  },
  {
   "cell_type": "code",
   "execution_count": 5,
   "id": "831540a1-a7fe-461c-94c6-aa6c341e972a",
   "metadata": {},
   "outputs": [],
   "source": [
    "# function to calculate counts matrix, or cka\n",
    "def counts_matrix(w: int, sequences, pwm):\n",
    "    # initialize a counts matrix to 0, across all of the sequences\n",
    "    counts = np.zeros((w, 4))\n",
    "    \n",
    "    for sequence in sequences:\n",
    "        L = len(sequence)\n",
    "        # calculate the posterior probabilities for every sequence given the i.i.d. generated PWM\n",
    "        posteriors = calculate_posterior(w, sequence, pwm)\n",
    "        \n",
    "        # collect expected counts for each nucleotide at each motif position\n",
    "        # weigh every possible starting position (lambda) using the calculated posterior probability distribution\n",
    "        for i in range(L-w+1):\n",
    "            subseq = sequence[i:i+w]\n",
    "            for j, nt in enumerate(subseq):\n",
    "                nt_idx = 'acgt'.find(nt)\n",
    "                counts[j][nt_idx] += posteriors[i]\n",
    "    return counts"
   ]
  },
  {
   "cell_type": "markdown",
   "id": "2779a2b4-34f2-4bb5-99b7-2f32ba0ea700",
   "metadata": {},
   "source": [
    "Next, we write a function for the maximization step that computes the formula below for our ccounts matrix: \n",
    "\n",
    "$$ \n",
    "\\hat{p}_i = \\frac{c_i}{\\sum_j c_j}, j = (a, t, c, g)\n",
    "$$"
   ]
  },
  {
   "cell_type": "code",
   "execution_count": 14,
   "id": "c11508cb-8072-41c9-a42b-484c34d9d300",
   "metadata": {},
   "outputs": [],
   "source": [
    "# Maximization-step: normalization\n",
    "def update_pwm(counts):\n",
    "    # normalize counts to form probabilities and create a new PWM\n",
    "    pwm = counts / counts.sum(axis=1, keepdims=True)\n",
    "    return pwm"
   ]
  },
  {
   "cell_type": "markdown",
   "id": "e715e97b-043a-4dd6-b6e2-2ea04d6f525d",
   "metadata": {},
   "source": [
    "<code>convergence_check</code> checks every iteration for convergence and to see if the pka matrix needs to be further maximized."
   ]
  },
  {
   "cell_type": "code",
   "execution_count": 15,
   "id": "f6e4522f-3651-4e2b-803d-903a627591ff",
   "metadata": {},
   "outputs": [],
   "source": [
    "def convergence_check(iteration, new_pwm, pwm, threshold: float):\n",
    "# check convergence\n",
    "    if np.all(np.abs(new_pwm - pwm) < threshold):\n",
    "        print(f\"Converged after {iteration + 1} iterations.\")\n",
    "        return True\n",
    "    else:\n",
    "        return False"
   ]
  },
  {
   "cell_type": "markdown",
   "id": "44492b63-a3c7-4152-bab3-39d67c9a02c2",
   "metadata": {},
   "source": [
    "We will also define a function to calculate the relative entropy ofthe identified PWM $p_k (a)$. The formula for relative entropy that our <code>calculate_relative_entropy</code> follows is:\n",
    "$$ \\sum^W_{k=1} \\sum_a p_k (a) log_2 \\frac{p_k (a)}{f(a)} $$"
   ]
  },
  {
   "cell_type": "code",
   "execution_count": 24,
   "id": "f71a5e96-b731-42ef-8615-42feb13aaf30",
   "metadata": {},
   "outputs": [],
   "source": [
    "def calculate_relative_entropy(w, pwm, bg_frequencies):\n",
    "    \"\"\"\n",
    "    Calculate the relative entropy between the PWM and background frequencies.\n",
    "    \n",
    "    Parameters:\n",
    "    - pwm: array of shape (w, 4), where w is the motif width and 4 is for a, c, g, t\n",
    "    - bg_frequencies: vector of length 4 with background probabilities for a, c, g, t; generated by background_probs function\n",
    "    \n",
    "    Returns:\n",
    "    - relative_entropy: float, the total relative entropy score\n",
    "    \"\"\"\n",
    "    \n",
    "    relative_entropy = 0.0\n",
    "    \n",
    "    # iterate over motif positions\n",
    "    for k in range(w):  \n",
    "        # iterate over nucleotides A, C, G, T\n",
    "        for a in range(4):     \n",
    "            # avoid the case of log(0)\n",
    "            if pwm[k][a] > 0:  \n",
    "                relative_entropy += pwm[k][a] * np.log2(pwm[k][a]/bg_frequencies[a])\n",
    "    return relative_entropy"
   ]
  },
  {
   "cell_type": "markdown",
   "id": "8e7f42e9-e698-4bbd-a449-48f020860852",
   "metadata": {},
   "source": [
    "Below is my overarching **E-M algorithm**, which takes in a list of sequences from a converted FASTA file, a width (w) of the motif, the number of iterations, and a threshold. It utilizes the previously defined functions to enact the entire algorithm from start to finish."
   ]
  },
  {
   "cell_type": "code",
   "execution_count": 25,
   "id": "473e9740-67ef-4acd-b6e4-48d173725b4d",
   "metadata": {},
   "outputs": [],
   "source": [
    "def em_algorithm(sequences, w, max_iter=100, threshold=1e-4):\n",
    "    \n",
    "    # initialize PWM - the original probabilities will be relatively random\n",
    "    # the PWM is initialized once per iteration (once per E-M)\n",
    "    pwm = random_pwm(w)\n",
    "\n",
    "    # calculate our background probabilities\n",
    "    f = background_probs(sequences)\n",
    "    \n",
    "    for iteration in range(max_iter):\n",
    "        # E-step\n",
    "        counts = counts_matrix(w, sequences, pwm)\n",
    "        \n",
    "        # M-step\n",
    "        new_pwm = update_pwm(counts)\n",
    "\n",
    "        # if the iteration converges; if convergence_check returns \"True\"\n",
    "        if convergence_check(iteration, new_pwm, pwm, threshold):\n",
    "            break\n",
    "            \n",
    "        # pka is then updated for every sequence\n",
    "        pwm = new_pwm\n",
    "        \n",
    "        # calculate and report the relative entropy using the width, updated pwm, and calculated background frequencies\n",
    "        relative_entropy = calculate_relative_entropy(w, pwm, f)\n",
    "\n",
    "    return pwm, relative_entropy"
   ]
  },
  {
   "cell_type": "markdown",
   "id": "44b0ddd4-ffad-479e-b6a7-0467d4e1d087",
   "metadata": {},
   "source": [
    "**Question 2:** Do a synthetic positive control.\n",
    "\n",
    "Create a known motif PWM of some length W (4-8nt, say). To make a synthetic positive sequence, embed one sampled motif from the PWM at a random position in a larger random (i.i.d.) sequence of length L of a given background residue composition. Generate a synthetic positive control dataset of N sequences of length L, for N and L comparable to the size of Lestrade's datasets.\n",
    "\n",
    "Analyze your synthetic positive control dataset with your EM algorithm, choosing W appropriately. Do you identify the motif that you embedded in the sequences?"
   ]
  },
  {
   "cell_type": "markdown",
   "id": "92a09f36-644d-4db4-a3c7-150e2d9ab907",
   "metadata": {},
   "source": [
    "Below, my function <code>syn_random</code> generates a random synthetic dataset of N sequences of length L, for N and L comparable to the size of Lestrade's datasets. We will use this in both question 2 and question 3."
   ]
  },
  {
   "cell_type": "code",
   "execution_count": 79,
   "id": "55a49bcb-0ba9-49a0-bf21-7f50373ea6c0",
   "metadata": {},
   "outputs": [],
   "source": [
    "# list of four nucleotide bases\n",
    "nucleotides = ['a', 'c', 'g', 't']\n",
    "\n",
    "import random\n",
    "\n",
    "# function to generate a synthetic positive control dataset\n",
    "def syn_random(n: int, L):\n",
    "    \"\"\"\n",
    "    Function to generate a synthetic dataset. \n",
    "\n",
    "    Parameters:\n",
    "    - n: number of sequences\n",
    "    - L: length of each sequence\n",
    "    \"\"\"\n",
    "    syn_sequences = []\n",
    "\n",
    "    for i in range(n):        \n",
    "        sequence = ''.join(random.choices(nucleotides, k = L))\n",
    "        syn_sequences.append(sequence)\n",
    "\n",
    "    return syn_sequences"
   ]
  },
  {
   "cell_type": "code",
   "execution_count": 80,
   "id": "e9bfc4ab-71f6-44ca-a9c0-ad3859aefca9",
   "metadata": {},
   "outputs": [
    {
     "data": {
      "text/plain": [
       "array([[0.34204147, 0.44102388, 0.19709608, 0.01983857],\n",
       "       [0.05580904, 0.00743651, 0.59546204, 0.34129241],\n",
       "       [0.03676307, 0.18628444, 0.03784404, 0.73910845],\n",
       "       [0.24706625, 0.23545985, 0.19924167, 0.31823222],\n",
       "       [0.15266324, 0.00915638, 0.66070344, 0.17747695],\n",
       "       [0.0398233 , 0.02684316, 0.20710992, 0.72622361],\n",
       "       [0.32653937, 0.02852146, 0.48608876, 0.15885041]])"
      ]
     },
     "execution_count": 80,
     "metadata": {},
     "output_type": "execute_result"
    }
   ],
   "source": [
    "# initialize a pwm for the positive controls \n",
    "pos_width = 7\n",
    "pos_pwm = random_pwm(pos_width)\n",
    "pos_pwm"
   ]
  },
  {
   "cell_type": "markdown",
   "id": "064a8541-cab4-41be-aba9-360091b8666c",
   "metadata": {},
   "source": [
    "The motif extracted from the simple, randomly generated PWM above is cgttgtg. "
   ]
  },
  {
   "cell_type": "code",
   "execution_count": 81,
   "id": "2dfe1480-7cf4-4489-b1aa-6d99871a1385",
   "metadata": {},
   "outputs": [],
   "source": [
    "# hint: generate N=200 sequences of length L=50\n",
    "# insert the sequence 'cgttgtg' into a random overall list of sequences\n",
    "N = 200\n",
    "L = 50\n",
    "\n",
    "positive_controls = syn_random(N, L)\n",
    "\n",
    "pos_bg = background_probs(positive_controls)"
   ]
  },
  {
   "cell_type": "code",
   "execution_count": 82,
   "id": "7bca226e-a56a-4446-81d3-08d4a910c36e",
   "metadata": {},
   "outputs": [],
   "source": [
    "# generate a random background sequence of the specified length\n",
    "motif = 'cgttgtg'\n",
    "\n",
    "# Choose a random position to embed the motif\n",
    "start_pos = np.random.randint(0, L-len(motif)+1)\n",
    "\n",
    "idx = np.random.randint(200)\n",
    "\n",
    "positive_controls[idx] = positive_controls[idx][:start_pos] + motif+positive_controls[idx][start_pos + len(motif):]"
   ]
  },
  {
   "cell_type": "code",
   "execution_count": 83,
   "id": "7d9a1ae0-e25e-488a-ab78-02e4cecbbddb",
   "metadata": {},
   "outputs": [
    {
     "name": "stdout",
     "output_type": "stream",
     "text": [
      "PWM for Positive Controls: [[1.31071736e-01 2.35958857e-01 3.66701751e-03 6.29302390e-01]\n",
      " [2.12335573e-01 3.08393526e-01 4.37326556e-01 4.19443446e-02]\n",
      " [3.08042549e-01 3.69542893e-02 4.55801965e-01 1.99201197e-01]\n",
      " [1.87232717e-01 5.01807461e-01 2.22680720e-01 8.82791018e-02]\n",
      " [3.76884428e-01 2.55738103e-01 3.66490975e-01 8.86494595e-04]\n",
      " [3.17673949e-01 1.32388282e-01 1.35312484e-01 4.14625286e-01]\n",
      " [3.68486274e-05 3.57969510e-01 3.10557900e-01 3.31435742e-01]]\n",
      "Relative Entropy for Positive Controls: 2.549318953265543\n"
     ]
    }
   ],
   "source": [
    "pos_width = 7\n",
    "positive_dist = em_algorithm(positive_controls, pos_width)\n",
    "print(\"PWM for Positive Controls:\", positive_dist[0])\n",
    "print(\"Relative Entropy for Positive Controls:\", positive_dist[1])"
   ]
  },
  {
   "cell_type": "code",
   "execution_count": 84,
   "id": "2ebf65c3-f953-4637-b850-8508f959c74c",
   "metadata": {},
   "outputs": [
    {
     "data": {
      "image/png": "[encoded data removed]",
      "text/plain": [
       "<Figure size 640x480 with 2 Axes>"
      ]
     },
     "metadata": {},
     "output_type": "display_data"
    }
   ],
   "source": [
    "ylabels = ['a', 'c', 'g', 't']\n",
    "xlabels = np.linspace(1, pos_width, pos_width)\n",
    "\n",
    "# the Seaborn \"heatmap\" plot\n",
    "fig, ax = plt.subplots()\n",
    "sns.heatmap(positive_dist[0].T,  # takes a 2D array of data\n",
    "            ax=ax,\n",
    "            xticklabels=xlabels,  #   ... set custom x axis labels\n",
    "            yticklabels=ylabels,  #   ... set custom y axis labels\n",
    "            cbar=True,           #   ... turn off the default color scale bar\n",
    "            square=True,          #   ... force the plot to be square\n",
    "            linecolor='grey',     #   ... set grid line color\n",
    "            linewidth=0.5,        #   ... set grid line width\n",
    "            cmap='Blues')         #   ... set the heat map color scheme ('color map', cmap) \n",
    "\n",
    "ax.set(xlabel='position',                \n",
    "       ylabel='nucleotide',\n",
    "       title='PWM as a heatmap for Positive Controls')             \n",
    "for label in ax.get_yticklabels():    \n",
    "    label.set_size(10)                 # ... and font size on y-axis tick labels\n",
    "for label in ax.get_xticklabels():    \n",
    "    label.set_size(10)                 # ... and on x-axis tick labels\n",
    "\n",
    "# Finally, we save the whole Figure to a file.\n",
    "fig.set_tight_layout(True)\n",
    "\n",
    "plt.show()"
   ]
  },
  {
   "cell_type": "markdown",
   "id": "c0d8574b-2502-4573-97b6-5206d344dc35",
   "metadata": {},
   "source": [
    "**Interpretation:** Based on the heat map above, we get TGGCATC as our motif. Our embedded motif was CGTTGTG, so we did not identify our embedded motif, as the only overlap is 'TG'."
   ]
  },
  {
   "cell_type": "markdown",
   "id": "a9af0a9a-5a94-447d-ba1e-10456ac604c2",
   "metadata": {},
   "source": [
    "**Question 3:** Do a synthetic negative control.\n",
    "\n",
    "Generate a synthetic negative control dataset with similar characteristics as the dataset above, but without embedding any motif (i.e. all N sequences are just iid random sequences of length L, of some given background composition)."
   ]
  },
  {
   "cell_type": "code",
   "execution_count": 43,
   "id": "fa8238c0-b3ce-42ec-97b6-17a0afffacce",
   "metadata": {},
   "outputs": [],
   "source": [
    "# synthetic negative control\n",
    "# hint: generate N=200 sequences of length L=50\n",
    "N = 200\n",
    "L = 50\n",
    "\n",
    "negative_controls = syn_random(N, L)"
   ]
  },
  {
   "cell_type": "code",
   "execution_count": 47,
   "id": "cd259ead-0a3a-4c37-92c9-41bc2b8f4112",
   "metadata": {},
   "outputs": [
    {
     "name": "stdout",
     "output_type": "stream",
     "text": [
      "PWM for Negative Controls: [[0.45767751 0.00307683 0.44501488 0.09423078]\n",
      " [0.15206843 0.3767216  0.02853685 0.44267312]\n",
      " [0.00261495 0.22018985 0.26639734 0.51079785]\n",
      " [0.00778389 0.57515607 0.22046634 0.19659369]\n",
      " [0.44237007 0.08272392 0.12280847 0.35209753]\n",
      " [0.13254894 0.20736134 0.27631921 0.3837705 ]\n",
      " [0.08830318 0.28305467 0.29581447 0.33282768]]\n",
      "Relative Entropy for Negative Controls: 2.522528367066942\n"
     ]
    }
   ],
   "source": [
    "neg_width = 7\n",
    "negative_dist = em_algorithm(negative_controls, neg_width)\n",
    "print(\"PWM for Negative Controls:\", negative_dist[0])\n",
    "print(\"Relative Entropy for Negative Controls:\", negative_dist[1])"
   ]
  },
  {
   "cell_type": "code",
   "execution_count": 68,
   "id": "d68a8fd0-d996-45da-bea4-5e110bdcbab5",
   "metadata": {},
   "outputs": [
    {
     "data": {
      "image/png": "[encoded data removed]",
      "text/plain": [
       "<Figure size 640x480 with 2 Axes>"
      ]
     },
     "metadata": {},
     "output_type": "display_data"
    }
   ],
   "source": [
    "ylabels = ['a', 'c', 'g', 't']\n",
    "xlabels = np.linspace(1, neg_width, neg_width)\n",
    "\n",
    "# the Seaborn \"heatmap\" plot\n",
    "fig, ax = plt.subplots()\n",
    "sns.heatmap(negative_dist[0].T,  # takes a 2D array of data\n",
    "            ax=ax,\n",
    "            xticklabels=xlabels,  #   ... set custom x axis labels\n",
    "            yticklabels=ylabels,  #   ... set custom y axis labels\n",
    "            cbar=True,           #   ... turn off the default color scale bar\n",
    "            square=True,          #   ... force the plot to be square\n",
    "            linecolor='grey',     #   ... set grid line color\n",
    "            linewidth=0.5,        #   ... set grid line width\n",
    "            cmap='Blues')         #   ... set the heat map color scheme ('color map', cmap) \n",
    "\n",
    "ax.set(xlabel='position',                \n",
    "       ylabel='nucleotide',\n",
    "       title='PWM as a heatmap for Negative Controls')             \n",
    "for label in ax.get_yticklabels():    \n",
    "    label.set_size(10)                 # ... and font size on y-axis tick labels\n",
    "for label in ax.get_xticklabels():    \n",
    "    label.set_size(10)                 # ... and on x-axis tick labels\n",
    "\n",
    "# Finally, we save the whole Figure to a file.\n",
    "fig.set_tight_layout(True)\n",
    "\n",
    "plt.show()"
   ]
  },
  {
   "cell_type": "markdown",
   "id": "29954c8a-8d6c-45a3-8fef-fa8f67252b02",
   "metadata": {},
   "source": [
    "Analyze your synthetic positive control dataset with your EM algorithm, for an appropriate choice of W that you can compare to your results above. What is the score of the best identified motif in negative control data, compared to positive control data?\n",
    "\n",
    "**Interpretation**: From our negative controls, we get ATTCATT as our motif. From our positive controls, we get TGGCATC as our motif. The score of the best identified motif in the negative control data is 2.5225, as compared to a score of 2.549 from the positive control data."
   ]
  },
  {
   "cell_type": "markdown",
   "id": "50e4d6a0-4fc4-4880-959c-038a372e0f5c",
   "metadata": {},
   "source": [
    "**Question 4:** Identify the ribosome binding sites in Lestrade's phage.\n",
    "\n",
    "Analyze Lestrade's three datasets, for an appropriate choice of W. What is your best inference for the ribosome binding site consensus motif in each phage?"
   ]
  },
  {
   "cell_type": "code",
   "execution_count": 10,
   "id": "ccd5e7d1-530c-4a91-b8c3-ff9cb80fe266",
   "metadata": {},
   "outputs": [],
   "source": [
    "# function to convert FASTA file to a list of sequences\n",
    "def converter(file_name):\n",
    "\n",
    "    # read and open the file\n",
    "    with open(file_name, 'r') as file:\n",
    "        sequences = []\n",
    "        sequence = ''  \n",
    "\n",
    "        for line in file:\n",
    "            # if the line starts with '>', it's a new sequence header\n",
    "            if line.startswith('>'):\n",
    "                # if there's already a sequence, append it to sequences list\n",
    "                if sequence:\n",
    "                    sequences.append(sequence)\n",
    "                    sequence = ''  # reset for the next sequence\n",
    "\n",
    "            # strip whitespace/linebreaks and add the line to the current sequence\n",
    "            else:\n",
    "                sequence += line.strip()\n",
    "\n",
    "        # append the last sequence after the loop ends\n",
    "        if sequence:\n",
    "            sequences.append(sequence)\n",
    "    \n",
    "    # return the list of sequences\n",
    "    return sequences"
   ]
  },
  {
   "cell_type": "code",
   "execution_count": 19,
   "id": "668b79d6-da1c-4b66-91e2-bd2ac31ab3ab",
   "metadata": {},
   "outputs": [],
   "source": [
    "# convert FASTA files into a list of sequences ('aj', 'hh', 't4')\n",
    "aj = converter('AluminumJesus-upstream.fa')\n",
    "hh = converter('HangryHippo-upstream.fa')\n",
    "t4 = converter('T4-upstream.fa')"
   ]
  },
  {
   "cell_type": "code",
   "execution_count": 63,
   "id": "2e059e84-9523-433b-b6fb-887a9bb79b85",
   "metadata": {
    "scrolled": true
   },
   "outputs": [
    {
     "name": "stdout",
     "output_type": "stream",
     "text": [
      "Converged after 82 iterations.\n",
      "PWM for T4: [[4.74210255e-01 2.63472413e-19 2.54152136e-01 2.71637609e-01]\n",
      " [3.16945928e-01 4.51594114e-02 1.36865461e-01 5.01029199e-01]\n",
      " [3.55489925e-01 4.92032387e-18 1.59172899e-01 4.85337176e-01]\n",
      " [7.50858527e-01 6.41963051e-09 1.54411928e-01 9.47295385e-02]\n",
      " [7.84124708e-01 1.89552067e-06 6.68028703e-04 2.15205368e-01]]\n",
      "Relative Entropy for T4: 1.7433403351604402\n",
      "PWM for AluminumJesus: [[5.70163583e-01 1.80167170e-01 1.47699203e-01 1.01970044e-01]\n",
      " [1.67406496e-02 4.96731036e-02 9.27881736e-01 5.70451087e-03]\n",
      " [7.85638844e-02 5.40243637e-02 8.67411752e-01 2.16700588e-43]\n",
      " [6.28073417e-01 6.27561399e-02 1.14983563e-01 1.94186881e-01]\n",
      " [5.49653331e-02 1.40823362e-01 7.78145919e-01 2.60653864e-02]]\n",
      "Relative Entropy for AluminumJesus: 3.6701773686239223\n",
      "PWM for HangryHippo: [[4.25193703e-01 3.27196770e-02 4.59091540e-01 8.29950798e-02]\n",
      " [6.89417760e-01 5.51712358e-06 2.08620940e-01 1.01955783e-01]\n",
      " [1.94459105e-01 4.85945277e-02 7.00627235e-01 5.63191318e-02]\n",
      " [1.44841434e-01 2.99544775e-02 7.14003916e-01 1.11200173e-01]\n",
      " [7.22423290e-01 6.58832339e-04 1.62157303e-01 1.14760575e-01]]\n",
      "Relative Entropy for HangryHippo: 2.786255778902928\n"
     ]
    }
   ],
   "source": [
    "# run the EM algorithm on each set of sequences\n",
    "# set a variable for width so that we can vary it in our following analyses\n",
    "width = 5\n",
    "t4_dist = em_algorithm(t4, width)\n",
    "aj_dist = em_algorithm(aj, width)\n",
    "hh_dist = em_algorithm(hh, width)\n",
    "\n",
    "print(\"PWM for T4:\", t4_dist[0])\n",
    "print(\"Relative Entropy for T4:\", t4_dist[1])\n",
    "\n",
    "print(\"PWM for AluminumJesus:\", aj_dist[0])\n",
    "print(\"Relative Entropy for AluminumJesus:\", aj_dist[1])\n",
    "\n",
    "print(\"PWM for HangryHippo:\", hh_dist[0])\n",
    "print(\"Relative Entropy for HangryHippo:\", hh_dist[1])"
   ]
  },
  {
   "cell_type": "code",
   "execution_count": 64,
   "id": "0bcd5e09-75cf-405e-9a31-9582d3c54878",
   "metadata": {},
   "outputs": [
    {
     "data": {
      "image/png": "[encoded data removed]",
      "text/plain": [
       "<Figure size 640x480 with 2 Axes>"
      ]
     },
     "metadata": {},
     "output_type": "display_data"
    }
   ],
   "source": [
    "# letters on vertical y axis\n",
    "# positions on the horizontal x axis\n",
    "\n",
    "ylabels = ['a', 'c', 'g', 't']\n",
    "xlabels = np.linspace(1, width, width)\n",
    "\n",
    "# the Seaborn \"heatmap\" plot\n",
    "# with some examples of how it can be customized.\n",
    "fig, ax = plt.subplots()\n",
    "sns.heatmap(t4_dist[0].T,  # takes a 2D array of data\n",
    "            ax=ax,\n",
    "            xticklabels=xlabels,  #   ... set custom x axis labels\n",
    "            yticklabels=ylabels,  #   ... set custom y axis labels\n",
    "            cbar=True,           #   ... turn off the default color scale bar\n",
    "            square=True,          #   ... force the plot to be square\n",
    "            linecolor='grey',     #   ... set grid line color\n",
    "            linewidth=0.5,        #   ... set grid line width\n",
    "            cmap='Blues')         #   ... set the heat map color scheme ('color map', cmap) \n",
    "\n",
    "ax.set(xlabel='position',                \n",
    "       ylabel='nucleotide',\n",
    "       title='PWM as a heatmap for T4')             \n",
    "for label in ax.get_yticklabels():    \n",
    "    label.set_size(10)                 # ... and font size on y-axis tick labels\n",
    "for label in ax.get_xticklabels():    \n",
    "    label.set_size(10)                 # ... and on x-axis tick labels\n",
    "\n",
    "# Finally, we save the whole Figure to a file.\n",
    "fig.set_tight_layout(True)\n",
    "\n",
    "plt.show()"
   ]
  },
  {
   "cell_type": "code",
   "execution_count": 65,
   "id": "6468b44f-9c6a-403b-9d15-c0b27e24005b",
   "metadata": {},
   "outputs": [
    {
     "data": {
      "image/png": "[encoded data removed]",
      "text/plain": [
       "<Figure size 640x480 with 2 Axes>"
      ]
     },
     "metadata": {},
     "output_type": "display_data"
    }
   ],
   "source": [
    "# letters on vertical y axis\n",
    "# positions on the horizontal x axis\n",
    "\n",
    "ylabels = ['a', 'c', 'g', 't']\n",
    "xlabels = np.linspace(1, width, width)\n",
    "\n",
    "# the Seaborn \"heatmap\" plot\n",
    "# with some examples of how it can be customized.\n",
    "fig, ax = plt.subplots()\n",
    "sns.heatmap(aj_dist[0].T,  # takes a 2D array of data\n",
    "            ax=ax,\n",
    "            xticklabels=xlabels,  #   ... set custom x axis labels\n",
    "            yticklabels=ylabels,  #   ... set custom y axis labels\n",
    "            cbar=True,           #   ... turn off the default color scale bar\n",
    "            square=True,          #   ... force the plot to be square\n",
    "            linecolor='grey',     #   ... set grid line color\n",
    "            linewidth=0.5,        #   ... set grid line width\n",
    "            cmap='Blues')         #   ... set the heat map color scheme ('color map', cmap) \n",
    "\n",
    "ax.set(xlabel='position',                \n",
    "       ylabel='nucleotide',\n",
    "       title='PWM as a heatmap for AluminumJesus')             \n",
    "for label in ax.get_yticklabels():    \n",
    "    label.set_size(10)                 # ... and font size on y-axis tick labels\n",
    "for label in ax.get_xticklabels():    \n",
    "    label.set_size(10)                 # ... and on x-axis tick labels\n",
    "\n",
    "# Finally, we save the whole Figure to a file.\n",
    "fig.set_tight_layout(True)\n",
    "\n",
    "plt.show()"
   ]
  },
  {
   "cell_type": "code",
   "execution_count": 66,
   "id": "f2e7a5cf-2477-4480-a0af-a1281f360deb",
   "metadata": {},
   "outputs": [
    {
     "data": {
      "image/png": "[encoded data removed]",
      "text/plain": [
       "<Figure size 640x480 with 2 Axes>"
      ]
     },
     "metadata": {},
     "output_type": "display_data"
    }
   ],
   "source": [
    "# letters on vertical y axis\n",
    "# positions on the horizontal x axis\n",
    "\n",
    "ylabels = ['a', 'c', 'g', 't']\n",
    "xlabels = np.linspace(1, width, width)\n",
    "\n",
    "# the Seaborn \"heatmap\" plot\n",
    "# with some examples of how it can be customized.\n",
    "fig, ax = plt.subplots()\n",
    "sns.heatmap(hh_dist[0].T,  # takes a 2D array of data\n",
    "            ax=ax,\n",
    "            xticklabels=xlabels,  #   ... set custom x axis labels\n",
    "            yticklabels=ylabels,  #   ... set custom y axis labels\n",
    "            cbar=True,           #   ... turn off the default color scale bar\n",
    "            square=True,          #   ... force the plot to be square\n",
    "            linecolor='grey',     #   ... set grid line color\n",
    "            linewidth=0.5,        #   ... set grid line width\n",
    "            cmap='Blues')         #   ... set the heat map color scheme ('color map', cmap) \n",
    "\n",
    "ax.set(xlabel='position',                \n",
    "       ylabel='nucleotide',\n",
    "       title='PWM as a heatmap for HungryHippo')             \n",
    "for label in ax.get_yticklabels():    \n",
    "    label.set_size(10)                 # ... and font size on y-axis tick labels\n",
    "for label in ax.get_xticklabels():    \n",
    "    label.set_size(10)                 # ... and on x-axis tick labels\n",
    "\n",
    "# Finally, we save the whole Figure to a file.\n",
    "fig.set_tight_layout(True)\n",
    "\n",
    "plt.show()"
   ]
  },
  {
   "cell_type": "markdown",
   "id": "0ccf8a3c-d1a1-45b9-9ea4-264090fa97e8",
   "metadata": {},
   "source": [
    "For each of the three genomes, the deduced motif from my EM algorithm for varying widths are as follows:\n",
    "- T4: 4: ATAA, 5: ATTAA, 6: TGAGGA, 7: AGGAAAA, 8: AGGAAAAT\n",
    "- AluminumJesus: 4: GGAG, 5: AGGAG, 6: AGGAGG, 7: GAGGAGG, 8: GGAGGAGA\n",
    "- HungryHippo: 4: GGAG, 5: GAGGA, 6: GGAGGA, 7: AGGAGGA, 8: AAAGGAGA\n",
    "\n",
    "Thus, it appears that the motifs for each genome are as follows (by my best inference):\n",
    "- T4: AGGA\n",
    "- AluminumJesus: GGAGG\n",
    "- HungryHippo: GGAGGA"
   ]
  },
  {
   "cell_type": "code",
   "execution_count": 85,
   "id": "37a21d72-f148-4ef1-bbf8-89a7825dc11f",
   "metadata": {},
   "outputs": [
    {
     "name": "stdout",
     "output_type": "stream",
     "text": [
      "Python implementation: CPython\n",
      "Python version       : 3.12.5\n",
      "IPython version      : 8.27.0\n",
      "\n",
      "numpy     : 2.1.1\n",
      "matplotlib: 3.9.2\n",
      "seaborn   : 0.13.2\n",
      "pandas    : 2.2.2\n",
      "jupyter   : 1.1.1\n",
      "scipy     : 1.14.1\n",
      "math      : unknown\n",
      "\n",
      "Compiler    : Clang 16.0.6 \n",
      "OS          : Darwin\n",
      "Release     : 21.6.0\n",
      "Machine     : x86_64\n",
      "Processor   : i386\n",
      "CPU cores   : 4\n",
      "Architecture: 64bit\n",
      "\n"
     ]
    }
   ],
   "source": [
    "%load_ext watermark\n",
    "%watermark -v -m -p numpy,matplotlib,seaborn,pandas,jupyter,scipy,math"
   ]
  }
 ],
 "metadata": {
  "kernelspec": {
   "display_name": "Python 3 (ipykernel)",
   "language": "python",
   "name": "python3"
  },
  "language_info": {
   "codemirror_mode": {
    "name": "ipython",
    "version": 3
   },
   "file_extension": ".py",
   "mimetype": "text/x-python",
   "name": "python",
   "nbconvert_exporter": "python",
   "pygments_lexer": "ipython3",
   "version": "3.12.5"
  }
 },
 "nbformat": 4,
 "nbformat_minor": 5
}
