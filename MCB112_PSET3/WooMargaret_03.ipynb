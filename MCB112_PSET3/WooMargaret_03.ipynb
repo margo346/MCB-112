{
 "cells": [
  {
   "cell_type": "code",
   "execution_count": 63,
   "id": "84637add-fdca-45d0-82f5-a90b5fd2ed0d",
   "metadata": {},
   "outputs": [],
   "source": [
    "import numpy as np\n",
    "import matplotlib.pyplot as plt\n",
    "import pandas as pd\n",
    "import seaborn as sns               # optional\n",
    "\n",
    "%matplotlib inline"
   ]
  },
  {
   "cell_type": "markdown",
   "id": "97ae1a0f-d3ec-45a6-a000-2e4a72575425",
   "metadata": {},
   "source": [
    "**Question 1:** Check that the gene names match."
   ]
  },
  {
   "cell_type": "code",
   "execution_count": 64,
   "id": "a97af3c3-ecc4-4424-9774-4ae8de18a5b4",
   "metadata": {
    "scrolled": true
   },
   "outputs": [
    {
     "data": {
      "text/html": [
       "<div>\n",
       "<style scoped>\n",
       "    .dataframe tbody tr th:only-of-type {\n",
       "        vertical-align: middle;\n",
       "    }\n",
       "\n",
       "    .dataframe tbody tr th {\n",
       "        vertical-align: top;\n",
       "    }\n",
       "\n",
       "    .dataframe thead th {\n",
       "        text-align: right;\n",
       "    }\n",
       "</style>\n",
       "<table border=\"1\" class=\"dataframe\">\n",
       "  <thead>\n",
       "    <tr style=\"text-align: right;\">\n",
       "      <th></th>\n",
       "      <th>gene</th>\n",
       "      <th>class</th>\n",
       "      <th>0m</th>\n",
       "      <th>3m</th>\n",
       "      <th>6m</th>\n",
       "      <th>9m</th>\n",
       "      <th>12m</th>\n",
       "      <th>15m</th>\n",
       "      <th>18m</th>\n",
       "      <th>21m</th>\n",
       "      <th>24m</th>\n",
       "      <th>27m</th>\n",
       "      <th>30m</th>\n",
       "    </tr>\n",
       "  </thead>\n",
       "  <tbody>\n",
       "    <tr>\n",
       "      <th>0</th>\n",
       "      <td>fcnZ</td>\n",
       "      <td>early</td>\n",
       "      <td>5.00</td>\n",
       "      <td>3.00</td>\n",
       "      <td>0.00</td>\n",
       "      <td>0.00</td>\n",
       "      <td>0.00</td>\n",
       "      <td>0.00</td>\n",
       "      <td>0.00</td>\n",
       "      <td>0.00</td>\n",
       "      <td>0.00</td>\n",
       "      <td>0.0</td>\n",
       "      <td>0.0</td>\n",
       "    </tr>\n",
       "    <tr>\n",
       "      <th>1</th>\n",
       "      <td>mnsN</td>\n",
       "      <td>early</td>\n",
       "      <td>12.00</td>\n",
       "      <td>5.00</td>\n",
       "      <td>1.00</td>\n",
       "      <td>0.00</td>\n",
       "      <td>0.00</td>\n",
       "      <td>0.00</td>\n",
       "      <td>0.00</td>\n",
       "      <td>0.00</td>\n",
       "      <td>0.00</td>\n",
       "      <td>0.0</td>\n",
       "      <td>0.0</td>\n",
       "    </tr>\n",
       "    <tr>\n",
       "      <th>2</th>\n",
       "      <td>eqoN</td>\n",
       "      <td>middle</td>\n",
       "      <td>65.01</td>\n",
       "      <td>68.97</td>\n",
       "      <td>60.96</td>\n",
       "      <td>40.95</td>\n",
       "      <td>22.95</td>\n",
       "      <td>16.98</td>\n",
       "      <td>8.98</td>\n",
       "      <td>10.98</td>\n",
       "      <td>10.99</td>\n",
       "      <td>3.0</td>\n",
       "      <td>1.0</td>\n",
       "    </tr>\n",
       "    <tr>\n",
       "      <th>3</th>\n",
       "      <td>gupU</td>\n",
       "      <td>early</td>\n",
       "      <td>65.01</td>\n",
       "      <td>31.98</td>\n",
       "      <td>35.97</td>\n",
       "      <td>25.97</td>\n",
       "      <td>22.95</td>\n",
       "      <td>8.99</td>\n",
       "      <td>12.97</td>\n",
       "      <td>6.99</td>\n",
       "      <td>3.00</td>\n",
       "      <td>2.0</td>\n",
       "      <td>1.0</td>\n",
       "    </tr>\n",
       "    <tr>\n",
       "      <th>4</th>\n",
       "      <td>wccP</td>\n",
       "      <td>early</td>\n",
       "      <td>68.01</td>\n",
       "      <td>50.98</td>\n",
       "      <td>38.97</td>\n",
       "      <td>21.97</td>\n",
       "      <td>18.96</td>\n",
       "      <td>7.99</td>\n",
       "      <td>3.99</td>\n",
       "      <td>5.99</td>\n",
       "      <td>0.00</td>\n",
       "      <td>1.0</td>\n",
       "      <td>2.0</td>\n",
       "    </tr>\n",
       "    <tr>\n",
       "      <th>...</th>\n",
       "      <td>...</td>\n",
       "      <td>...</td>\n",
       "      <td>...</td>\n",
       "      <td>...</td>\n",
       "      <td>...</td>\n",
       "      <td>...</td>\n",
       "      <td>...</td>\n",
       "      <td>...</td>\n",
       "      <td>...</td>\n",
       "      <td>...</td>\n",
       "      <td>...</td>\n",
       "      <td>...</td>\n",
       "      <td>...</td>\n",
       "    </tr>\n",
       "    <tr>\n",
       "      <th>4395</th>\n",
       "      <td>hepQ</td>\n",
       "      <td>early</td>\n",
       "      <td>0.00</td>\n",
       "      <td>0.00</td>\n",
       "      <td>0.00</td>\n",
       "      <td>0.00</td>\n",
       "      <td>0.00</td>\n",
       "      <td>0.00</td>\n",
       "      <td>0.00</td>\n",
       "      <td>0.00</td>\n",
       "      <td>0.00</td>\n",
       "      <td>0.0</td>\n",
       "      <td>0.0</td>\n",
       "    </tr>\n",
       "    <tr>\n",
       "      <th>4396</th>\n",
       "      <td>nuzM</td>\n",
       "      <td>early</td>\n",
       "      <td>244.04</td>\n",
       "      <td>153.93</td>\n",
       "      <td>91.93</td>\n",
       "      <td>52.94</td>\n",
       "      <td>34.92</td>\n",
       "      <td>13.99</td>\n",
       "      <td>9.98</td>\n",
       "      <td>3.99</td>\n",
       "      <td>7.00</td>\n",
       "      <td>2.0</td>\n",
       "      <td>2.0</td>\n",
       "    </tr>\n",
       "    <tr>\n",
       "      <th>4397</th>\n",
       "      <td>dhgR</td>\n",
       "      <td>early</td>\n",
       "      <td>17.00</td>\n",
       "      <td>14.99</td>\n",
       "      <td>12.99</td>\n",
       "      <td>5.99</td>\n",
       "      <td>9.98</td>\n",
       "      <td>2.00</td>\n",
       "      <td>2.00</td>\n",
       "      <td>3.00</td>\n",
       "      <td>0.00</td>\n",
       "      <td>0.0</td>\n",
       "      <td>0.0</td>\n",
       "    </tr>\n",
       "    <tr>\n",
       "      <th>4398</th>\n",
       "      <td>wdkS</td>\n",
       "      <td>early</td>\n",
       "      <td>0.00</td>\n",
       "      <td>0.00</td>\n",
       "      <td>0.00</td>\n",
       "      <td>0.00</td>\n",
       "      <td>0.00</td>\n",
       "      <td>0.00</td>\n",
       "      <td>0.00</td>\n",
       "      <td>0.00</td>\n",
       "      <td>0.00</td>\n",
       "      <td>0.0</td>\n",
       "      <td>0.0</td>\n",
       "    </tr>\n",
       "    <tr>\n",
       "      <th>4399</th>\n",
       "      <td>nnaN</td>\n",
       "      <td>early</td>\n",
       "      <td>73.01</td>\n",
       "      <td>5.00</td>\n",
       "      <td>2.00</td>\n",
       "      <td>0.00</td>\n",
       "      <td>0.00</td>\n",
       "      <td>0.00</td>\n",
       "      <td>0.00</td>\n",
       "      <td>0.00</td>\n",
       "      <td>0.00</td>\n",
       "      <td>0.0</td>\n",
       "      <td>0.0</td>\n",
       "    </tr>\n",
       "  </tbody>\n",
       "</table>\n",
       "<p>4400 rows × 13 columns</p>\n",
       "</div>"
      ],
      "text/plain": [
       "      gene   class      0m      3m     6m     9m    12m    15m    18m    21m  \\\n",
       "0     fcnZ   early    5.00    3.00   0.00   0.00   0.00   0.00   0.00   0.00   \n",
       "1     mnsN   early   12.00    5.00   1.00   0.00   0.00   0.00   0.00   0.00   \n",
       "2     eqoN  middle   65.01   68.97  60.96  40.95  22.95  16.98   8.98  10.98   \n",
       "3     gupU   early   65.01   31.98  35.97  25.97  22.95   8.99  12.97   6.99   \n",
       "4     wccP   early   68.01   50.98  38.97  21.97  18.96   7.99   3.99   5.99   \n",
       "...    ...     ...     ...     ...    ...    ...    ...    ...    ...    ...   \n",
       "4395  hepQ   early    0.00    0.00   0.00   0.00   0.00   0.00   0.00   0.00   \n",
       "4396  nuzM   early  244.04  153.93  91.93  52.94  34.92  13.99   9.98   3.99   \n",
       "4397  dhgR   early   17.00   14.99  12.99   5.99   9.98   2.00   2.00   3.00   \n",
       "4398  wdkS   early    0.00    0.00   0.00   0.00   0.00   0.00   0.00   0.00   \n",
       "4399  nnaN   early   73.01    5.00   2.00   0.00   0.00   0.00   0.00   0.00   \n",
       "\n",
       "        24m  27m  30m  \n",
       "0      0.00  0.0  0.0  \n",
       "1      0.00  0.0  0.0  \n",
       "2     10.99  3.0  1.0  \n",
       "3      3.00  2.0  1.0  \n",
       "4      0.00  1.0  2.0  \n",
       "...     ...  ...  ...  \n",
       "4395   0.00  0.0  0.0  \n",
       "4396   7.00  2.0  2.0  \n",
       "4397   0.00  0.0  0.0  \n",
       "4398   0.00  0.0  0.0  \n",
       "4399   0.00  0.0  0.0  \n",
       "\n",
       "[4400 rows x 13 columns]"
      ]
     },
     "execution_count": 64,
     "metadata": {},
     "output_type": "execute_result"
    }
   ],
   "source": [
    "# Read the two files into two Pandas DataFrames:\n",
    "# Moriarty's data\n",
    "# df = pd.read_csv(myfile,sep='\\t',skiprows=(0,1,2),header=(0))\n",
    "moriarty_df = pd.read_table('Moriarty_SuppTable1.tsv', comment='#')\n",
    "moriarty_df"
   ]
  },
  {
   "cell_type": "code",
   "execution_count": 65,
   "id": "952c17ca-97e5-40ba-8792-b7bb79632894",
   "metadata": {},
   "outputs": [
    {
     "data": {
      "text/html": [
       "<div>\n",
       "<style scoped>\n",
       "    .dataframe tbody tr th:only-of-type {\n",
       "        vertical-align: middle;\n",
       "    }\n",
       "\n",
       "    .dataframe tbody tr th {\n",
       "        vertical-align: top;\n",
       "    }\n",
       "\n",
       "    .dataframe thead th {\n",
       "        text-align: right;\n",
       "    }\n",
       "</style>\n",
       "<table border=\"1\" class=\"dataframe\">\n",
       "  <thead>\n",
       "    <tr style=\"text-align: right;\">\n",
       "      <th></th>\n",
       "      <th>gene</th>\n",
       "      <th>synthesis_rate</th>\n",
       "      <th>halflife</th>\n",
       "    </tr>\n",
       "  </thead>\n",
       "  <tbody>\n",
       "    <tr>\n",
       "      <th>0</th>\n",
       "      <td>lsuW</td>\n",
       "      <td>0.27</td>\n",
       "      <td>1.85</td>\n",
       "    </tr>\n",
       "    <tr>\n",
       "      <th>1</th>\n",
       "      <td>ilaK</td>\n",
       "      <td>0.01</td>\n",
       "      <td>0.47</td>\n",
       "    </tr>\n",
       "    <tr>\n",
       "      <th>2</th>\n",
       "      <td>rmwC</td>\n",
       "      <td>0.58</td>\n",
       "      <td>14.76</td>\n",
       "    </tr>\n",
       "    <tr>\n",
       "      <th>3</th>\n",
       "      <td>dcwO</td>\n",
       "      <td>0.28</td>\n",
       "      <td>3.12</td>\n",
       "    </tr>\n",
       "    <tr>\n",
       "      <th>4</th>\n",
       "      <td>ajqX</td>\n",
       "      <td>0.31</td>\n",
       "      <td>2.58</td>\n",
       "    </tr>\n",
       "    <tr>\n",
       "      <th>...</th>\n",
       "      <td>...</td>\n",
       "      <td>...</td>\n",
       "      <td>...</td>\n",
       "    </tr>\n",
       "    <tr>\n",
       "      <th>4395</th>\n",
       "      <td>jccI</td>\n",
       "      <td>0.02</td>\n",
       "      <td>3.65</td>\n",
       "    </tr>\n",
       "    <tr>\n",
       "      <th>4396</th>\n",
       "      <td>yauB</td>\n",
       "      <td>0.01</td>\n",
       "      <td>3.78</td>\n",
       "    </tr>\n",
       "    <tr>\n",
       "      <th>4397</th>\n",
       "      <td>trdL</td>\n",
       "      <td>0.30</td>\n",
       "      <td>8.19</td>\n",
       "    </tr>\n",
       "    <tr>\n",
       "      <th>4398</th>\n",
       "      <td>qzjQ</td>\n",
       "      <td>0.05</td>\n",
       "      <td>11.75</td>\n",
       "    </tr>\n",
       "    <tr>\n",
       "      <th>4399</th>\n",
       "      <td>eovY</td>\n",
       "      <td>0.03</td>\n",
       "      <td>1.20</td>\n",
       "    </tr>\n",
       "  </tbody>\n",
       "</table>\n",
       "<p>4400 rows × 3 columns</p>\n",
       "</div>"
      ],
      "text/plain": [
       "      gene  synthesis_rate  halflife\n",
       "0     lsuW            0.27      1.85\n",
       "1     ilaK            0.01      0.47\n",
       "2     rmwC            0.58     14.76\n",
       "3     dcwO            0.28      3.12\n",
       "4     ajqX            0.31      2.58\n",
       "...    ...             ...       ...\n",
       "4395  jccI            0.02      3.65\n",
       "4396  yauB            0.01      3.78\n",
       "4397  trdL            0.30      8.19\n",
       "4398  qzjQ            0.05     11.75\n",
       "4399  eovY            0.03      1.20\n",
       "\n",
       "[4400 rows x 3 columns]"
      ]
     },
     "execution_count": 65,
     "metadata": {},
     "output_type": "execute_result"
    }
   ],
   "source": [
    "# Adler's data\n",
    "# adler_df = pd.read_csv('Adler_SuppTable2.tsv')\n",
    "adler_df = pd.read_table('Adler_SuppTable2.tsv', comment = '#')\n",
    "adler_df"
   ]
  },
  {
   "cell_type": "code",
   "execution_count": 66,
   "id": "191eb1f9-e3a2-41cf-a57e-13a0ae93dbf2",
   "metadata": {
    "scrolled": true
   },
   "outputs": [
    {
     "name": "stdout",
     "output_type": "stream",
     "text": [
      "Genes found in Moriarty's data but not Adler's:\n",
      "['1-Mar', '1-Sep', '1-Dec', '1-Oct', '2-Sep', '2-Mar', '2-Oct']\n"
     ]
    }
   ],
   "source": [
    "# identify the genes that appear in Moriarty's data but not Adler's:\n",
    "print('Genes found in Moriarty\\'s data but not Adler\\'s:')\n",
    "\n",
    "corrupted_names=list(set(moriarty_df['gene']) - set(adler_df['gene']))\n",
    "print(corrupted_names)"
   ]
  },
  {
   "cell_type": "code",
   "execution_count": 67,
   "id": "86f49fbc-cbb5-4ae5-85ea-8c5937db8a35",
   "metadata": {},
   "outputs": [
    {
     "name": "stdout",
     "output_type": "stream",
     "text": [
      "Genes found in Adler's data but not Moriarty's:\n",
      "['dec1', 'sep1', 'oct2', 'mar2', 'mar1', 'oct1', 'sep2']\n"
     ]
    }
   ],
   "source": [
    "# identify the genes that appear in Adler's data but not Moriarty's:\n",
    "print('Genes found in Adler\\'s data but not Moriarty\\'s:')\n",
    "print(list(set(adler_df['gene']) - set(moriarty_df['gene'])))"
   ]
  },
  {
   "cell_type": "code",
   "execution_count": 68,
   "id": "14582f0f-a4ba-417d-aa3f-dca338fd5cb9",
   "metadata": {},
   "outputs": [],
   "source": [
    "# fix any corrupted gene names in Moriarty's data, so the two lists of gene names match\n",
    "moriarty_df.replace({'1-Mar': 'mar1', '2-Mar': 'mar2', '1-Sep':'sep1', '2-Sep': 'sep2', '1-Oct': 'oct1', '2-Oct': 'oct2'}, inplace=True)"
   ]
  },
  {
   "cell_type": "code",
   "execution_count": 69,
   "id": "b7dec49d-1f96-4789-a3b3-d80999b86ec2",
   "metadata": {},
   "outputs": [
    {
     "data": {
      "text/html": [
       "<div>\n",
       "<style scoped>\n",
       "    .dataframe tbody tr th:only-of-type {\n",
       "        vertical-align: middle;\n",
       "    }\n",
       "\n",
       "    .dataframe tbody tr th {\n",
       "        vertical-align: top;\n",
       "    }\n",
       "\n",
       "    .dataframe thead th {\n",
       "        text-align: right;\n",
       "    }\n",
       "</style>\n",
       "<table border=\"1\" class=\"dataframe\">\n",
       "  <thead>\n",
       "    <tr style=\"text-align: right;\">\n",
       "      <th></th>\n",
       "      <th>gene</th>\n",
       "      <th>class</th>\n",
       "      <th>0m</th>\n",
       "      <th>3m</th>\n",
       "      <th>6m</th>\n",
       "      <th>9m</th>\n",
       "      <th>12m</th>\n",
       "      <th>15m</th>\n",
       "      <th>18m</th>\n",
       "      <th>21m</th>\n",
       "      <th>24m</th>\n",
       "      <th>27m</th>\n",
       "      <th>30m</th>\n",
       "    </tr>\n",
       "  </thead>\n",
       "  <tbody>\n",
       "    <tr>\n",
       "      <th>689</th>\n",
       "      <td>mar2</td>\n",
       "      <td>early</td>\n",
       "      <td>146.03</td>\n",
       "      <td>101.95</td>\n",
       "      <td>88.93</td>\n",
       "      <td>62.93</td>\n",
       "      <td>33.92</td>\n",
       "      <td>34.96</td>\n",
       "      <td>40.91</td>\n",
       "      <td>24.96</td>\n",
       "      <td>17.99</td>\n",
       "      <td>15.99</td>\n",
       "      <td>3.0</td>\n",
       "    </tr>\n",
       "  </tbody>\n",
       "</table>\n",
       "</div>"
      ],
      "text/plain": [
       "     gene  class      0m      3m     6m     9m    12m    15m    18m    21m  \\\n",
       "689  mar2  early  146.03  101.95  88.93  62.93  33.92  34.96  40.91  24.96   \n",
       "\n",
       "       24m    27m  30m  \n",
       "689  17.99  15.99  3.0  "
      ]
     },
     "execution_count": 69,
     "metadata": {},
     "output_type": "execute_result"
    }
   ],
   "source": [
    "# test to ensure that we correctly replaced the corrupted gene names\n",
    "moriarty_df[moriarty_df['gene'] == 'sep1']\n",
    "moriarty_df[moriarty_df['gene'] == 'mar2']"
   ]
  },
  {
   "cell_type": "markdown",
   "id": "ab5500fb-708f-4bdf-93f0-e70fd424dd02",
   "metadata": {},
   "source": [
    "**Explanation for what happened in Moriarty's names:** These gene names appear to be formmated in terms of dates, and it seems that Moriarty formatted them such that the day went first, followed by a hyphen, followed by the first two letters of the month. On the other hand, Adler formatted these gene names such that the first three characters were the first three letters of the month, followed by the date."
   ]
  },
  {
   "cell_type": "code",
   "execution_count": 70,
   "id": "4df689fd-0d77-40c2-ae81-1a11786bff56",
   "metadata": {},
   "outputs": [
    {
     "data": {
      "text/html": [
       "<div>\n",
       "<style scoped>\n",
       "    .dataframe tbody tr th:only-of-type {\n",
       "        vertical-align: middle;\n",
       "    }\n",
       "\n",
       "    .dataframe tbody tr th {\n",
       "        vertical-align: top;\n",
       "    }\n",
       "\n",
       "    .dataframe thead th {\n",
       "        text-align: right;\n",
       "    }\n",
       "</style>\n",
       "<table border=\"1\" class=\"dataframe\">\n",
       "  <thead>\n",
       "    <tr style=\"text-align: right;\">\n",
       "      <th></th>\n",
       "      <th>gene</th>\n",
       "      <th>class</th>\n",
       "      <th>0m</th>\n",
       "      <th>3m</th>\n",
       "      <th>6m</th>\n",
       "      <th>9m</th>\n",
       "      <th>12m</th>\n",
       "      <th>15m</th>\n",
       "      <th>18m</th>\n",
       "      <th>21m</th>\n",
       "      <th>24m</th>\n",
       "      <th>27m</th>\n",
       "      <th>30m</th>\n",
       "    </tr>\n",
       "  </thead>\n",
       "  <tbody>\n",
       "    <tr>\n",
       "      <th>2532</th>\n",
       "      <td>NaN</td>\n",
       "      <td>early</td>\n",
       "      <td>12.0</td>\n",
       "      <td>3.0</td>\n",
       "      <td>3.0</td>\n",
       "      <td>0.0</td>\n",
       "      <td>0.0</td>\n",
       "      <td>0.0</td>\n",
       "      <td>0.0</td>\n",
       "      <td>0.0</td>\n",
       "      <td>0.0</td>\n",
       "      <td>0.0</td>\n",
       "      <td>0.0</td>\n",
       "    </tr>\n",
       "  </tbody>\n",
       "</table>\n",
       "</div>"
      ],
      "text/plain": [
       "     gene  class    0m   3m   6m   9m  12m  15m  18m  21m  24m  27m  30m\n",
       "2532  NaN  early  12.0  3.0  3.0  0.0  0.0  0.0  0.0  0.0  0.0  0.0  0.0"
      ]
     },
     "execution_count": 70,
     "metadata": {},
     "output_type": "execute_result"
    }
   ],
   "source": [
    "# check for NaN values\n",
    "isna = moriarty_df.isna()\n",
    "isna_rows = isna.any(axis=1)# axis = 0 looks over all rows, axis = 1 looks over all columns\n",
    "moriarty_df.loc[isna_rows]"
   ]
  },
  {
   "cell_type": "code",
   "execution_count": 71,
   "id": "f561b49d-ed4d-4edf-b32b-5cf474bba9b5",
   "metadata": {},
   "outputs": [],
   "source": [
    "# rename this gene to xNaN to avoid confusion \n",
    "moriarty_df.at[2532, 'gene'] = 'xNaN'"
   ]
  },
  {
   "cell_type": "code",
   "execution_count": 72,
   "id": "b3964e3d-38c4-4fed-a64c-50190122514a",
   "metadata": {},
   "outputs": [
    {
     "data": {
      "text/html": [
       "<div>\n",
       "<style scoped>\n",
       "    .dataframe tbody tr th:only-of-type {\n",
       "        vertical-align: middle;\n",
       "    }\n",
       "\n",
       "    .dataframe tbody tr th {\n",
       "        vertical-align: top;\n",
       "    }\n",
       "\n",
       "    .dataframe thead th {\n",
       "        text-align: right;\n",
       "    }\n",
       "</style>\n",
       "<table border=\"1\" class=\"dataframe\">\n",
       "  <thead>\n",
       "    <tr style=\"text-align: right;\">\n",
       "      <th></th>\n",
       "      <th>gene</th>\n",
       "      <th>class</th>\n",
       "      <th>0m</th>\n",
       "      <th>3m</th>\n",
       "      <th>6m</th>\n",
       "      <th>9m</th>\n",
       "      <th>12m</th>\n",
       "      <th>15m</th>\n",
       "      <th>18m</th>\n",
       "      <th>21m</th>\n",
       "      <th>24m</th>\n",
       "      <th>27m</th>\n",
       "      <th>30m</th>\n",
       "    </tr>\n",
       "  </thead>\n",
       "  <tbody>\n",
       "  </tbody>\n",
       "</table>\n",
       "</div>"
      ],
      "text/plain": [
       "Empty DataFrame\n",
       "Columns: [gene, class, 0m, 3m, 6m, 9m, 12m, 15m, 18m, 21m, 24m, 27m, 30m]\n",
       "Index: []"
      ]
     },
     "execution_count": 72,
     "metadata": {},
     "output_type": "execute_result"
    }
   ],
   "source": [
    "# check again for NaN values\n",
    "isna = moriarty_df.isna()\n",
    "isna_rows = isna.any(axis=1)# axis = 0 looks over all rows, axis = 1 looks over all columns\n",
    "moriarty_df.loc[isna_rows]"
   ]
  },
  {
   "cell_type": "markdown",
   "id": "bdff386e-386c-4151-8ad2-0c9afb9d5b4d",
   "metadata": {},
   "source": [
    "We have successfully replaced any confusing NaN values!"
   ]
  },
  {
   "cell_type": "markdown",
   "id": "517aef9a-2a3d-4e08-8cf5-49b103c4db9f",
   "metadata": {},
   "source": [
    "**Question 2:** Tidy the data."
   ]
  },
  {
   "cell_type": "code",
   "execution_count": 73,
   "id": "7056bfbd-58ba-42bf-a0a4-0348f2b51c7b",
   "metadata": {},
   "outputs": [
    {
     "data": {
      "text/html": [
       "<div>\n",
       "<style scoped>\n",
       "    .dataframe tbody tr th:only-of-type {\n",
       "        vertical-align: middle;\n",
       "    }\n",
       "\n",
       "    .dataframe tbody tr th {\n",
       "        vertical-align: top;\n",
       "    }\n",
       "\n",
       "    .dataframe thead th {\n",
       "        text-align: right;\n",
       "    }\n",
       "</style>\n",
       "<table border=\"1\" class=\"dataframe\">\n",
       "  <thead>\n",
       "    <tr style=\"text-align: right;\">\n",
       "      <th></th>\n",
       "      <th>gene</th>\n",
       "      <th>class</th>\n",
       "      <th>time</th>\n",
       "      <th>mRNA expression</th>\n",
       "    </tr>\n",
       "  </thead>\n",
       "  <tbody>\n",
       "    <tr>\n",
       "      <th>0</th>\n",
       "      <td>fcnZ</td>\n",
       "      <td>early</td>\n",
       "      <td>0</td>\n",
       "      <td>5.00</td>\n",
       "    </tr>\n",
       "    <tr>\n",
       "      <th>1</th>\n",
       "      <td>mnsN</td>\n",
       "      <td>early</td>\n",
       "      <td>0</td>\n",
       "      <td>12.00</td>\n",
       "    </tr>\n",
       "    <tr>\n",
       "      <th>2</th>\n",
       "      <td>eqoN</td>\n",
       "      <td>middle</td>\n",
       "      <td>0</td>\n",
       "      <td>65.01</td>\n",
       "    </tr>\n",
       "    <tr>\n",
       "      <th>3</th>\n",
       "      <td>gupU</td>\n",
       "      <td>early</td>\n",
       "      <td>0</td>\n",
       "      <td>65.01</td>\n",
       "    </tr>\n",
       "    <tr>\n",
       "      <th>4</th>\n",
       "      <td>wccP</td>\n",
       "      <td>early</td>\n",
       "      <td>0</td>\n",
       "      <td>68.01</td>\n",
       "    </tr>\n",
       "    <tr>\n",
       "      <th>...</th>\n",
       "      <td>...</td>\n",
       "      <td>...</td>\n",
       "      <td>...</td>\n",
       "      <td>...</td>\n",
       "    </tr>\n",
       "    <tr>\n",
       "      <th>48395</th>\n",
       "      <td>hepQ</td>\n",
       "      <td>early</td>\n",
       "      <td>30</td>\n",
       "      <td>0.00</td>\n",
       "    </tr>\n",
       "    <tr>\n",
       "      <th>48396</th>\n",
       "      <td>nuzM</td>\n",
       "      <td>early</td>\n",
       "      <td>30</td>\n",
       "      <td>2.00</td>\n",
       "    </tr>\n",
       "    <tr>\n",
       "      <th>48397</th>\n",
       "      <td>dhgR</td>\n",
       "      <td>early</td>\n",
       "      <td>30</td>\n",
       "      <td>0.00</td>\n",
       "    </tr>\n",
       "    <tr>\n",
       "      <th>48398</th>\n",
       "      <td>wdkS</td>\n",
       "      <td>early</td>\n",
       "      <td>30</td>\n",
       "      <td>0.00</td>\n",
       "    </tr>\n",
       "    <tr>\n",
       "      <th>48399</th>\n",
       "      <td>nnaN</td>\n",
       "      <td>early</td>\n",
       "      <td>30</td>\n",
       "      <td>0.00</td>\n",
       "    </tr>\n",
       "  </tbody>\n",
       "</table>\n",
       "<p>48400 rows × 4 columns</p>\n",
       "</div>"
      ],
      "text/plain": [
       "       gene   class time  mRNA expression\n",
       "0      fcnZ   early    0             5.00\n",
       "1      mnsN   early    0            12.00\n",
       "2      eqoN  middle    0            65.01\n",
       "3      gupU   early    0            65.01\n",
       "4      wccP   early    0            68.01\n",
       "...     ...     ...  ...              ...\n",
       "48395  hepQ   early   30             0.00\n",
       "48396  nuzM   early   30             2.00\n",
       "48397  dhgR   early   30             0.00\n",
       "48398  wdkS   early   30             0.00\n",
       "48399  nnaN   early   30             0.00\n",
       "\n",
       "[48400 rows x 4 columns]"
      ]
     },
     "execution_count": 73,
     "metadata": {},
     "output_type": "execute_result"
    }
   ],
   "source": [
    "# for each gene, you have Moriarty's classification ('early', 'middle', 'late'), his TPM measurements at 11 time points, \n",
    "# and Adler's synthesis and halflife data\n",
    "temp = moriarty_df\n",
    "temp = temp.rename(columns={'0m': '0', '3m': '3', '6m': '6', '9m': '9', '12m': '12', '15m': '15', '18m': '18', '21m': '21', '24m': '24', '27m': '27', '30m': '30'})\n",
    "\n",
    "tidy_moriarty = pd.melt(temp, id_vars=['gene', 'class'], value_vars=['0', '3', '6', '9', '12', '15', '18', '21', '24', '27', '30'])\n",
    "tidy_moriarty = tidy_moriarty.rename(columns={'variable': 'time', 'value': 'mRNA expression'})\n",
    "tidy_moriarty"
   ]
  },
  {
   "cell_type": "markdown",
   "id": "fa625e29-39cf-4da0-9f95-03d3803f8b9f",
   "metadata": {},
   "source": [
    "**Question 3:** Explore the data."
   ]
  },
  {
   "cell_type": "code",
   "execution_count": 74,
   "id": "5e39f6c3-0690-4d70-9b95-e726946fecf2",
   "metadata": {},
   "outputs": [
    {
     "name": "stdout",
     "output_type": "stream",
     "text": [
      "The five genes with the highest mRNA synthesis rate (mRNA/min) are:\n",
      " uzdZ\n",
      "mkqZ\n",
      "pfhT\n",
      "coxU\n",
      "wduX\n"
     ]
    }
   ],
   "source": [
    "# output the five genes with the highest mRNA synthesis rate\n",
    "highest_synth = adler_df.sort_values(by=['synthesis_rate'], ascending = False)[0:5]\n",
    "\n",
    "print('The five genes with the highest mRNA synthesis rate (mRNA/min) are:\\n',\n",
    "      highest_synth['gene'].to_string(index=False))"
   ]
  },
  {
   "cell_type": "code",
   "execution_count": 75,
   "id": "43627b8a-2ce8-42ac-bd52-2b735ba800b8",
   "metadata": {},
   "outputs": [
    {
     "name": "stdout",
     "output_type": "stream",
     "text": [
      "The five genes with the longest mRNA halflife (min) are:\n",
      " qonD\n",
      "cxyH\n",
      "znkB\n",
      "qyfB\n",
      "qunV\n"
     ]
    }
   ],
   "source": [
    "# output the five genes with the longest mRNA halflife\n",
    "longest_halflife = adler_df.sort_values(by=['halflife'], ascending = False)[0:5]\n",
    "\n",
    "print('The five genes with the longest mRNA halflife (min) are:\\n',\n",
    "      longest_halflife['gene'].to_string(index=False))\n",
    "\n",
    "# even when expression stops, mRNA persists "
   ]
  },
  {
   "cell_type": "code",
   "execution_count": 76,
   "id": "a512e18c-2ba7-463b-b1f8-afabfb3de7ef",
   "metadata": {},
   "outputs": [
    {
     "name": "stdout",
     "output_type": "stream",
     "text": [
      "The five genes with the highest ratio of expression at t=30' vs. t=0: \n",
      " qonD\n",
      "znkB\n",
      "cxyH\n",
      "qyfB\n",
      "nwoU\n"
     ]
    }
   ],
   "source": [
    "# output the five genes that have the highest ratio of expression at t=30' vs. t=0\n",
    "\n",
    "# calculate the ratio of expression\n",
    "moriarty_df['t30/t0_ratio'] = moriarty_df['30m'] / moriarty_df['0m']\n",
    "\n",
    "# replace ratio values of infinity with \"NaN\" -- we want to ignore the rows with a value of 0 for t=0\n",
    "moriarty_df.replace(np.inf, np.nan, inplace=True)\n",
    "\n",
    "# sort in order from highest to lowest\n",
    "highest_ratio = moriarty_df.sort_values(by=['t30/t0_ratio'], ascending = False)[0:5]\n",
    "\n",
    "print('The five genes with the highest ratio of expression at t=30\\' vs. t=0: \\n', highest_ratio['gene'].to_string(index=False))"
   ]
  },
  {
   "cell_type": "code",
   "execution_count": 86,
   "id": "6eb52259-055a-4ad8-a582-1997da1b4951",
   "metadata": {},
   "outputs": [
    {
     "name": "stdout",
     "output_type": "stream",
     "text": [
      "The five genes with the highest ratio of expression at t=30' vs. t=15': \n",
      " shoW\n",
      "gksE\n",
      "nwoU\n",
      "qonD\n",
      "bmuE\n"
     ]
    }
   ],
   "source": [
    "# output the five genes that have the highest ratio of expression at t=30' vs. t=15'\n",
    "\n",
    "# calculate the ratio of expression\n",
    "moriarty_df['t30/t15_ratio'] = moriarty_df['30m'] / moriarty_df['15m']\n",
    "\n",
    "# replace ratio values of infinity with \"NaN\" -- we want to ignore the rows with a value of 0 for t=0\n",
    "moriarty_df.replace(np.inf, np.nan, inplace=True)\n",
    "\n",
    "# sort in order from highest to lowest\n",
    "highest_ratio = moriarty_df.sort_values(by=['t30/t15_ratio'], ascending = False)[0:5]\n",
    "\n",
    "print('The five genes with the highest ratio of expression at t=30\\' vs. t=15\\': \\n', highest_ratio['gene'].to_string(index=False))"
   ]
  },
  {
   "cell_type": "code",
   "execution_count": 87,
   "id": "01c77647-0d5b-4f4e-b0d1-c7739c280993",
   "metadata": {},
   "outputs": [
    {
     "name": "stdout",
     "output_type": "stream",
     "text": [
      "Genes both in the list of the top 5 t30/t0 ratio as well as the top 5 longest halflifes: ['qonD']\n"
     ]
    }
   ],
   "source": [
    "print(\"Genes both in the list of the top 5 t30/t0 ratio as well as the top 5 longest halflifes:\",\n",
    "    list(set(highest_ratio['gene']).intersection(longest_halflife['gene'])))"
   ]
  },
  {
   "cell_type": "markdown",
   "id": "5ca50ee4-40fa-4f18-a1a3-5b6af8fb09c6",
   "metadata": {},
   "source": [
    "There appears to be a high overlap between these two lists, indicating a potential correlation between halflife and ratio of expression at time 30 and time 0."
   ]
  },
  {
   "cell_type": "code",
   "execution_count": 88,
   "id": "b1e3999c-dafa-4d7e-9ff6-a83193824a03",
   "metadata": {},
   "outputs": [
    {
     "name": "stdout",
     "output_type": "stream",
     "text": [
      "Genes both in the list of the top 5 t30/t0 ratio as well as the top 5 highest synthesis rates: []\n"
     ]
    }
   ],
   "source": [
    "print(\"Genes both in the list of the top 5 t30/t0 ratio as well as the top 5 highest synthesis rates:\",\n",
    "    list(set(highest_ratio['gene']).intersection(highest_synth['gene'])))"
   ]
  },
  {
   "cell_type": "markdown",
   "id": "84f7912f-b10d-4fd2-8444-7e23db5dc862",
   "metadata": {},
   "source": [
    "There appears to be no overlap between these two lists, indicating a lack of correlation between high synthesis rate and ratio of expression at time 30 and time 0. Let's test the opposite (low synthesis rate and ratio of expression)."
   ]
  },
  {
   "cell_type": "code",
   "execution_count": 89,
   "id": "6e4b9619-3aa4-4dd2-aaa8-1115115dc3cd",
   "metadata": {},
   "outputs": [
    {
     "name": "stdout",
     "output_type": "stream",
     "text": [
      "The five genes with the lowest mRNA synthesis rate (mRNA/min) are:\n",
      " dezI\n",
      "drtR\n",
      "tpyV\n",
      "fxwV\n",
      "hjgK\n"
     ]
    }
   ],
   "source": [
    "# output the five genes with the lowest mRNA synthesis rate\n",
    "lowest_synth = adler_df.sort_values(by=['synthesis_rate'], ascending = True)[0:5]\n",
    "\n",
    "print('The five genes with the lowest mRNA synthesis rate (mRNA/min) are:\\n',\n",
    "      lowest_synth['gene'].to_string(index=False))"
   ]
  },
  {
   "cell_type": "markdown",
   "id": "6f1b0ab5-3012-43f6-bb98-094fd8c3d565",
   "metadata": {},
   "source": [
    "There is still no overlap between lowest mRNA synthesis rate and the ratio, so perhaps there is no correlation between synthesis rate and t30/t0 ratio. We can explore this further through visualizations in question 5."
   ]
  },
  {
   "cell_type": "markdown",
   "id": "20a5aeec-8a1d-4611-af23-28c27973d0f2",
   "metadata": {},
   "source": [
    "**Question 4:** Merge the data."
   ]
  },
  {
   "cell_type": "code",
   "execution_count": 77,
   "id": "f6977cdc-40fa-4fe7-b58a-8cbb42e773db",
   "metadata": {},
   "outputs": [],
   "source": [
    "# merge moriarty's wide data with adler's data\n",
    "merged = adler_df.merge(right=moriarty_df, # DataFrame to merge with\n",
    "                  on='gene' # Column (or list of columns) used for merging\n",
    "                 )\n",
    "\n",
    "# table columns: class, synth_rate, halflife, t30/t0 ratio; thus we have to drop the individual time columns\n",
    "merged = merged.drop(['0m', '3m', '6m', '9m', '12m', '15m', '18m', '21m', '24m', '27m',\t'30m'], axis=1)"
   ]
  },
  {
   "cell_type": "code",
   "execution_count": 78,
   "id": "3440a879-5ddf-4950-b018-88ef5b6dec14",
   "metadata": {},
   "outputs": [
    {
     "data": {
      "text/html": [
       "<div>\n",
       "<style scoped>\n",
       "    .dataframe tbody tr th:only-of-type {\n",
       "        vertical-align: middle;\n",
       "    }\n",
       "\n",
       "    .dataframe tbody tr th {\n",
       "        vertical-align: top;\n",
       "    }\n",
       "\n",
       "    .dataframe thead th {\n",
       "        text-align: right;\n",
       "    }\n",
       "</style>\n",
       "<table border=\"1\" class=\"dataframe\">\n",
       "  <thead>\n",
       "    <tr style=\"text-align: right;\">\n",
       "      <th></th>\n",
       "      <th>gene</th>\n",
       "      <th>synthesis_rate</th>\n",
       "      <th>halflife</th>\n",
       "      <th>class</th>\n",
       "      <th>t30/t0_ratio</th>\n",
       "    </tr>\n",
       "  </thead>\n",
       "  <tbody>\n",
       "    <tr>\n",
       "      <th>0</th>\n",
       "      <td>lsuW</td>\n",
       "      <td>0.27</td>\n",
       "      <td>1.85</td>\n",
       "      <td>early</td>\n",
       "      <td>0.000000</td>\n",
       "    </tr>\n",
       "    <tr>\n",
       "      <th>1</th>\n",
       "      <td>ilaK</td>\n",
       "      <td>0.01</td>\n",
       "      <td>0.47</td>\n",
       "      <td>early</td>\n",
       "      <td>0.000000</td>\n",
       "    </tr>\n",
       "    <tr>\n",
       "      <th>2</th>\n",
       "      <td>rmwC</td>\n",
       "      <td>0.58</td>\n",
       "      <td>14.76</td>\n",
       "      <td>late</td>\n",
       "      <td>2.409041</td>\n",
       "    </tr>\n",
       "    <tr>\n",
       "      <th>3</th>\n",
       "      <td>dcwO</td>\n",
       "      <td>0.28</td>\n",
       "      <td>3.12</td>\n",
       "      <td>early</td>\n",
       "      <td>0.010415</td>\n",
       "    </tr>\n",
       "    <tr>\n",
       "      <th>4</th>\n",
       "      <td>ajqX</td>\n",
       "      <td>0.31</td>\n",
       "      <td>2.58</td>\n",
       "      <td>early</td>\n",
       "      <td>0.007462</td>\n",
       "    </tr>\n",
       "    <tr>\n",
       "      <th>...</th>\n",
       "      <td>...</td>\n",
       "      <td>...</td>\n",
       "      <td>...</td>\n",
       "      <td>...</td>\n",
       "      <td>...</td>\n",
       "    </tr>\n",
       "    <tr>\n",
       "      <th>4393</th>\n",
       "      <td>jccI</td>\n",
       "      <td>0.02</td>\n",
       "      <td>3.65</td>\n",
       "      <td>early</td>\n",
       "      <td>0.000000</td>\n",
       "    </tr>\n",
       "    <tr>\n",
       "      <th>4394</th>\n",
       "      <td>yauB</td>\n",
       "      <td>0.01</td>\n",
       "      <td>3.78</td>\n",
       "      <td>early</td>\n",
       "      <td>0.000000</td>\n",
       "    </tr>\n",
       "    <tr>\n",
       "      <th>4395</th>\n",
       "      <td>trdL</td>\n",
       "      <td>0.30</td>\n",
       "      <td>8.19</td>\n",
       "      <td>middle</td>\n",
       "      <td>0.817350</td>\n",
       "    </tr>\n",
       "    <tr>\n",
       "      <th>4396</th>\n",
       "      <td>qzjQ</td>\n",
       "      <td>0.05</td>\n",
       "      <td>11.75</td>\n",
       "      <td>middle</td>\n",
       "      <td>1.745736</td>\n",
       "    </tr>\n",
       "    <tr>\n",
       "      <th>4397</th>\n",
       "      <td>eovY</td>\n",
       "      <td>0.03</td>\n",
       "      <td>1.20</td>\n",
       "      <td>early</td>\n",
       "      <td>0.000000</td>\n",
       "    </tr>\n",
       "  </tbody>\n",
       "</table>\n",
       "<p>4398 rows × 5 columns</p>\n",
       "</div>"
      ],
      "text/plain": [
       "      gene  synthesis_rate  halflife   class  t30/t0_ratio\n",
       "0     lsuW            0.27      1.85   early      0.000000\n",
       "1     ilaK            0.01      0.47   early      0.000000\n",
       "2     rmwC            0.58     14.76    late      2.409041\n",
       "3     dcwO            0.28      3.12   early      0.010415\n",
       "4     ajqX            0.31      2.58   early      0.007462\n",
       "...    ...             ...       ...     ...           ...\n",
       "4393  jccI            0.02      3.65   early      0.000000\n",
       "4394  yauB            0.01      3.78   early      0.000000\n",
       "4395  trdL            0.30      8.19  middle      0.817350\n",
       "4396  qzjQ            0.05     11.75  middle      1.745736\n",
       "4397  eovY            0.03      1.20   early      0.000000\n",
       "\n",
       "[4398 rows x 5 columns]"
      ]
     },
     "execution_count": 78,
     "metadata": {},
     "output_type": "execute_result"
    }
   ],
   "source": [
    "# display our merged data\n",
    "merged"
   ]
  },
  {
   "cell_type": "markdown",
   "id": "b28f3128-c23e-4fa9-bb45-ddcb5cac7abb",
   "metadata": {},
   "source": [
    "**Question 5:** Figure out the explanation\n",
    "\n",
    "Using the merged data frame, and the original frames too as needed, explore the data, however you want, making whatever plots you want to illustrate points you think are important.\n",
    "\n",
    "What do you think is a more plausible biochemical explanation for why some genes appear to be upregulated in Moriarty's RNA-seq experiments?"
   ]
  },
  {
   "cell_type": "code",
   "execution_count": 37,
   "id": "a327b397-0370-4012-ab79-b1f6520fc34e",
   "metadata": {},
   "outputs": [
    {
     "data": {
      "text/html": [
       "<div>\n",
       "<style scoped>\n",
       "    .dataframe tbody tr th:only-of-type {\n",
       "        vertical-align: middle;\n",
       "    }\n",
       "\n",
       "    .dataframe tbody tr th {\n",
       "        vertical-align: top;\n",
       "    }\n",
       "\n",
       "    .dataframe thead th {\n",
       "        text-align: right;\n",
       "    }\n",
       "</style>\n",
       "<table border=\"1\" class=\"dataframe\">\n",
       "  <thead>\n",
       "    <tr style=\"text-align: right;\">\n",
       "      <th></th>\n",
       "      <th>gene</th>\n",
       "      <th>synthesis_rate</th>\n",
       "      <th>halflife</th>\n",
       "      <th>class</th>\n",
       "      <th>t30/t0_ratio</th>\n",
       "    </tr>\n",
       "  </thead>\n",
       "  <tbody>\n",
       "    <tr>\n",
       "      <th>4003</th>\n",
       "      <td>xwyX</td>\n",
       "      <td>0.57</td>\n",
       "      <td>0.14</td>\n",
       "      <td>early</td>\n",
       "      <td>0.0</td>\n",
       "    </tr>\n",
       "    <tr>\n",
       "      <th>242</th>\n",
       "      <td>mdyP</td>\n",
       "      <td>0.06</td>\n",
       "      <td>0.22</td>\n",
       "      <td>early</td>\n",
       "      <td>0.0</td>\n",
       "    </tr>\n",
       "    <tr>\n",
       "      <th>1513</th>\n",
       "      <td>rncK</td>\n",
       "      <td>0.44</td>\n",
       "      <td>0.26</td>\n",
       "      <td>early</td>\n",
       "      <td>0.0</td>\n",
       "    </tr>\n",
       "    <tr>\n",
       "      <th>4099</th>\n",
       "      <td>qvjN</td>\n",
       "      <td>0.08</td>\n",
       "      <td>0.27</td>\n",
       "      <td>early</td>\n",
       "      <td>0.0</td>\n",
       "    </tr>\n",
       "    <tr>\n",
       "      <th>1129</th>\n",
       "      <td>snlV</td>\n",
       "      <td>0.19</td>\n",
       "      <td>0.29</td>\n",
       "      <td>early</td>\n",
       "      <td>0.0</td>\n",
       "    </tr>\n",
       "  </tbody>\n",
       "</table>\n",
       "</div>"
      ],
      "text/plain": [
       "      gene  synthesis_rate  halflife  class  t30/t0_ratio\n",
       "4003  xwyX            0.57      0.14  early           0.0\n",
       "242   mdyP            0.06      0.22  early           0.0\n",
       "1513  rncK            0.44      0.26  early           0.0\n",
       "4099  qvjN            0.08      0.27  early           0.0\n",
       "1129  snlV            0.19      0.29  early           0.0"
      ]
     },
     "execution_count": 37,
     "metadata": {},
     "output_type": "execute_result"
    }
   ],
   "source": [
    "merged.sort_values(by=['halflife'], ascending = True)[0:5]"
   ]
  },
  {
   "cell_type": "code",
   "execution_count": 55,
   "id": "afa02c1d-2196-47b7-81ab-2a34e09d14f9",
   "metadata": {},
   "outputs": [
    {
     "data": {
      "text/plain": [
       "Text(0.5, 1.0, 'Frequency of Gene Classes')"
      ]
     },
     "execution_count": 55,
     "metadata": {},
     "output_type": "execute_result"
    },
    {
     "data": {
      "image/png": "[encoded data removed]",
      "text/plain": [
       "<Figure size 600x500 with 1 Axes>"
      ]
     },
     "metadata": {},
     "output_type": "display_data"
    }
   ],
   "source": [
    "# bar plot of gene classes\n",
    "fig, ax = plt.subplots(figsize = (6,5))\n",
    "\n",
    "classes = ['early', 'middle', 'late']\n",
    "bars = ax.bar(classes, merged['class'].value_counts(), 0.5)\n",
    "ax.bar_label(bars)\n",
    "ax.set_xlabel('Class')\n",
    "ax.set_ylabel('Frequency')\n",
    "ax.set_title('Frequency of Gene Classes')"
   ]
  },
  {
   "cell_type": "code",
   "execution_count": 121,
   "id": "c9dc9e8e-e6eb-4f95-97ca-ab75757f10e7",
   "metadata": {},
   "outputs": [
    {
     "data": {
      "image/png": "[encoded data removed]",
      "text/plain": [
       "<Figure size 640x480 with 1 Axes>"
      ]
     },
     "metadata": {},
     "output_type": "display_data"
    }
   ],
   "source": [
    "# create a line plot for the 'late' genes and observe their levels of mRNA expression over the time points\n",
    "late_gene_expression = moriarty_df[moriarty_df['class'] == 'late']\n",
    "late_gene_expression\n",
    "time_points = ['0m', '3m', '6m', '9m', '12m', '15m', '18m', '21m', '24m', '27m', '30m']\n",
    "\n",
    "averages = []\n",
    "\n",
    "for time in time_points:\n",
    "    averages.append(late_gene_expression[time].mean())    \n",
    "\n",
    "# plotting\n",
    "plt.plot(time_points, averages)\n",
    "plt.xlabel('Time Points')\n",
    "plt.ylabel('mRNA Expression Levels')\n",
    "plt.title('mRNA Expression of Late Genes Over Time')\n",
    "plt.show()"
   ]
  },
  {
   "cell_type": "code",
   "execution_count": 104,
   "id": "866f7522-4bc4-4087-84a0-58092968d9a6",
   "metadata": {},
   "outputs": [
    {
     "data": {
      "text/plain": [
       "[<matplotlib.lines.Line2D at 0x12df8c650>]"
      ]
     },
     "execution_count": 104,
     "metadata": {},
     "output_type": "execute_result"
    },
    {
     "data": {
      "image/png": "[encoded data removed]",
      "text/plain": [
       "<Figure size 640x480 with 1 Axes>"
      ]
     },
     "metadata": {},
     "output_type": "display_data"
    }
   ],
   "source": [
    "# plot halflife vs. t30/t0 ratio for late genes\n",
    "fig, ax = plt.subplots()\n",
    "\n",
    "x = merged[merged['class'] == 'late']['halflife']\n",
    "y = merged[merged['class'] == 'late']['t30/t0_ratio']\n",
    "\n",
    "ax.scatter(x, y, s = 2)\n",
    "ax.set_xlabel('Halflife')\n",
    "ax.set_ylabel('t30\\' / t0 ratio')\n",
    "ax.set_title('Halflife vs. t30/t0 ratio for \\'late\\' genes')\n",
    "\n",
    "# fit a linear regression line\n",
    "m, b = np.polyfit(x, y, 1)\n",
    "\n",
    "# plot the line of best fit\n",
    "ax.plot(x, m * x + b, color='black', linewidth = 0.5, linestyle='dashed')"
   ]
  },
  {
   "cell_type": "markdown",
   "id": "aa593a96-ded5-4ca6-971d-89b307b6e649",
   "metadata": {},
   "source": [
    "There appears to be a positive correlation between halflife and the t30/t0 ratio calculated. "
   ]
  },
  {
   "cell_type": "markdown",
   "id": "968b52e7-34d4-4138-b515-dfb2c017e26d",
   "metadata": {},
   "source": [
    "Since there appears to be a strong correlation between halflife and t3/t0, let's construct a violin plot for these two variables for the three different classes."
   ]
  },
  {
   "cell_type": "code",
   "execution_count": 126,
   "id": "0a44e546-09de-45e0-b46a-289b655ed459",
   "metadata": {},
   "outputs": [
    {
     "data": {
      "image/png": "[encoded data removed]",
      "text/plain": [
       "<Figure size 600x400 with 1 Axes>"
      ]
     },
     "metadata": {},
     "output_type": "display_data"
    }
   ],
   "source": [
    "# create violin plot\n",
    "fig, ax = plt.subplots(figsize=(6, 4))\n",
    "sns.violinplot(x=\"class\", y=\"halflife\", data=merged, ax=ax)\n",
    "\n",
    "# show the plot\n",
    "ax.set_title('Violin Plot of Halflife by Class')\n",
    "plt.show()"
   ]
  },
  {
   "cell_type": "code",
   "execution_count": 114,
   "id": "7f295941-6667-443e-9342-5a1834643945",
   "metadata": {},
   "outputs": [
    {
     "data": {
      "text/plain": [
       "Text(0.5, 1.0, \"Synthesis Rate vs. t30/t0 ratio for 'early' genes\")"
      ]
     },
     "execution_count": 114,
     "metadata": {},
     "output_type": "execute_result"
    },
    {
     "data": {
      "image/png": "[encoded data removed]",
      "text/plain": [
       "<Figure size 1200x300 with 2 Axes>"
      ]
     },
     "metadata": {},
     "output_type": "display_data"
    }
   ],
   "source": [
    "# look at the lack of overlap between high synthesis rate and t30'/t0 ratio\n",
    "\n",
    "# plot synthesis rate vs. t30/t0 ratio for late genes\n",
    "fig, (ax1, ax2) = plt.subplots(1, 2, figsize = (12,3), sharey=True, sharex=True)\n",
    "\n",
    "x = merged[merged['class'] == 'late']['synthesis_rate']\n",
    "y = merged[merged['class'] == 'late']['t30/t0_ratio']\n",
    "\n",
    "ax1.scatter(x, y, s = 2)\n",
    "ax1.set_xlabel('Synthesis Rate')\n",
    "ax1.set_ylabel('t30\\' / t0 ratio')\n",
    "ax1.set_title('Synthesis Rate vs. t30/t0 ratio for \\'late\\' genes')\n",
    "\n",
    "a = merged[merged['class'] == 'early']['synthesis_rate']\n",
    "b = merged[merged['class'] == 'early']['t30/t0_ratio']\n",
    "\n",
    "ax2.scatter(a, b, s = 2)\n",
    "ax2.set_xlabel('Synthesis Rate')\n",
    "ax2.set_ylabel('t30\\' / t0 ratio')\n",
    "ax2.set_title('Synthesis Rate vs. t30/t0 ratio for \\'early\\' genes')"
   ]
  },
  {
   "cell_type": "markdown",
   "id": "3624f1b0-afdd-4027-870e-0d1baaa18d5c",
   "metadata": {},
   "source": [
    "These are some interesting plots -- it seems that for late genes, the rate of synthesis is quite low except for a few outliers, but the t30/t0 ratios are higher. For early genes, the scatter is concentrated towards the bottom left of the graph, but there are more genes with a higher synthesis rate compared to in late genes (and also a high synthesis rate for early genes in relation to t30/t0 ratio)."
   ]
  },
  {
   "cell_type": "markdown",
   "id": "47cc58da-4d47-4c58-a3a2-58d9773db7a7",
   "metadata": {},
   "source": [
    "**Explanation for Moriarty's data:** \n",
    "\n",
    "Expression level measured in TPM is a measure of the relative abundance: it is the number of transcripts of a given gene (numerator) divided by the total number of transcripts measured * a million (denominator). \n",
    "\n",
    "The halflife indicates how long mRNA remains (length of time that the mRNA exists for) after it was expressed. \n",
    "\n",
    "Therefore, if a gene produces mRNA with a long halflife, the number of transcripts of that gene will remain constant until for a longer time (the numerator) while the total number of transcripts will decrease (denominator), causing expression level (TPM) to increase with time in Moriarty's graphs. Because 'early' genes make up a larger proportion of the genes that we examined, and they degrade faster or have a shorter halflife, the denominator decreases significantly with time as these 'early' genes degrade. The 'late' genes also have a longer halflife, which explains why the 'late' genes display a larger t30/t0 ratio. \n",
    "\n",
    "Moriarty is not recording TPM for longer time points (exceeding the long half-lives of these 'late' genes). Therefore, Moriarty's analysis is obscuring what occurs in expression levels (TPM) after the mRNA is degraded for these genes. "
   ]
  },
  {
   "cell_type": "code",
   "execution_count": 128,
   "id": "68a5e175-8c8b-4161-887d-8d67135fdbb5",
   "metadata": {},
   "outputs": [
    {
     "name": "stdout",
     "output_type": "stream",
     "text": [
      "The watermark extension is already loaded. To reload it, use:\n",
      "  %reload_ext watermark\n",
      "Python implementation: CPython\n",
      "Python version       : 3.12.5\n",
      "IPython version      : 8.27.0\n",
      "\n",
      "numpy     : 2.1.1\n",
      "matplotlib: 3.9.2\n",
      "\n",
      "Compiler    : Clang 16.0.6 \n",
      "OS          : Darwin\n",
      "Release     : 21.6.0\n",
      "Machine     : x86_64\n",
      "Processor   : i386\n",
      "CPU cores   : 4\n",
      "Architecture: 64bit\n",
      "\n"
     ]
    }
   ],
   "source": [
    "import watermark\n",
    "%load_ext watermark\n",
    "%watermark -v -m -p numpy,matplotlib"
   ]
  },
  {
   "cell_type": "code",
   "execution_count": null,
   "id": "d8316171-f689-4b88-ad8e-10e8dfac6dee",
   "metadata": {},
   "outputs": [],
   "source": []
  }
 ],
 "metadata": {
  "kernelspec": {
   "display_name": "Python 3 (ipykernel)",
   "language": "python",
   "name": "python3"
  },
  "language_info": {
   "codemirror_mode": {
    "name": "ipython",
    "version": 3
   },
   "file_extension": ".py",
   "mimetype": "text/x-python",
   "name": "python",
   "nbconvert_exporter": "python",
   "pygments_lexer": "ipython3",
   "version": "3.12.5"
  }
 },
 "nbformat": 4,
 "nbformat_minor": 5
}
